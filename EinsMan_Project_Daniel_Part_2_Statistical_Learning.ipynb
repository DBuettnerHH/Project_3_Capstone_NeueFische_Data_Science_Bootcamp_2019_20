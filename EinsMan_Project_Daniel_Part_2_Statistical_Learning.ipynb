{
 "cells": [
  {
   "cell_type": "markdown",
   "metadata": {
    "toc": true
   },
   "source": [
    "<h1>Table of Contents<span class=\"tocSkip\"></span></h1>\n",
    "<div class=\"toc\"><ul class=\"toc-item\"><li><span><a href=\"#EinsMan-Project-Daniel-Büttner,-Part-2:-Statistical-Modeling\" data-toc-modified-id=\"EinsMan-Project-Daniel-Büttner,-Part-2:-Statistical-Modeling-1\"><span class=\"toc-item-num\">1&nbsp;&nbsp;</span><u>EinsMan Project Daniel Büttner, Part 2: Statistical Modeling</u></a></span><ul class=\"toc-item\"><li><span><a href=\"#Project-Description:\" data-toc-modified-id=\"Project-Description:-1.1\"><span class=\"toc-item-num\">1.1&nbsp;&nbsp;</span>Project Description:</a></span><ul class=\"toc-item\"><li><span><a href=\"#Quadra-Energy-EinsMan-Loss-Work-Predictions\" data-toc-modified-id=\"Quadra-Energy-EinsMan-Loss-Work-Predictions-1.1.1\"><span class=\"toc-item-num\">1.1.1&nbsp;&nbsp;</span>Quadra Energy EinsMan Loss Work Predictions</a></span></li></ul></li><li><span><a href=\"#Data-Sets:\" data-toc-modified-id=\"Data-Sets:-1.2\"><span class=\"toc-item-num\">1.2&nbsp;&nbsp;</span>Data Sets:</a></span><ul class=\"toc-item\"><li><span><a href=\"#Combined-Quadra-and-GFS-data-sets:\" data-toc-modified-id=\"Combined-Quadra-and-GFS-data-sets:-1.2.1\"><span class=\"toc-item-num\">1.2.1&nbsp;&nbsp;</span>Combined Quadra and GFS data sets:</a></span></li></ul></li></ul></li><li><span><a href=\"#Load-relevant-Python-Packages-and-Modules:\" data-toc-modified-id=\"Load-relevant-Python-Packages-and-Modules:-2\"><span class=\"toc-item-num\">2&nbsp;&nbsp;</span>Load relevant Python Packages and Modules:</a></span></li><li><span><a href=\"#Load-the-Data-Set:\" data-toc-modified-id=\"Load-the-Data-Set:-3\"><span class=\"toc-item-num\">3&nbsp;&nbsp;</span>Load the Data Set:</a></span></li><li><span><a href=\"#Statistical-Modeling:\" data-toc-modified-id=\"Statistical-Modeling:-4\"><span class=\"toc-item-num\">4&nbsp;&nbsp;</span>Statistical Modeling:</a></span><ul class=\"toc-item\"><li><span><a href=\"#Correlation-Matrix-and-Heatmap:\" data-toc-modified-id=\"Correlation-Matrix-and-Heatmap:-4.1\"><span class=\"toc-item-num\">4.1&nbsp;&nbsp;</span>Correlation Matrix and Heatmap:</a></span></li><li><span><a href=\"#Linear-Regression:\" data-toc-modified-id=\"Linear-Regression:-4.2\"><span class=\"toc-item-num\">4.2&nbsp;&nbsp;</span>Linear Regression:</a></span><ul class=\"toc-item\"><li><span><a href=\"#Linear-Features:\" data-toc-modified-id=\"Linear-Features:-4.2.1\"><span class=\"toc-item-num\">4.2.1&nbsp;&nbsp;</span>Linear Features:</a></span></li><li><span><a href=\"#Polynomial-Features:\" data-toc-modified-id=\"Polynomial-Features:-4.2.2\"><span class=\"toc-item-num\">4.2.2&nbsp;&nbsp;</span>Polynomial Features:</a></span></li></ul></li><li><span><a href=\"#Divide-Target-and-Feature-Variables:\" data-toc-modified-id=\"Divide-Target-and-Feature-Variables:-4.3\"><span class=\"toc-item-num\">4.3&nbsp;&nbsp;</span>Divide Target and Feature Variables:</a></span><ul class=\"toc-item\"><li><span><a href=\"#All,-All-Wind,-Wind-100m:\" data-toc-modified-id=\"All,-All-Wind,-Wind-100m:-4.3.1\"><span class=\"toc-item-num\">4.3.1&nbsp;&nbsp;</span>All, All Wind, Wind 100m:</a></span></li></ul></li><li><span><a href=\"#Train-Test-Split:\" data-toc-modified-id=\"Train-Test-Split:-4.4\"><span class=\"toc-item-num\">4.4&nbsp;&nbsp;</span>Train-Test-Split:</a></span><ul class=\"toc-item\"><li><span><a href=\"#Blockwise-Train-Test-Split\" data-toc-modified-id=\"Blockwise-Train-Test-Split-4.4.1\"><span class=\"toc-item-num\">4.4.1&nbsp;&nbsp;</span>Blockwise Train-Test-Split</a></span><ul class=\"toc-item\"><li><span><a href=\"#All,-All-Wind,-Wind-100m:\" data-toc-modified-id=\"All,-All-Wind,-Wind-100m:-4.4.1.1\"><span class=\"toc-item-num\">4.4.1.1&nbsp;&nbsp;</span>All, All Wind, Wind 100m:</a></span></li></ul></li><li><span><a href=\"#Timeframe-Train-Test-Split:\" data-toc-modified-id=\"Timeframe-Train-Test-Split:-4.4.2\"><span class=\"toc-item-num\">4.4.2&nbsp;&nbsp;</span>Timeframe Train-Test-Split:</a></span><ul class=\"toc-item\"><li><span><a href=\"#All,-All-Wind,-Wind-100m:\" data-toc-modified-id=\"All,-All-Wind,-Wind-100m:-4.4.2.1\"><span class=\"toc-item-num\">4.4.2.1&nbsp;&nbsp;</span>All, All Wind, Wind 100m:</a></span></li></ul></li></ul></li><li><span><a href=\"#Feature-Scaling:\" data-toc-modified-id=\"Feature-Scaling:-4.5\"><span class=\"toc-item-num\">4.5&nbsp;&nbsp;</span>Feature Scaling:</a></span></li><li><span><a href=\"#Define-Evaluation-Functions-and-Plots:\" data-toc-modified-id=\"Define-Evaluation-Functions-and-Plots:-4.6\"><span class=\"toc-item-num\">4.6&nbsp;&nbsp;</span>Define Evaluation Functions and Plots:</a></span></li><li><span><a href=\"#Regression-Models:\" data-toc-modified-id=\"Regression-Models:-4.7\"><span class=\"toc-item-num\">4.7&nbsp;&nbsp;</span>Regression Models:</a></span><ul class=\"toc-item\"><li><span><a href=\"#Linear-Regression:\" data-toc-modified-id=\"Linear-Regression:-4.7.1\"><span class=\"toc-item-num\">4.7.1&nbsp;&nbsp;</span>Linear Regression:</a></span><ul class=\"toc-item\"><li><span><a href=\"#Model-Fit-and-Predict:\" data-toc-modified-id=\"Model-Fit-and-Predict:-4.7.1.1\"><span class=\"toc-item-num\">4.7.1.1&nbsp;&nbsp;</span>Model Fit and Predict:</a></span></li><li><span><a href=\"#Evaluation-Scores:\" data-toc-modified-id=\"Evaluation-Scores:-4.7.1.2\"><span class=\"toc-item-num\">4.7.1.2&nbsp;&nbsp;</span>Evaluation Scores:</a></span></li><li><span><a href=\"#Residual-Plots:\" data-toc-modified-id=\"Residual-Plots:-4.7.1.3\"><span class=\"toc-item-num\">4.7.1.3&nbsp;&nbsp;</span>Residual Plots:</a></span></li><li><span><a href=\"#Prediction-Plots:\" data-toc-modified-id=\"Prediction-Plots:-4.7.1.4\"><span class=\"toc-item-num\">4.7.1.4&nbsp;&nbsp;</span>Prediction Plots:</a></span></li><li><span><a href=\"#Cross-Validation-(blockwise):\" data-toc-modified-id=\"Cross-Validation-(blockwise):-4.7.1.5\"><span class=\"toc-item-num\">4.7.1.5&nbsp;&nbsp;</span>Cross Validation (blockwise):</a></span></li></ul></li><li><span><a href=\"#K-Neighbors-Regressor:\" data-toc-modified-id=\"K-Neighbors-Regressor:-4.7.2\"><span class=\"toc-item-num\">4.7.2&nbsp;&nbsp;</span>K-Neighbors Regressor:</a></span><ul class=\"toc-item\"><li><span><a href=\"#Model-Fit-and-Predict:\" data-toc-modified-id=\"Model-Fit-and-Predict:-4.7.2.1\"><span class=\"toc-item-num\">4.7.2.1&nbsp;&nbsp;</span>Model Fit and Predict:</a></span></li><li><span><a href=\"#Evaluation-Scores:\" data-toc-modified-id=\"Evaluation-Scores:-4.7.2.2\"><span class=\"toc-item-num\">4.7.2.2&nbsp;&nbsp;</span>Evaluation Scores:</a></span></li><li><span><a href=\"#Residual-Plots:\" data-toc-modified-id=\"Residual-Plots:-4.7.2.3\"><span class=\"toc-item-num\">4.7.2.3&nbsp;&nbsp;</span>Residual Plots:</a></span></li><li><span><a href=\"#Prediction-Plots:\" data-toc-modified-id=\"Prediction-Plots:-4.7.2.4\"><span class=\"toc-item-num\">4.7.2.4&nbsp;&nbsp;</span>Prediction Plots:</a></span></li><li><span><a href=\"#Cross-Validation-(blockwise):\" data-toc-modified-id=\"Cross-Validation-(blockwise):-4.7.2.5\"><span class=\"toc-item-num\">4.7.2.5&nbsp;&nbsp;</span>Cross Validation (blockwise):</a></span></li></ul></li><li><span><a href=\"#Random-Forest-Regressor:\" data-toc-modified-id=\"Random-Forest-Regressor:-4.7.3\"><span class=\"toc-item-num\">4.7.3&nbsp;&nbsp;</span>Random Forest Regressor:</a></span><ul class=\"toc-item\"><li><span><a href=\"#Model-Fit-and-Predict:\" data-toc-modified-id=\"Model-Fit-and-Predict:-4.7.3.1\"><span class=\"toc-item-num\">4.7.3.1&nbsp;&nbsp;</span>Model Fit and Predict:</a></span></li><li><span><a href=\"#Evaluation-Scores:\" data-toc-modified-id=\"Evaluation-Scores:-4.7.3.2\"><span class=\"toc-item-num\">4.7.3.2&nbsp;&nbsp;</span>Evaluation Scores:</a></span></li><li><span><a href=\"#Residual-Plots:\" data-toc-modified-id=\"Residual-Plots:-4.7.3.3\"><span class=\"toc-item-num\">4.7.3.3&nbsp;&nbsp;</span>Residual Plots:</a></span></li><li><span><a href=\"#Prediction-Plots:\" data-toc-modified-id=\"Prediction-Plots:-4.7.3.4\"><span class=\"toc-item-num\">4.7.3.4&nbsp;&nbsp;</span>Prediction Plots:</a></span></li><li><span><a href=\"#Cross-Validation-(blockwise):\" data-toc-modified-id=\"Cross-Validation-(blockwise):-4.7.3.5\"><span class=\"toc-item-num\">4.7.3.5&nbsp;&nbsp;</span>Cross Validation (blockwise):</a></span></li><li><span><a href=\"#Feature-Importances:\" data-toc-modified-id=\"Feature-Importances:-4.7.3.6\"><span class=\"toc-item-num\">4.7.3.6&nbsp;&nbsp;</span>Feature Importances:</a></span></li><li><span><a href=\"#Timeframe-Split:\" data-toc-modified-id=\"Timeframe-Split:-4.7.3.7\"><span class=\"toc-item-num\">4.7.3.7&nbsp;&nbsp;</span>Timeframe Split:</a></span></li></ul></li><li><span><a href=\"#XGBoost-Regressor:\" data-toc-modified-id=\"XGBoost-Regressor:-4.7.4\"><span class=\"toc-item-num\">4.7.4&nbsp;&nbsp;</span>XGBoost Regressor:</a></span><ul class=\"toc-item\"><li><span><a href=\"#Model-Fit-and-Predict:\" data-toc-modified-id=\"Model-Fit-and-Predict:-4.7.4.1\"><span class=\"toc-item-num\">4.7.4.1&nbsp;&nbsp;</span>Model Fit and Predict:</a></span></li><li><span><a href=\"#Evaluation-Scores:\" data-toc-modified-id=\"Evaluation-Scores:-4.7.4.2\"><span class=\"toc-item-num\">4.7.4.2&nbsp;&nbsp;</span>Evaluation Scores:</a></span></li><li><span><a href=\"#Residual-Plots:\" data-toc-modified-id=\"Residual-Plots:-4.7.4.3\"><span class=\"toc-item-num\">4.7.4.3&nbsp;&nbsp;</span>Residual Plots:</a></span></li><li><span><a href=\"#Prediction-Plots:\" data-toc-modified-id=\"Prediction-Plots:-4.7.4.4\"><span class=\"toc-item-num\">4.7.4.4&nbsp;&nbsp;</span>Prediction Plots:</a></span></li><li><span><a href=\"#Cross-Validation-(blockwise):\" data-toc-modified-id=\"Cross-Validation-(blockwise):-4.7.4.5\"><span class=\"toc-item-num\">4.7.4.5&nbsp;&nbsp;</span>Cross Validation (blockwise):</a></span></li></ul></li><li><span><a href=\"#Model-Comparison:\" data-toc-modified-id=\"Model-Comparison:-4.7.5\"><span class=\"toc-item-num\">4.7.5&nbsp;&nbsp;</span>Model Comparison:</a></span><ul class=\"toc-item\"><li><span><a href=\"#Prediction-Plots:\" data-toc-modified-id=\"Prediction-Plots:-4.7.5.1\"><span class=\"toc-item-num\">4.7.5.1&nbsp;&nbsp;</span>Prediction Plots:</a></span></li><li><span><a href=\"#Cross-Validation-(compare-results):\" data-toc-modified-id=\"Cross-Validation-(compare-results):-4.7.5.2\"><span class=\"toc-item-num\">4.7.5.2&nbsp;&nbsp;</span>Cross Validation (compare results):</a></span></li></ul></li></ul></li></ul></li><li><span><a href=\"#Demo-Prediction:\" data-toc-modified-id=\"Demo-Prediction:-5\"><span class=\"toc-item-num\">5&nbsp;&nbsp;</span>Demo Prediction:</a></span></li></ul></div>"
   ]
  },
  {
   "cell_type": "markdown",
   "metadata": {},
   "source": [
    "# <u>EinsMan Project Daniel Büttner, Part 2: Statistical Modeling</u>"
   ]
  },
  {
   "cell_type": "markdown",
   "metadata": {},
   "source": [
    "## Project Description:"
   ]
  },
  {
   "cell_type": "markdown",
   "metadata": {},
   "source": [
    "### Quadra Energy EinsMan Loss Work Predictions\n",
    "\n",
    "Power production from renewable energy sources, like wind or solar radiation, are very volatile due to changing weather conditions. The highly variable weather characteristics of Germany’s mid-latitude climate and its uncertain forecasts make the anticipation of the actual instantaneous overall power supply a tough call for all market players.<br><br>\n",
    "The strong development of on- and off-shore wind power of the past 5-10 years in Germany (and to some extent solar power as well) and the simultaneously slow grid expansion led to vastly increased occurrences of grid bottleneck situations (oversupply, missing powerline capacities), especially during strong wind conditions. In order to maintain the overall stability of the power grid, the operators have actions to be taken. After all other existing measures are exhausted, grid operators can temporarily exclude wind farms and their respective energy supply from the grid in the necessary order of magnitude.<br><br>\n",
    "These exclusions are called feed-in management (in German “Einspeisemanagement”), or in short Einsman/Eisman. The energy “lost” during these Einsman situations are called loss work. The total loss work for Germany amounted to 5,5 TWh in 2017, an increase by a factor of 75 compared to 2009.<br><br>\n",
    "Anticipating these energy management situations in advance is crucial in order to prevent direct marketers of renewable energy from having to fill supply gaps by buying on the intraday exchange to often (highly) increased prices compared to preceding day ahead prices.<br><br>\n",
    "For the purpose of deriving such anticipation/prediction of these Einsman regulation events, Quadra Energy provided the following data about power generation and meteorological model features:"
   ]
  },
  {
   "cell_type": "markdown",
   "metadata": {},
   "source": [
    "## Data Sets:"
   ]
  },
  {
   "cell_type": "markdown",
   "metadata": {},
   "source": [
    "### Combined Quadra and GFS data sets:\n",
    "\n",
    "- Data from Wind Power Plants in Schleswig-Holstein (summed up production values, normed)\n",
    "- Covering around 300 MW of installed power\n",
    "- Data from GFS grid cells over the target region of Schleswig-Holstein\n",
    "- Mean Values over all selected grid cells\n",
    "- Time Span: 2018-01-01 06:00 to 2019-08-26 18:00 UTC\n",
    "- Time Resolution: and 10 min\n",
    "    - GFS data is upsampled to Quadra resolution, as GFS Data are hourly instantaneous values, they are allocated to 10 min values as follows:\n",
    "        - all variables (except wind direction and elevation angle) are linearly interpolated\n",
    "        - wind direction is allocated as follows (due to averaging issues):\n",
    "            - forward fill 3 steps, backward fill 2 steps\n",
    "        - elevation is interpolated quadratic\n",
    "- All GFS model runs are used (00 UTC, 06 UTC, 12 UTC, 18 UTC)\n",
    "- The most recent 6 h forecast horizons are used and assembled\n",
    "- Assembly of the forecasts: \n",
    "    - 00 UTC model run delivers data for the following 06 UTC to 12 UTC time span\n",
    "    - 06 UTC model run delivers data for the following 12 UTC to 18 UTC time span\n",
    "    - 12 UTC model run delivers data for the following 18 UTC to 00 UTC time span\n",
    "    - 18 UTC model run delivers data for the following 00 UTC to 06 UTC time span\n",
    "<br><br>\n",
    "\n",
    "\n",
    "| Column Number | Variable Name | Description |\n",
    "| :--- | :--- | :--- |\n",
    "| 0 | 'losses_rtu_einsman_norm' | Loss work due to EinsMan events, power supply shut down during management situations, normed: loss work / installed power|\n",
    "| 1 | 'power_available_norm' | potentially available power supply (power curves * wind conditions), normed: available power supply / installed power |\n",
    "| 2 | 'losses_rtu_einsman_frac' | Loss work fraction due to EinsMan events, loss work divided by potentially available power supply (in percentage) |\n",
    "| 3 | 'wsp_10m_ms' | Wind Speed in 10m |\n",
    "| 4 | 'wsp_100m_ms' | Wind Speed in 100m |\n",
    "| 5 | 'wsp_pfg30_ms' | Wind Speed, mean over first 30 hPa (~250 m) |\n",
    "| 6 | 'wsp_pl925_ms' | Wind Speed in 925 hPa Pressure Level |\n",
    "| 7 | 'gust_sfc_ms' | wind gust surface |\n",
    "| 8 | 'wdir_10m_dn'| Wind Direction in 10m |\n",
    "| 9 | 'wdir_100m_dn' | Wind Direction in 100m |\n",
    "| 10 | 'wdir_pfg30_dn' | Wind Direction, mean over first 30 hPa (~250 m) |\n",
    "| 11 | 'wdir_pl925_dn' | Wind Direction in 925 hPa Pressure Level |\n",
    "| 12 | 't_2m_k' | Temperature in 2m |\n",
    "| 13 | 't_100m_k' | Temperature in 100m |\n",
    "| 14 | 't_pfg30_k' | Temperature, mean over first 30 hPa (~250 m) |\n",
    "| 15 | 'pottemp_80mto0m_K' | Potential Temperature Difference between 80m and 0m |\n",
    "| 16 | 'q_2m_1' | Specific Humidity in 2m |\n",
    "| 17 | 'q_pfg30_1' | Specific Humidity, mean over first 30 hPa (~250 m) |\n",
    "| 18 | 'r_pl950_perc' | Relative Humidity in p=950 hPa level |\n",
    "| 19 | 'r_pl925_perc' | Relative Humidity in p=925 hPa level |\n",
    "| 20 | 'tcclow_sfc_perc' | Total Cloud Cover, Low Level Clouds, 0 - 2 km |\n",
    "| 21 | 'tccmedium_sfc_perc' | Total Cloud Cover, Mid Level Clouds, 2 - 7 km |\n",
    "| 22 | 'msl_ms_pa' | Mean Sea Level Pressure | \n",
    "| 23 | 'hpbl_sfc_m' | Planetary boundary layer height |\n",
    "| 24 | 'shtfl_sfc_wm2' | Net Sensible heat flux | \n",
    "| 25 | 'dswrf_sfc_wm2' | Net downward shortwave radiation flux |\n",
    "| 26 | 'azimuth' | Azimuth Angle, Solar Altitude |\n",
    "| 27 | 'elevation' | Elevation Angle, Solar Altitude (>0° 'Daytime', <0° 'Nighttime') |\n",
    "| 28 | 'created_on' | Date of the GFS Forecast run used |"
   ]
  },
  {
   "cell_type": "markdown",
   "metadata": {},
   "source": [
    "# Load relevant Python Packages and Modules:"
   ]
  },
  {
   "cell_type": "code",
   "execution_count": null,
   "metadata": {},
   "outputs": [],
   "source": [
    "# Python Basics:\n",
    "import numpy as np\n",
    "import pandas as pd\n",
    "import matplotlib.pyplot as plt\n",
    "import seaborn as sns\n",
    "import pickle\n",
    "import pprint\n",
    "import random\n",
    "from random import seed\n",
    "\n",
    "\n",
    "# Statsmodels and Scipy:\n",
    "from scipy import stats\n",
    "from scipy.stats.stats import pearsonr\n",
    "from scipy.stats.stats import spearmanr\n",
    "from scipy.stats.stats import kendalltau\n",
    "import statsmodels.api as sms\n",
    "import statsmodels.formula.api as smf\n",
    "from statsmodels.graphics.gofplots import ProbPlot\n",
    "from statsmodels.graphics import tsaplots\n",
    "from statsmodels.tsa.stattools import adfuller    # test for stationarity (Null-HP: non stationary due to trend)\n",
    "\n",
    "\n",
    "\n",
    "# Sklearn Model Selection and Metrics:\n",
    "from sklearn.model_selection import train_test_split\n",
    "from sklearn.model_selection import GridSearchCV\n",
    "from sklearn.model_selection import RandomizedSearchCV\n",
    "from sklearn.model_selection import cross_val_score\n",
    "\n",
    "from sklearn.model_selection import KFold\n",
    "from sklearn.model_selection import GroupKFold\n",
    "from sklearn.model_selection import ShuffleSplit\n",
    "from sklearn.model_selection import StratifiedKFold\n",
    "from sklearn.model_selection import GroupShuffleSplit\n",
    "from sklearn.model_selection import StratifiedShuffleSplit\n",
    "from sklearn.model_selection import TimeSeriesSplit\n",
    "\n",
    "from sklearn.metrics import r2_score\n",
    "from sklearn.metrics import explained_variance_score\n",
    "from sklearn.metrics import mean_squared_error\n",
    "from sklearn.metrics import mean_absolute_error\n",
    "\n",
    "from sklearn.metrics import confusion_matrix\n",
    "from sklearn.metrics import classification_report\n",
    "from sklearn.metrics import fbeta_score\n",
    "from sklearn.metrics import accuracy_score\n",
    "\n",
    "from sklearn.metrics import make_scorer\n",
    "\n",
    "\n",
    "# Preprocessing:\n",
    "from sklearn.impute import SimpleImputer\n",
    "from sklearn.preprocessing import MinMaxScaler\n",
    "from sklearn.preprocessing import RobustScaler\n",
    "from sklearn.preprocessing import StandardScaler\n",
    "from sklearn.preprocessing import PolynomialFeatures\n",
    "\n",
    "from sklearn.utils import shuffle\n",
    "\n",
    "#from imblearn.under_sampling import RandomUnderSampler\n",
    "#from sklearn import decomposition\n",
    "\n",
    "\n",
    "# Regressors:\n",
    "from sklearn.linear_model import LinearRegression\n",
    "from sklearn.linear_model import SGDRegressor\n",
    "from sklearn.tree import DecisionTreeRegressor\n",
    "from sklearn.ensemble import RandomForestRegressor\n",
    "from sklearn.ensemble import AdaBoostRegressor\n",
    "from xgboost import XGBRegressor\n",
    "from sklearn.ensemble import GradientBoostingRegressor\n",
    "from sklearn.neighbors import KNeighborsRegressor\n",
    "from sklearn.neighbors import RadiusNeighborsRegressor\n",
    "from sklearn.svm import SVR\n",
    "from sklearn.gaussian_process import GaussianProcessRegressor\n",
    "from sklearn.gaussian_process.kernels import RBF, ConstantKernel as C\n",
    "\n",
    "from sklearn.neural_network import MLPRegressor\n",
    "\n",
    "\n",
    "# Classifiers:\n",
    "from sklearn.linear_model import LogisticRegression\n",
    "from sklearn.tree import DecisionTreeClassifier\n",
    "from sklearn.ensemble import RandomForestClassifier\n",
    "from sklearn.ensemble import AdaBoostClassifier\n",
    "from xgboost import XGBClassifier\n",
    "\n",
    "\n",
    "# Yellowbrick Visualisation:\n",
    "from yellowbrick.model_selection import ValidationCurve\n",
    "from yellowbrick.model_selection import CVScores\n",
    "from yellowbrick.regressor import ResidualsPlot\n",
    "from yellowbrick.regressor import PredictionError\n",
    "\n",
    "from yellowbrick.style import set_palette\n",
    "\n",
    "\n",
    "# Plotly Visualisation:\n",
    "import plotly as py\n",
    "import plotly.graph_objects as go\n",
    "from plotly.subplots import make_subplots\n",
    "\n",
    "\n",
    "# Bokeh Visualisation\n",
    "\n",
    "from bokeh.io import output_file\n",
    "from bokeh.io import output_notebook\n",
    "from bokeh.io import show\n",
    "from bokeh.plotting import figure\n",
    "from bokeh.plotting import reset_output\n",
    "from bokeh.models import ColumnDataSource\n",
    "from bokeh.models import HoverTool\n",
    "\n",
    "\n",
    "\n",
    "# Various:\n",
    "from operator import itemgetter\n",
    "import importlib\n",
    "import pylab\n",
    "\n",
    "#import os\n",
    "#os.environ['KMP_DUPLICATE_LIB_OK']='True'\n",
    "#from collections import Counter\n",
    "#import time"
   ]
  },
  {
   "cell_type": "code",
   "execution_count": null,
   "metadata": {},
   "outputs": [],
   "source": []
  },
  {
   "cell_type": "markdown",
   "metadata": {},
   "source": [
    "# Load the Data Set:"
   ]
  },
  {
   "cell_type": "code",
   "execution_count": null,
   "metadata": {},
   "outputs": [],
   "source": [
    "# 10 min Data Set:\n",
    "\n",
    "df_gq_10min = pd.read_csv('/Users/dbuettner/nf-ds/Week_9_and_beyond/Capstone_Project/Quadra/data/df_gq_10min.csv', index_col='index', parse_dates=True)\n",
    "\n",
    "# Set timezone to UTC:\n",
    "df_gq_10min.index = df_gq_10min.index.tz_localize(tz='UTC')\n",
    "\n",
    "#Set frequency to hourly:\n",
    "df_gq_10min = df_gq_10min.asfreq('10T')\n",
    "\n",
    "# Keep a copy:\n",
    "df_gq_10min_copy = df_gq_10min.copy()\n",
    "\n",
    "# Drop Forecast Run date information:\n",
    "df_gq_10min.drop(['created_on'], axis=1, inplace=True)\n",
    "\n",
    "# Rename Columns with % Symbol:\n",
    "df_gq_10min.rename(columns={'r_pl925_%': 'r_pl925_perc',\n",
    "                            'r_pl950_%': 'r_pl950_perc',\n",
    "                            'tcclow_sfc_%': 'tcclow_sfc_perc',\n",
    "                            'tccmedium_sfc_%': 'tccmedium_sfc_perc'},\n",
    "                             inplace=True)"
   ]
  },
  {
   "cell_type": "code",
   "execution_count": null,
   "metadata": {},
   "outputs": [],
   "source": []
  },
  {
   "cell_type": "code",
   "execution_count": null,
   "metadata": {},
   "outputs": [],
   "source": []
  },
  {
   "cell_type": "code",
   "execution_count": null,
   "metadata": {},
   "outputs": [],
   "source": [
    "#df_gq_10min.info()"
   ]
  },
  {
   "cell_type": "code",
   "execution_count": null,
   "metadata": {},
   "outputs": [],
   "source": [
    "#df_gq_10min.iloc[len(df_gq_10min) - 1]"
   ]
  },
  {
   "cell_type": "code",
   "execution_count": null,
   "metadata": {},
   "outputs": [],
   "source": []
  },
  {
   "cell_type": "markdown",
   "metadata": {},
   "source": [
    "# Statistical Modeling:"
   ]
  },
  {
   "cell_type": "markdown",
   "metadata": {},
   "source": [
    "## Correlation Matrix and Heatmap:"
   ]
  },
  {
   "cell_type": "code",
   "execution_count": null,
   "metadata": {},
   "outputs": [],
   "source": [
    "# Compute Correlation Matrix:\n",
    "\n",
    "corr_mat_gq_10min = df_gq_10min.corr()"
   ]
  },
  {
   "cell_type": "code",
   "execution_count": null,
   "metadata": {},
   "outputs": [],
   "source": []
  },
  {
   "cell_type": "code",
   "execution_count": null,
   "metadata": {},
   "outputs": [],
   "source": [
    "# Plot Correlation Matrix as Heatmap:\n",
    "\n",
    "plt.figure(figsize=(18,18))\n",
    "sns.set(font_scale=1.2)\n",
    "sns.heatmap(corr_mat_gq_10min, cmap='PuOr', center=0.0, annot=True, annot_kws={'size': 12})\n",
    "plt.show()"
   ]
  },
  {
   "cell_type": "code",
   "execution_count": null,
   "metadata": {},
   "outputs": [],
   "source": [
    "# Plot Correlation Matrix as Clustermap:\n",
    "\n",
    "sns.set(font_scale=1.2)\n",
    "sns.clustermap(corr_mat_gq_10min, cmap='PuOr', center=0.0, annot=True, annot_kws={'size': 12}, figsize=(18,18))\n",
    "plt.show()"
   ]
  },
  {
   "cell_type": "code",
   "execution_count": null,
   "metadata": {},
   "outputs": [],
   "source": [
    "# Select highest correlated variables to Loss Work, compute correlation matrix and visualize annotated heatmap:\n",
    "\n",
    "k = 11 #number of variables for heatmap\n",
    "cols_corr_mat = corr_mat_gq_10min.nlargest(k, 'losses_rtu_einsman_norm')['losses_rtu_einsman_norm'].index\n",
    "cm = np.corrcoef(df_gq_10min[cols_corr_mat].dropna().values.T)\n",
    "sns.set(font_scale=1.2)\n",
    "plt.subplots(figsize=(12,12))\n",
    "hm = sns.heatmap(cm, annot=True, fmt='.3f', annot_kws={'size': 12},\n",
    "                 yticklabels=cols_corr_mat.values, xticklabels=cols_corr_mat.values, cmap='PuOr', center=0.0)\n",
    "plt.show()"
   ]
  },
  {
   "cell_type": "markdown",
   "metadata": {},
   "source": [
    "## Linear Regression:"
   ]
  },
  {
   "cell_type": "markdown",
   "metadata": {},
   "source": [
    "### Linear Features:"
   ]
  },
  {
   "cell_type": "code",
   "execution_count": null,
   "metadata": {},
   "outputs": [],
   "source": [
    "# Loop Single Linear Regression over all Feature Variables and store R_Squared_Adjusted Scores:\n",
    "\n",
    "cols = df_gq_1h.drop('losses_rtu_einsman_norm', axis=1).columns\n",
    "\n",
    "r2_score_adj_list = []\n",
    "r2_score_adj_dict = {}   # dictionaries are inherently unstructured data types, no way of sorting afterwards\n",
    "\n",
    "for i in range(len(cols)):\n",
    "    \n",
    "    formula = 'losses_rtu_einsman_norm ~ ' + str(cols[i])\n",
    "    \n",
    "    model = smf.ols(data = df_gq_1h, formula = formula)\n",
    "    reg = model.fit()\n",
    "    #results1.summary()\n",
    "    #print(str(cols[i]) + ' R_squared_adj: + ' + str(results1.rsquared_adj))\n",
    "    r2_score_adj_list.append((cols[i], reg.rsquared_adj))\n",
    "    r2_score_adj_dict[cols[i]] = reg.rsquared_adj"
   ]
  },
  {
   "cell_type": "code",
   "execution_count": null,
   "metadata": {},
   "outputs": [],
   "source": [
    "#sorted(r2_score_adj_list, key=itemgetter(1), reverse=True)\n",
    "#r2_score_adj_dict"
   ]
  },
  {
   "cell_type": "code",
   "execution_count": null,
   "metadata": {},
   "outputs": [],
   "source": [
    "df_r2_score_adj = pd.DataFrame(list(r2_score_adj_dict.items()), columns=['Variable', 'r2_score_adj'])"
   ]
  },
  {
   "cell_type": "code",
   "execution_count": null,
   "metadata": {},
   "outputs": [],
   "source": [
    "df_r2_score_adj = df_r2_score_adj.sort_values(by='r2_score_adj', ascending=False)\n",
    "df_r2_score_adj.reset_index(inplace=True, drop=True)\n",
    "df_r2_score_adj"
   ]
  },
  {
   "cell_type": "code",
   "execution_count": null,
   "metadata": {},
   "outputs": [],
   "source": [
    "# Best 6 Features:\n",
    "cols_best_corr = df_r2_score_adj.Variable[1:7].tolist()\n",
    "cols_best_corr"
   ]
  },
  {
   "cell_type": "code",
   "execution_count": null,
   "metadata": {},
   "outputs": [],
   "source": [
    "# Build Linear Regression with Best Feature of Single Regressions Evaluation:\n",
    "\n",
    "formula2 = 'losses_rtu_einsman_norm ~ wsp_10m_ms'\n",
    "\n",
    "model2 = smf.ols(data = df_gq_1h, formula = formula2)\n",
    "reg2 = model2.fit()\n",
    "reg2.summary()"
   ]
  },
  {
   "cell_type": "code",
   "execution_count": null,
   "metadata": {},
   "outputs": [],
   "source": [
    "len(reg2.fittedvalues)\n",
    "#len(df_gq_1h.dropna().losses_rtu_einsman_norm.values)"
   ]
  },
  {
   "cell_type": "code",
   "execution_count": null,
   "metadata": {
    "code_folding": []
   },
   "outputs": [],
   "source": [
    "# Plotting Residuals (y_true - y_predict) againts Predicted Values, test for randomness of residuals (around 0) \n",
    "\n",
    "y_pred2 = reg2.fittedvalues\n",
    "#y_true = df_gq_1h.dropna().losses_rtu_einsman_norm.values\n",
    "#residuals2 = y_true - y_pred2\n",
    "residuals2 = reg2.resid\n",
    "\n",
    "plt.style.use('seaborn')\n",
    "plt.figure(figsize=(12,10))\n",
    "plt.scatter(y_pred2, residuals2, alpha=0.8, s=5)\n",
    "plt.axhline(0, linestyle='--', color='r', alpha=0.7)\n",
    "plt.xlabel('Fitted Values')\n",
    "plt.ylabel('Residuals (y_true - y_predict)')\n",
    "plt.title('Residuals vs Fitted')\n",
    "plt.show()"
   ]
  },
  {
   "cell_type": "code",
   "execution_count": null,
   "metadata": {
    "code_folding": []
   },
   "outputs": [],
   "source": [
    "# Ploting Normal Quantile - Quantile Plots:\n",
    "# Ordered Model Residual Quantiles against Theoretical Quantiles\n",
    "\n",
    "norm_residuals2 = reg2.get_influence().resid_studentized_internal\n",
    "\n",
    "QQ_reg2 = ProbPlot(norm_residuals2)\n",
    "plot_lm2 = QQ_reg2.qqplot(line='45', alpha=0.6, color='b', lw=1)\n",
    "plot_lm2.set_figheight(8)\n",
    "plot_lm2.set_figwidth(10)\n",
    "plt.title('Normal Q-Q')\n",
    "plt.show()"
   ]
  },
  {
   "cell_type": "code",
   "execution_count": null,
   "metadata": {},
   "outputs": [],
   "source": []
  },
  {
   "cell_type": "code",
   "execution_count": null,
   "metadata": {},
   "outputs": [],
   "source": []
  },
  {
   "cell_type": "code",
   "execution_count": null,
   "metadata": {},
   "outputs": [],
   "source": []
  },
  {
   "cell_type": "code",
   "execution_count": null,
   "metadata": {},
   "outputs": [],
   "source": [
    "# Build Multiple Linear Regression with Best Features of Single Regression:\n",
    "\n",
    "formula3 = 'losses_rtu_einsman_norm ~ wsp_10m_ms + wsp_100m_ms + wsp_pfg30_ms + wsp_pl925_ms\\\n",
    "                                      + gust_sfc_ms' # + hpbl_sfc_m'\n",
    "\n",
    "model3 = smf.ols(data = df_gq_1h, formula = formula3)\n",
    "reg3 = model3.fit()\n",
    "reg3.summary()"
   ]
  },
  {
   "cell_type": "code",
   "execution_count": null,
   "metadata": {
    "code_folding": []
   },
   "outputs": [],
   "source": [
    "# Plotting Residuals (y_true - y_predict) againts Predicted Values, test for randomness of residuals (around 0) \n",
    "\n",
    "y_pred3 = reg3.fittedvalues\n",
    "#y_true = df_gq_1h.dropna().losses_rtu_einsman_norm.values\n",
    "#residuals2 = y_true - y_pred2\n",
    "residuals3 = reg3.resid\n",
    "\n",
    "plt.style.use('seaborn')\n",
    "plt.figure(figsize=(12,10))\n",
    "plt.scatter(y_pred3, residuals3, alpha=0.8, s=5)\n",
    "plt.axhline(0, linestyle='--', color='r', alpha=0.7)\n",
    "plt.xlabel('Fitted Values')\n",
    "plt.ylabel('Residuals (y_true - y_predict)')\n",
    "plt.title('Residuals vs Fitted')\n",
    "plt.show()"
   ]
  },
  {
   "cell_type": "code",
   "execution_count": null,
   "metadata": {},
   "outputs": [],
   "source": [
    "# Ploting Normal Quantile - Quantile Plots:\n",
    "# Ordered Model Residual Quantiles against Theoretical Quantiles\n",
    "\n",
    "norm_residuals3 = reg3.get_influence().resid_studentized_internal\n",
    "\n",
    "QQ_reg3 = ProbPlot(norm_residuals3)\n",
    "plot_lm3 = QQ_reg3.qqplot(line='45', alpha=0.6, color='b', lw=1)\n",
    "plot_lm3.set_figheight(8)\n",
    "plot_lm3.set_figwidth(10)\n",
    "plt.title('Normal Q-Q')\n",
    "plt.show()"
   ]
  },
  {
   "cell_type": "markdown",
   "metadata": {},
   "source": [
    "### Polynomial Features:"
   ]
  },
  {
   "cell_type": "code",
   "execution_count": null,
   "metadata": {},
   "outputs": [],
   "source": [
    "# Build Linear Regression with Best Feature of Single Regressions Evaluation plus Polynomial Feature (Degree 2):\n",
    "\n",
    "# tested: linear plus poly (deg=2) gives best result in r2_adj\n",
    "# x            = 0.577\n",
    "# x2           = 0.703\n",
    "# x3           = 0.717\n",
    "# x4           = 0.648\n",
    "# x5           = 0.539\n",
    "# x + x2       = 0.738\n",
    "# x + x3       = 0.718\n",
    "# x2 + x3      = 0.721\n",
    "# x + x2 + x3  = 0.747  # but condition number high!!\n",
    "# slight increase when adding more poly features (but cond no!!), but biggest jump when adding degree 2\n",
    "\n",
    "formula10 = 'losses_rtu_einsman_norm ~ wsp_100m_ms + I(wsp_100m_ms**2)'\n",
    "\n",
    "model10 = smf.ols(data = df_gq_10min, formula = formula10)\n",
    "reg10 = model10.fit()\n",
    "reg10.summary()"
   ]
  },
  {
   "cell_type": "code",
   "execution_count": null,
   "metadata": {},
   "outputs": [],
   "source": [
    "# Build Linear Regression with Best Feature of Single Regressions Evaluation plus Polynomial Feature (Degree 2):\n",
    "\n",
    "# tested: linear plus poly (deg=2) gives best result in r2_adj\n",
    "# x            = 0.577\n",
    "# x2           = 0.703\n",
    "# x3           = 0.717\n",
    "# x4           = 0.648\n",
    "# x5           = 0.539\n",
    "# x + x2       = 0.738\n",
    "# x + x3       = 0.718\n",
    "# x2 + x3      = 0.721\n",
    "# x + x2 + x3  = 0.747  # but condition number high!!\n",
    "# slight increase when adding more poly features (but cond no!!), but biggest jump when adding degree 2\n",
    "\n",
    "formula4 = 'losses_rtu_einsman_norm ~ wsp_10m_ms + I(wsp_10m_ms**2)'\n",
    "\n",
    "model4 = smf.ols(data = df_gq_1h, formula = formula4)\n",
    "reg4 = model4.fit()\n",
    "reg4.summary()"
   ]
  },
  {
   "cell_type": "code",
   "execution_count": null,
   "metadata": {},
   "outputs": [],
   "source": [
    "# Plotting Residuals (y_true - y_predict) againts Predicted Values, test for randomness of residuals (around 0) \n",
    "\n",
    "y_pred4 = reg4.fittedvalues\n",
    "#y_true = df_gq_1h.dropna().losses_rtu_einsman_norm.values\n",
    "#residuals2 = y_true - y_pred2\n",
    "residuals4 = reg4.resid\n",
    "\n",
    "plt.style.use('seaborn')\n",
    "plt.figure(figsize=(12,10))\n",
    "plt.scatter(y_pred4, residuals4, alpha=0.8, s=5)\n",
    "plt.axhline(0, linestyle='--', color='r', alpha=0.7)\n",
    "plt.xlabel('Fitted Values')\n",
    "plt.ylabel('Residuals (y_true - y_predict)')\n",
    "plt.title('Residuals vs Fitted')\n",
    "plt.show()"
   ]
  },
  {
   "cell_type": "code",
   "execution_count": null,
   "metadata": {},
   "outputs": [],
   "source": [
    "# Ploting Normal Quantile - Quantile Plots:\n",
    "# Ordered Model Residual Quantiles against Theoretical Quantiles\n",
    "\n",
    "norm_residuals4 = reg4.get_influence().resid_studentized_internal\n",
    "\n",
    "QQ_reg4 = ProbPlot(norm_residuals4)\n",
    "plot_lm4 = QQ_reg4.qqplot(line='45', alpha=0.6, color='b', lw=1)\n",
    "plot_lm4.set_figheight(8)\n",
    "plot_lm4.set_figwidth(10)\n",
    "plt.title('Normal Q-Q')\n",
    "plt.show()"
   ]
  },
  {
   "cell_type": "code",
   "execution_count": null,
   "metadata": {},
   "outputs": [],
   "source": [
    "# Polynomial Regression using different Numbers of Variables:\n",
    "# I) Best columns according to correlation matrix\n",
    "# II) All columns\n",
    "\n",
    "# Check Statsmodels sms.OLS function (compared to formula version in smf)\n",
    "#X = df_gq_1h.dropna().wsp_10m_ms\n",
    "#X = sms.add_constant(X)\n",
    "#model5 = sms.OLS(y, X)\n",
    "\n",
    "# Create Polynomial Features (Constant added while fit_transform):\n",
    "poly_features = PolynomialFeatures(degree=1)\n",
    "#X = df_gq_1h.dropna()[['power_available_norm', 'wsp_10m_ms']] # fit with 'power_available_norm' high, but unfair\n",
    "#X = df_gq_1h.dropna().wsp_10m_ms.ravel().reshape(-1,1)\n",
    "#X = df_gq_1h.dropna().drop(['losses_rtu_einsman_norm', 'power_available_norm'], axis=1)# deg2: very high cond no\n",
    "X = df_gq_1h.dropna()[cols_best_corr[:-1]] # deg2: high cond no\n",
    "X_poly = poly_features.fit_transform(X)\n",
    "y = df_gq_1h.dropna().losses_rtu_einsman_norm\n",
    "model5 = sms.OLS(y, X_poly)\n",
    "\n",
    "reg5 = model5.fit()\n",
    "reg5.summary()"
   ]
  },
  {
   "cell_type": "code",
   "execution_count": null,
   "metadata": {},
   "outputs": [],
   "source": [
    "# Plotting Residuals (y_true - y_predict) againts Predicted Values, test for randomness of residuals (around 0) \n",
    "\n",
    "y_pred5 = reg5.fittedvalues\n",
    "#y_true = df_gq_1h.dropna().losses_rtu_einsman_norm.values\n",
    "#residuals2 = y_true - y_pred2\n",
    "residuals5 = reg5.resid\n",
    "\n",
    "plt.style.use('seaborn')\n",
    "plt.figure(figsize=(12,10))\n",
    "plt.scatter(y_pred5, residuals5, alpha=0.8, s=3)\n",
    "plt.axhline(0, linestyle='--', color='r', alpha=0.7)\n",
    "plt.xlabel('Fitted Values')\n",
    "plt.ylabel('Residuals (y_true - y_predict)')\n",
    "plt.title('Residuals vs Fitted')\n",
    "plt.show()"
   ]
  },
  {
   "cell_type": "code",
   "execution_count": null,
   "metadata": {},
   "outputs": [],
   "source": [
    "# Ploting Normal Quantile - Quantile Plots:\n",
    "# Ordered Model Residual Quantiles against Theoretical Quantiles\n",
    "\n",
    "norm_residuals5 = reg5.get_influence().resid_studentized_internal\n",
    "\n",
    "QQ_reg5 = ProbPlot(norm_residuals5)\n",
    "plot_lm5 = QQ_reg5.qqplot(line='45', alpha=0.6, color='b', lw=1)\n",
    "plot_lm5.set_figheight(8)\n",
    "plot_lm5.set_figwidth(10)\n",
    "plt.title('Normal Q-Q')\n",
    "plt.show()"
   ]
  },
  {
   "cell_type": "code",
   "execution_count": null,
   "metadata": {},
   "outputs": [],
   "source": []
  },
  {
   "cell_type": "code",
   "execution_count": null,
   "metadata": {},
   "outputs": [],
   "source": []
  },
  {
   "cell_type": "code",
   "execution_count": null,
   "metadata": {},
   "outputs": [],
   "source": []
  },
  {
   "cell_type": "code",
   "execution_count": null,
   "metadata": {},
   "outputs": [],
   "source": []
  },
  {
   "cell_type": "code",
   "execution_count": null,
   "metadata": {},
   "outputs": [],
   "source": []
  },
  {
   "cell_type": "markdown",
   "metadata": {},
   "source": [
    "## Divide Target and Feature Variables:"
   ]
  },
  {
   "cell_type": "code",
   "execution_count": null,
   "metadata": {
    "code_folding": []
   },
   "outputs": [],
   "source": [
    "# Target and Feature List:\n",
    "\n",
    "#df_gq_10min.columns.tolist()"
   ]
  },
  {
   "cell_type": "code",
   "execution_count": null,
   "metadata": {
    "code_folding": []
   },
   "outputs": [],
   "source": [
    "# Select dates with missing GFS data, and drop these days for Statistical Modeling (no NaN values):\n",
    "\n",
    "missing_days = df_gq_10min[df_gq_10min.isnull().any(axis=1)].index.normalize().unique()\n",
    "#print(missing_days)\n",
    "#print(len(df_gq_10min.loc[missing_days[0].strftime('%Y-%m-%d')]))   # days have to be selected individually\n",
    "#df_gq_10min.loc[missing_days[0].strftime('%Y-%m-%d')].index\n",
    "\n",
    "df_gq_10min_nn = df_gq_10min.copy()\n",
    "\n",
    "for i in range(len(missing_days)):\n",
    "    ind_drop = df_gq_10min.loc[missing_days[i].strftime('%Y-%m-%d')].index\n",
    "    df_gq_10min_nn.drop(ind_drop, axis=0, inplace=True)"
   ]
  },
  {
   "cell_type": "code",
   "execution_count": null,
   "metadata": {},
   "outputs": [],
   "source": [
    "# Check length of original, and cleaned DataFrames:\n",
    "\n",
    "print(len(df_gq_10min))\n",
    "print(len(df_gq_10min_nn))  # dropping 5 complete days, 5*144=720 rows"
   ]
  },
  {
   "cell_type": "code",
   "execution_count": null,
   "metadata": {
    "code_folding": []
   },
   "outputs": [],
   "source": [
    "# Check if missing GFS days are correctly excluded:\n",
    "\n",
    "df_gq_10min_nn.loc['2019-04-29 23:30':'2019-05-05 00:30']"
   ]
  },
  {
   "cell_type": "code",
   "execution_count": null,
   "metadata": {
    "code_folding": [
     0
    ]
   },
   "outputs": [],
   "source": [
    "# testing to select dates with missing GFS data:\n",
    "\n",
    "#missing_days = df_gq_10min.isnull().groupby(df_gq_10min.index.date)\n",
    "#missing_days = df_gq_10min[df_gq_10min.isnull().any(axis=1)].index.date\n",
    "#missing_days = df_gq_10min[df_gq_10min.isnull().any(axis=1)].index.floor('D').unique()\n",
    "#missing_days = df_gq_10min[df_gq_10min.isnull().any(axis=1)]\n",
    "\n",
    "## missing_days = df_gq_10min[df_gq_10min.isnull().any(axis=1)].index.normalize().unique()\n",
    "\n",
    "#df_gq_10min.loc[df_gq_10min.index == missing_days[0]]\n",
    "#missing_days[1].strftime('%Y-%m-%d')\n",
    "#missing_days"
   ]
  },
  {
   "cell_type": "code",
   "execution_count": null,
   "metadata": {},
   "outputs": [],
   "source": [
    "#len(df_gq_10min.loc[missing_days[0].strftime('%Y-%m-%d')])"
   ]
  },
  {
   "cell_type": "code",
   "execution_count": null,
   "metadata": {},
   "outputs": [],
   "source": [
    "#df_gq_10min.loc[missing_days[0].strftime('%Y-%m-%d')].index"
   ]
  },
  {
   "cell_type": "code",
   "execution_count": null,
   "metadata": {
    "code_folding": [
     0
    ]
   },
   "outputs": [],
   "source": [
    "# Function Divide Features and Target:\n",
    "\n",
    "def divide_features_and_target(feature_selection):\n",
    "    \n",
    "    y = df_gq_10min_nn[['losses_rtu_einsman_norm']]\n",
    "    if feature_selection == 'all':\n",
    "        X = df_gq_10min_nn.drop(columns=['losses_rtu_einsman_norm',\n",
    "                                         'power_available_norm',\n",
    "                                         'losses_rtu_einsman_frac'])\n",
    "    elif feature_selection == 'all_wind':\n",
    "        X = df_gq_10min_nn[['wsp_10m_ms', 'wsp_100m_ms', 'wsp_pfg30_ms', 'wsp_pl925_ms', 'gust_sfc_ms']]\n",
    "    elif feature_selection == 'wind_100m':\n",
    "        X = df_gq_10min_nn[['wsp_100m_ms']]\n",
    "    #elif feature_selection == 'wind_100m':\n",
    "    #    X = df_gq_10min_nn[['wsp_pfg30_ms']]\n",
    "            \n",
    "    return X, y\n",
    "            \n",
    "\n",
    "#X = df_gq_nn[['wsp_10m_ms', 't_2m_k']].values # wsp_10m_ms\n",
    "#X = df_gq_nn[['azimuth']].values\n",
    "#X.reshape(-1,1)"
   ]
  },
  {
   "cell_type": "code",
   "execution_count": null,
   "metadata": {
    "code_folding": []
   },
   "outputs": [],
   "source": [
    "# Divide Target and Feature Variables\n",
    "# feature_selection: 'all' = all GFS model variables\n",
    "# feature_selection: 'all_wind' = all GFS wind variables ('wsp_10m_ms', 'wsp_100m_ms', 'wsp_pfg30_ms',\n",
    "#                                                         'wsp_pl925_ms', 'gust_sfc_ms')\n",
    "# feature_selection: 'wind_100m' = only GFS wind variable in 100m\n",
    "\n",
    "X, y = divide_features_and_target(feature_selection='all')"
   ]
  },
  {
   "cell_type": "code",
   "execution_count": null,
   "metadata": {
    "code_folding": []
   },
   "outputs": [],
   "source": [
    "#y.info()"
   ]
  },
  {
   "cell_type": "code",
   "execution_count": null,
   "metadata": {},
   "outputs": [],
   "source": [
    "#X.info()"
   ]
  },
  {
   "cell_type": "code",
   "execution_count": null,
   "metadata": {
    "code_folding": [
     0
    ]
   },
   "outputs": [],
   "source": [
    "# Check length of target and features\n",
    "#print(len(X))\n",
    "#print(len(y))\n",
    "#y.var()\n",
    "#X.var()\n",
    "#np.log(X[X>0]).var()"
   ]
  },
  {
   "cell_type": "markdown",
   "metadata": {},
   "source": [
    "### All, All Wind, Wind 100m:"
   ]
  },
  {
   "cell_type": "code",
   "execution_count": null,
   "metadata": {},
   "outputs": [],
   "source": [
    "# Select all GFS variables as features:\n",
    "\n",
    "X_a, y_a = divide_features_and_target(feature_selection='all')"
   ]
  },
  {
   "cell_type": "code",
   "execution_count": null,
   "metadata": {},
   "outputs": [],
   "source": [
    "# Select all GFS wind variables as features:\n",
    "\n",
    "X_aw, y_aw = divide_features_and_target(feature_selection='all_wind')"
   ]
  },
  {
   "cell_type": "code",
   "execution_count": null,
   "metadata": {
    "code_folding": []
   },
   "outputs": [],
   "source": [
    "# Select only GFS wind variable in 100m as feature:\n",
    "\n",
    "X_w100, y_w100 = divide_features_and_target(feature_selection='wind_100m')"
   ]
  },
  {
   "cell_type": "code",
   "execution_count": null,
   "metadata": {},
   "outputs": [],
   "source": []
  },
  {
   "cell_type": "code",
   "execution_count": null,
   "metadata": {},
   "outputs": [],
   "source": []
  },
  {
   "cell_type": "code",
   "execution_count": null,
   "metadata": {},
   "outputs": [],
   "source": []
  },
  {
   "cell_type": "code",
   "execution_count": null,
   "metadata": {},
   "outputs": [],
   "source": []
  },
  {
   "cell_type": "code",
   "execution_count": null,
   "metadata": {},
   "outputs": [],
   "source": [
    "# OLD:"
   ]
  },
  {
   "cell_type": "code",
   "execution_count": null,
   "metadata": {
    "code_folding": [
     0
    ]
   },
   "outputs": [],
   "source": [
    "# Drop missing rows for Statistical Modeling:\n",
    "\n",
    "#df_gq_10min_nn = df_gq_10min.dropna(axis=0, how='any')\n",
    "\n",
    "# Check length of non-missing dataframe:\n",
    "\n",
    "#print(len(df_gq_10min))\n",
    "#print(len(df_gq_10min_nn))   # dropped: 503 rows with missing GFS data"
   ]
  },
  {
   "cell_type": "code",
   "execution_count": null,
   "metadata": {
    "code_folding": [
     0
    ]
   },
   "outputs": [],
   "source": [
    "# OLD: Determine missing GFS data time frame:\n",
    "# '2019-04-30 18:10:00' - '2019-05-04 05:50:00'\n",
    "\n",
    "#df_gq_10min[df_gq_10min.wsp_10m_ms.isnull()].index\n",
    "\n",
    "# Exclude the complete Week surrounding the missing GFS data:\n",
    "# '2019-04-29 00:00:00' - '2019-05-05 23:50:00'\n",
    "\n",
    "#times_to_drop_10min = (df_gq_10min.index >= '2019-04-29 00:00:00') & (df_gq_10min.index <= '2019-05-05 23:50:00')\n",
    "\n",
    "#df_gq_10min_nn = df_gq_10min[~times_to_drop_10min]\n",
    "\n",
    "## 7*144 = 1008 values less than the original time series:\n",
    "#print(len(df_gq_10min_nn))\n",
    "#print(len(df_gq_10min))"
   ]
  },
  {
   "cell_type": "markdown",
   "metadata": {},
   "source": [
    "## Train-Test-Split:"
   ]
  },
  {
   "cell_type": "markdown",
   "metadata": {},
   "source": [
    "### Blockwise Train-Test-Split"
   ]
  },
  {
   "cell_type": "code",
   "execution_count": null,
   "metadata": {
    "code_folding": [
     0
    ]
   },
   "outputs": [],
   "source": [
    "def test_block_indices(n_blocks, len_block, n_buffer, seed_val=None):\n",
    "\n",
    "    # set random seed for reproducability (maybe give random seed as input\n",
    "    # to have repoducable folds when calling the function more than once)\n",
    "    #seed(1)\n",
    "    if seed_val:\n",
    "        seed(seed_val)\n",
    "    \n",
    "    # Lenght of a single test block, number of 10min values, provided: number of days:\n",
    "    # ---> len_block (in days) * 24 * 6\n",
    "    len_block_ind = len_block * 24 * 6\n",
    "          \n",
    "    # Test block of length len_block_ind can start no later than index: len(df) - 1 - len_block_ind \n",
    "    latemost_start_index = (len(df_gq_10min_nn) - 1) - len_block_ind\n",
    "    \n",
    "    # Initialise empty list for collecting the indices of all test blocks:\n",
    "    start_index_list = []\n",
    "    \n",
    "    # Initialise first element of start index list --> start index of the first test block:\n",
    "    # only starting at 00:00:00, but: first day of time series starts at 06:00\n",
    "    # so start random range at index 18*6=108\n",
    "    # ---> having complete days\n",
    "    start_index_list.append(random.randrange(108, latemost_start_index, 24*6))\n",
    "    \n",
    "    # Set buffer between test block (1 day: 1*24*6, 2 days: 2*24*6, ...)\n",
    "    buffer_ind = n_buffer*24*6\n",
    "    \n",
    "\n",
    "    # Fill start index list for test blocks until n start indices are set:\n",
    "    while len(start_index_list) < n_blocks:\n",
    "        \n",
    "        # set/try start index, randomly selected (but only starting at 00:00:00):\n",
    "        # ---> having complete days\n",
    "        start_ind = random.randrange(108, latemost_start_index, 24*6)\n",
    "        \n",
    "        # create list of differences between new start index and already created start indices:\n",
    "        diff_list = [np.abs(ind - start_ind) for ind in start_index_list]\n",
    "        \n",
    "        # Ensure the the new start index is far enough apart from all other start indices (plus buffer)\n",
    "        # ----> no overlap of test blocks \n",
    "        if min(diff_list) > (len_block_ind + buffer_ind):\n",
    "            start_index_list.append(start_ind)\n",
    "\n",
    "    \n",
    "    # Sort the list with all n start indices:\n",
    "    start_index_list_sorted = sorted(start_index_list)\n",
    "    \n",
    "    # Create list of lists with test blocks of length len_block_ind\n",
    "    # ----> np.arange(start_ind, start_ind + len_block_ind) (upper limit is exclusive)      \n",
    "    test_block_index_list = [np.arange(ind, ind + len_block_ind) for ind in start_index_list_sorted]\n",
    "    \n",
    "    \n",
    "    return start_index_list_sorted, test_block_index_list\n",
    "    #return start_index_list_sorted\n",
    "\n",
    "#plt.hist(test_list)\n",
    "#plt.show()\n",
    "\n",
    "#print(test_list_sort)\n",
    "#test_list_blocks"
   ]
  },
  {
   "cell_type": "code",
   "execution_count": null,
   "metadata": {
    "code_folding": [
     0
    ]
   },
   "outputs": [],
   "source": [
    "def train_test_block_split(X, y, n_blocks, len_block, n_buffer, seed_val=None):\n",
    "    \n",
    "    # set number of blocks:\n",
    "    n_blocks = n_blocks\n",
    "    # set length of blocks (in days):\n",
    "    len_block = len_block\n",
    "    # length of blocks, single values:\n",
    "    len_block_ind = len_block * 24 * 6    \n",
    "    # set number of buffer (in days):\n",
    "    n_buffer = n_buffer\n",
    "    \n",
    "    # Set random seeds:\n",
    "    # set random seed for reproducability (maybe give random seed as input\n",
    "    # to have repoducable folds when calling the function more than once)\n",
    "    #seed(1)\n",
    "    if seed_val:\n",
    "        seed_val = seed_val\n",
    "    else:\n",
    "        seed_val = random.randint(0, 1000000)\n",
    "    \n",
    "    \n",
    "    ## Determine block test indices:\n",
    "    start_index_list_sorted, test_block_index_list = test_block_indices(n_blocks,\n",
    "                                                                        len_block,\n",
    "                                                                        n_buffer,\n",
    "                                                                        seed_val)\n",
    "    #start_index_list_sorted = test_block_indices(n_blocks, len_block, n_buffer, *seed_val)\n",
    "    \n",
    "    # Flattened block index list:\n",
    "    test_block_index_list_flat = [ind2 for ind_list in test_block_index_list for ind2 in ind_list]\n",
    "    #test_block_index_list_flat = [ind2 for ind_list in\n",
    "    #                                [np.arange(ind, ind + len_block_ind) for ind in start_index_list_sorted]\n",
    "    #                                    for ind2 in ind_list]\n",
    "    \n",
    "    \n",
    "    # Determine Test DataSets for Target and Feature Variables:\n",
    "    X_test = X.iloc[test_block_index_list_flat]\n",
    "    y_test = y.iloc[test_block_index_list_flat]\n",
    "    \n",
    "    # Determine Train DataSets for Target and Feature Variables:\n",
    "    X_train = X.drop(df_gq_10min_nn.index[test_block_index_list_flat])\n",
    "    y_train = y.drop(df_gq_10min_nn.index[test_block_index_list_flat])\n",
    "    \n",
    "    \n",
    "    #return X_train, X_test, y_train, y_test, test_block_index_list_flat\n",
    "    return X_train, X_test, y_train, y_test, start_index_list_sorted, len_block_ind        "
   ]
  },
  {
   "cell_type": "code",
   "execution_count": null,
   "metadata": {
    "code_folding": [
     0
    ]
   },
   "outputs": [],
   "source": [
    "#X_train, X_test, y_train, y_test, test_block_index_list_flat = train_test_block_split(X,\n",
    "#                                                                                      y,\n",
    "#                                                                                      n_blocks=40,\n",
    "#                                                                                      len_block=3,\n",
    "#                                                                                      n_buffer=1)"
   ]
  },
  {
   "cell_type": "code",
   "execution_count": null,
   "metadata": {
    "code_folding": [
     0
    ]
   },
   "outputs": [],
   "source": [
    "X_train, X_test, y_train, y_test, start_indices, len_block = train_test_block_split(X,\n",
    "                                                                                    y,\n",
    "                                                                                    n_blocks=30,\n",
    "                                                                                    len_block=4,\n",
    "                                                                                    n_buffer=1,\n",
    "                                                                                    seed_val=10)"
   ]
  },
  {
   "cell_type": "code",
   "execution_count": null,
   "metadata": {},
   "outputs": [],
   "source": [
    "#len(X_train)"
   ]
  },
  {
   "cell_type": "code",
   "execution_count": null,
   "metadata": {},
   "outputs": [],
   "source": [
    "#X.index[start_indices]"
   ]
  },
  {
   "cell_type": "code",
   "execution_count": null,
   "metadata": {},
   "outputs": [],
   "source": []
  },
  {
   "cell_type": "markdown",
   "metadata": {},
   "source": [
    "#### All, All Wind, Wind 100m:"
   ]
  },
  {
   "cell_type": "code",
   "execution_count": null,
   "metadata": {
    "code_folding": []
   },
   "outputs": [],
   "source": [
    "# Train-Test Block Split for all GFS variables as features:\n",
    "\n",
    "X_a_train, X_a_test, y_a_train, y_a_test, start_indices, len_block = train_test_block_split(X_a,\n",
    "                                                                                    y_a,\n",
    "                                                                                    n_blocks=30,\n",
    "                                                                                    len_block=4,\n",
    "                                                                                    n_buffer=1,\n",
    "                                                                                    seed_val=3)"
   ]
  },
  {
   "cell_type": "code",
   "execution_count": null,
   "metadata": {
    "code_folding": [
     0
    ]
   },
   "outputs": [],
   "source": [
    "#test_day_ind = y_a_test.index.normalize().unique()   # length must be: n_blocks * len_block (complete days)\n",
    "#print(len(test_day_ind))\n",
    "#test_day_ind[0].strftime('%Y-%m-%d')\n",
    "#y_a_test[test_day_ind[0].strftime('%Y-%m-%d')]"
   ]
  },
  {
   "cell_type": "code",
   "execution_count": null,
   "metadata": {},
   "outputs": [],
   "source": [
    "#y_a.index.normalize().value_counts()  # value counts should be 144, despite start and end date"
   ]
  },
  {
   "cell_type": "code",
   "execution_count": null,
   "metadata": {},
   "outputs": [],
   "source": [
    "# Train-Test Block Split for all GFS wind variables as features:\n",
    "\n",
    "X_aw_train, X_aw_test, y_aw_train, y_aw_test, start_indices, len_block = train_test_block_split(X_aw,\n",
    "                                                                                    y_aw,\n",
    "                                                                                    n_blocks=30,\n",
    "                                                                                    len_block=4,\n",
    "                                                                                    n_buffer=1,\n",
    "                                                                                    seed_val=3)"
   ]
  },
  {
   "cell_type": "code",
   "execution_count": null,
   "metadata": {},
   "outputs": [],
   "source": [
    "# Train-Test Block Split for GFS wind variable in 100m as feature:\n",
    "\n",
    "X_w100_train, X_w100_test, y_w100_train, y_w100_test, start_indices, len_block = train_test_block_split(X_w100,\n",
    "                                                                                    y_w100,\n",
    "                                                                                    n_blocks=30,\n",
    "                                                                                    len_block=4,\n",
    "                                                                                    n_buffer=1,\n",
    "                                                                                    seed_val=3)"
   ]
  },
  {
   "cell_type": "code",
   "execution_count": null,
   "metadata": {},
   "outputs": [],
   "source": []
  },
  {
   "cell_type": "code",
   "execution_count": null,
   "metadata": {},
   "outputs": [],
   "source": []
  },
  {
   "cell_type": "code",
   "execution_count": null,
   "metadata": {
    "code_folding": [
     0
    ]
   },
   "outputs": [],
   "source": [
    "# OLD: Function testing:\n",
    "\n",
    "#test_block_index_list_test = test_block_indices(20, 7, 1)\n",
    "#len(test_block_index_list_test)\n",
    "\n",
    "#test_block_index_list_test_flat = [ind2 for ind_list in test_block_index_list_test for ind2 in ind_list]\n",
    "#print(test_block_index_list_test_flat)\n",
    "\n",
    "#X_test = df_gq_10min_nn.iloc[test_block_index_list_test_flat]\n",
    "#X_train = df_gq_10min_nn.drop(df_gq_10min_nn.index[test_block_index_list_test_flat])\n",
    "#X_test.index.intersection(X.index)\n",
    "#random.randrange(0,100,10)\n",
    "#i = 5\n",
    "#np.arange(0,10*i,10)"
   ]
  },
  {
   "cell_type": "markdown",
   "metadata": {},
   "source": [
    "### Timeframe Train-Test-Split:"
   ]
  },
  {
   "cell_type": "code",
   "execution_count": null,
   "metadata": {
    "code_folding": [
     0
    ]
   },
   "outputs": [],
   "source": [
    "# Divide Feature and Target Data into Training and Testing Sets using a selected Timeframe:\n",
    "\n",
    "def train_test_timeframe_split(X, y, tf_start, tf_end):\n",
    "    \n",
    "    #if timeframe_end is None:\n",
    "        #timeframe = (y.index >= timeframe_start) & (y.index <= timeframe_end)\n",
    "    #    timeframe = y.index >= timeframe_start   # if no upper end is set, test set extends to end\n",
    "    #else:\n",
    "        #timeframe = y.index >= timeframe_start   # if no upper end is set, test set extends to end\n",
    "    #    timeframe = (y.index >= timeframe_start) & (y.index <= timeframe_end)\n",
    "         \n",
    "    timeframe = (y.index >= tf_start) & (y.index <= tf_end)\n",
    "    \n",
    "    X_test_tf = X[timeframe]\n",
    "    y_test_tf = y[timeframe]\n",
    "    \n",
    "    X_train_tf = X[~timeframe]\n",
    "    y_train_tf = y[~timeframe]\n",
    "    \n",
    "\n",
    "\n",
    "\n",
    "    return X_train_tf, X_test_tf, y_train_tf, y_test_tf"
   ]
  },
  {
   "cell_type": "code",
   "execution_count": null,
   "metadata": {},
   "outputs": [],
   "source": [
    "tf_start = '2019-03-01 00:00'\n",
    "tf_end = '2019-03-31 23:50'\n",
    "\n",
    "X_train_tf, X_test_tf, y_train_tf, y_test_tf = train_test_timeframe_split(X, y, tf_start, tf_end)"
   ]
  },
  {
   "cell_type": "code",
   "execution_count": null,
   "metadata": {},
   "outputs": [],
   "source": [
    "X_train_tf.index[0]"
   ]
  },
  {
   "cell_type": "code",
   "execution_count": null,
   "metadata": {},
   "outputs": [],
   "source": []
  },
  {
   "cell_type": "markdown",
   "metadata": {},
   "source": [
    "#### All, All Wind, Wind 100m:"
   ]
  },
  {
   "cell_type": "code",
   "execution_count": null,
   "metadata": {},
   "outputs": [],
   "source": [
    "tf_start = '2019-02-20 00:00'\n",
    "tf_end = '2019-03-10 23:50'"
   ]
  },
  {
   "cell_type": "code",
   "execution_count": null,
   "metadata": {},
   "outputs": [],
   "source": [
    "# Train-Test Timeframe Split for all GFS variables as features:\n",
    "\n",
    "X_a_train_tf, X_a_test_tf, y_a_train_tf, y_a_test_tf = train_test_timeframe_split(X_a,\n",
    "                                                                                  y_a,\n",
    "                                                                                  tf_start,\n",
    "                                                                                  tf_end)"
   ]
  },
  {
   "cell_type": "code",
   "execution_count": null,
   "metadata": {},
   "outputs": [],
   "source": [
    "# Train-Test Timeframe Split for all GFS wind variables as features:\n",
    "\n",
    "X_aw_train_tf, X_aw_test_tf, y_aw_train_tf, y_aw_test_tf = train_test_timeframe_split(X_aw,\n",
    "                                                                                      y_aw,\n",
    "                                                                                      tf_start,\n",
    "                                                                                      tf_end)"
   ]
  },
  {
   "cell_type": "code",
   "execution_count": null,
   "metadata": {},
   "outputs": [],
   "source": [
    "# Train-Test Timeframe Split for GFS wind variable in 100m as feature:\n",
    "\n",
    "X_w100_train_tf, X_w100_test_tf, y_w100_train_tf, y_w100_test_tf = train_test_timeframe_split(X_w100,\n",
    "                                                                                              y_w100,\n",
    "                                                                                              tf_start,\n",
    "                                                                                              tf_end)"
   ]
  },
  {
   "cell_type": "code",
   "execution_count": null,
   "metadata": {},
   "outputs": [],
   "source": []
  },
  {
   "cell_type": "code",
   "execution_count": null,
   "metadata": {},
   "outputs": [],
   "source": []
  },
  {
   "cell_type": "code",
   "execution_count": null,
   "metadata": {},
   "outputs": [],
   "source": []
  },
  {
   "cell_type": "code",
   "execution_count": null,
   "metadata": {},
   "outputs": [],
   "source": []
  },
  {
   "cell_type": "code",
   "execution_count": null,
   "metadata": {},
   "outputs": [],
   "source": [
    "# OLD: normal sklearn train test split, shuffles the data\n",
    "# ----> quasi overfitting, since neighboring 10 min values are very similar"
   ]
  },
  {
   "cell_type": "code",
   "execution_count": null,
   "metadata": {},
   "outputs": [],
   "source": [
    "# Divide Feature and Target Data into Training and Testing Sets using Train-Test-Split:\n",
    "\n",
    "#X_train, X_test, y_train, y_test = train_test_split(X, y, test_size=0.25, random_state=0)"
   ]
  },
  {
   "cell_type": "code",
   "execution_count": null,
   "metadata": {},
   "outputs": [],
   "source": []
  },
  {
   "cell_type": "code",
   "execution_count": null,
   "metadata": {},
   "outputs": [],
   "source": []
  },
  {
   "cell_type": "markdown",
   "metadata": {},
   "source": [
    "## Feature Scaling:"
   ]
  },
  {
   "cell_type": "code",
   "execution_count": null,
   "metadata": {},
   "outputs": [],
   "source": []
  },
  {
   "cell_type": "code",
   "execution_count": null,
   "metadata": {
    "code_folding": [
     0
    ]
   },
   "outputs": [],
   "source": [
    "# Feature Scaling for All GFS Variables as Features:\n",
    "\n",
    "scaler_a = MinMaxScaler()\n",
    "scaler_a.fit(X_a_train)\n",
    "\n",
    "Xs_a_train = scaler_a.transform(X_a_train)\n",
    "Xs_a_test = scaler_a.transform(X_a_test)\n",
    "\n",
    "Xs_a_train = pd.DataFrame(data=Xs_a_train, columns=X_a_train.columns, index=X_a_train.index)\n",
    "Xs_a_test = pd.DataFrame(data=Xs_a_test, columns=X_a_test.columns, index=X_a_test.index)"
   ]
  },
  {
   "cell_type": "code",
   "execution_count": null,
   "metadata": {
    "code_folding": [
     0
    ]
   },
   "outputs": [],
   "source": [
    "# Feature Scaling for All GFS Wind Variables as Features:\n",
    "\n",
    "scaler_aw = MinMaxScaler()\n",
    "scaler_aw.fit(X_aw_train)\n",
    "\n",
    "Xs_aw_train = scaler_aw.transform(X_aw_train)\n",
    "Xs_aw_test = scaler_aw.transform(X_aw_test)\n",
    "\n",
    "Xs_aw_train = pd.DataFrame(data=Xs_aw_train, columns=X_aw_train.columns, index=X_aw_train.index)\n",
    "Xs_aw_test = pd.DataFrame(data=Xs_aw_test, columns=X_aw_test.columns, index=X_aw_test.index)"
   ]
  },
  {
   "cell_type": "code",
   "execution_count": null,
   "metadata": {
    "code_folding": [
     0
    ]
   },
   "outputs": [],
   "source": [
    "# Feature Scaling for GFS Wind Variable in 100m as Feature:\n",
    "\n",
    "scaler_w100 = MinMaxScaler()\n",
    "scaler_w100.fit(X_w100_train)\n",
    "\n",
    "Xs_w100_train = scaler_w100.transform(X_w100_train)\n",
    "Xs_w100_test = scaler_w100.transform(X_w100_test)\n",
    "\n",
    "Xs_w100_train = pd.DataFrame(data=Xs_w100_train, columns=X_w100_train.columns, index=X_w100_train.index)\n",
    "Xs_w100_test = pd.DataFrame(data=Xs_w100_test, columns=X_w100_test.columns, index=X_w100_test.index)\n",
    "\n",
    "#, X_w100_test, y_w100_train, y_w100_test"
   ]
  },
  {
   "cell_type": "code",
   "execution_count": null,
   "metadata": {},
   "outputs": [],
   "source": []
  },
  {
   "cell_type": "code",
   "execution_count": null,
   "metadata": {},
   "outputs": [],
   "source": []
  },
  {
   "cell_type": "code",
   "execution_count": null,
   "metadata": {},
   "outputs": [],
   "source": []
  },
  {
   "cell_type": "code",
   "execution_count": null,
   "metadata": {},
   "outputs": [],
   "source": []
  },
  {
   "cell_type": "markdown",
   "metadata": {},
   "source": [
    "## Define Evaluation Functions and Plots:"
   ]
  },
  {
   "cell_type": "code",
   "execution_count": null,
   "metadata": {
    "code_folding": []
   },
   "outputs": [],
   "source": [
    "def reg_evaluation(y_test, y_pred, print_scores=True, return_scores=False):\n",
    "    \n",
    "    # R-squared score\n",
    "    r2 = r2_score(y_test, y_pred)\n",
    "    \n",
    "    # Explained Variance Score\n",
    "    evs = explained_variance_score(y_test, y_pred)\n",
    "    \n",
    "    # Root Mean squared error (MSE)\n",
    "    rmse = np.sqrt(mean_squared_error(y_test, y_pred))\n",
    "\n",
    "    # Mean squared error (MSE)\n",
    "    mse = mean_squared_error(y_test, y_pred)\n",
    "\n",
    "    # Mean absolute error (MAE)\n",
    "    mae = mean_absolute_error(y_test, y_pred)\n",
    "\n",
    "\n",
    "    # Print metrics\n",
    "    if print_scores == True:\n",
    "        print('R-squared Score:', round(r2, 6))\n",
    "        print('Explained Variance Score', round(evs, 6))\n",
    "        print('Root Mean Squared Error:', round(rmse, 6))    \n",
    "        print('Mean Squared Error:', round(mse, 6))\n",
    "        print('Mean Absolute Error:', round(mae, 6))\n",
    "    \n",
    "    if return_scores == True:\n",
    "        return r2, evs, rmse, mse, mae\n",
    "    \n",
    "    #return r2\n"
   ]
  },
  {
   "cell_type": "code",
   "execution_count": null,
   "metadata": {
    "code_folding": [
     0
    ]
   },
   "outputs": [],
   "source": [
    "def plot_y_pred_hist(y_test, y_pred, clf, log_values=False, log_yaxis=True, cum=False):\n",
    "\n",
    "    dens = False\n",
    "    \n",
    "    if cum == True:\n",
    "        log_yaxis = False\n",
    "        dens = True\n",
    "    \n",
    "    # set style:\n",
    "    #plt.style.use('seaborn-whitegrid')\n",
    "    plt.style.use('seaborn')\n",
    "    \n",
    "    # set figure size:\n",
    "    plt.figure(figsize=(16,6))\n",
    "\n",
    "\n",
    "    if log_values == True:\n",
    "        y_test_vals = np.log(y_test[y_test > 10e-50])\n",
    "        y_pred_vals = np.log(y_pred[y_pred > 10e-50])\n",
    "        xlabel_test = 'log(y_test)'\n",
    "        xlabel_pred = 'log(y_pred_' + clf + ')'\n",
    "    else:\n",
    "        y_test_vals = y_test\n",
    "        y_pred_vals = y_pred\n",
    "        xlabel_test = 'y_test'\n",
    "        xlabel_pred = 'y_pred_' + clf\n",
    "    \n",
    "    \n",
    "    \n",
    "    # plot first subplot, y_test:\n",
    "    plt.subplot(1,2,1)\n",
    "    #plt.hist(np.log(y_test[y_test > 10e-50]),\n",
    "    plt.hist(y_test_vals,\n",
    "             bins=100,\n",
    "             log=log_yaxis,\n",
    "             cumulative=cum,\n",
    "             density=dens,\n",
    "             alpha=0.9)\n",
    "    plt.xlabel(xlabel_test)\n",
    "    plt.ylabel('count')\n",
    "    plt.title('Histogram of Target Values')\n",
    "    #plt.legend(['y_test'])\n",
    "\n",
    "    # plot second subplot, y_pred:\n",
    "    plt.subplot(1,2,2)\n",
    "    #plt.hist(np.log(y_pred[y_pred > 10e-50]),\n",
    "    plt.hist(y_pred_vals,\n",
    "             bins=100,\n",
    "             log=log_yaxis,\n",
    "             cumulative=cum,\n",
    "             density=dens,\n",
    "             alpha=0.9,\n",
    "             color='g')\n",
    "    #plt.xlabel('log(y_pred)')\n",
    "    plt.xlabel(xlabel_pred)\n",
    "    plt.ylabel('count')\n",
    "    plt.title('Histogram of Target Predictions')\n",
    "    #plt.legend(['y_pred'])\n",
    "    \n",
    "    # show plots:\n",
    "    plt.show()\n",
    "    #plt.close()"
   ]
  },
  {
   "cell_type": "code",
   "execution_count": null,
   "metadata": {
    "code_folding": [
     0
    ]
   },
   "outputs": [],
   "source": [
    "def plot_residuals_hist(residuals, clf, log_values=False, log_yaxis=True, cum=False):\n",
    "    \n",
    "    dens = False\n",
    "    \n",
    "    if cum == True:\n",
    "        log_yaxis = False\n",
    "        dens = True\n",
    "    \n",
    "    # set style:\n",
    "    #plt.style.use('seaborn-whitegrid')\n",
    "    plt.style.use('seaborn')\n",
    "    \n",
    "    # set figure size:\n",
    "    plt.figure(figsize=(16,6))\n",
    "    \n",
    "    # Set XLabel:\n",
    "    if log_values == True:\n",
    "        xlabel_resid = 'log(Residuals_' + clf + ')'\n",
    "    else:\n",
    "        xlabel_resid = 'Residuals_' + clf\n",
    "\n",
    "    # Plot Residuals Histogram:\n",
    "    plt.hist(residuals,\n",
    "             bins=100,\n",
    "             log=log_yaxis,\n",
    "             cumulative=cum,\n",
    "             density=dens,\n",
    "             alpha=0.9)\n",
    "    plt.xlabel(xlabel_resid)\n",
    "    plt.ylabel('count')\n",
    "    plt.title('Histogram of Residuals')\n",
    "    #plt.legend(['y_test'])"
   ]
  },
  {
   "cell_type": "code",
   "execution_count": null,
   "metadata": {
    "code_folding": [
     0
    ]
   },
   "outputs": [],
   "source": [
    "def plot_residuals_vs_fitted(residuals, y_pred, clf):\n",
    "    # Plotting Residuals (y_true - y_predict) againts Predicted Values, test for randomness of residuals (around 0) \n",
    "\n",
    "    plt.style.use('seaborn')\n",
    "    plt.figure(figsize=(10,8))\n",
    "    plt.scatter(y_pred, residuals, alpha=0.9, s=8)\n",
    "    plt.axhline(0, linestyle='--', color='r', alpha=0.7)\n",
    "    plt.xlabel('Fitted Values ' + clf)\n",
    "    plt.ylabel('Residuals (y_true - y_predict)')\n",
    "    plt.title('Residuals vs Fitted' + ' (' + clf + ')')\n",
    "    plt.show()"
   ]
  },
  {
   "cell_type": "code",
   "execution_count": null,
   "metadata": {
    "code_folding": [
     0
    ]
   },
   "outputs": [],
   "source": [
    "def plot_residuals_vs_actual(residuals, y_test, clf):\n",
    "    # Plotting Residuals (y_true - y_predict) againts Predicted Values, test for randomness of residuals (around 0) \n",
    "\n",
    "    y_true = y_test.values.ravel()\n",
    "    \n",
    "    plt.style.use('seaborn')\n",
    "    plt.figure(figsize=(10,8))\n",
    "    plt.scatter(y_true, residuals, alpha=0.9, s=8)\n",
    "    plt.axhline(0, linestyle='--', color='r', alpha=0.7)\n",
    "    plt.xlabel('Actual Values ' + clf)\n",
    "    plt.ylabel('Residuals (y_true - y_predict)')\n",
    "    plt.title('Residuals vs Actual' + ' (' + clf + ')')\n",
    "    plt.show()"
   ]
  },
  {
   "cell_type": "code",
   "execution_count": null,
   "metadata": {
    "code_folding": [
     0
    ]
   },
   "outputs": [],
   "source": [
    "def plot_residuals_vs_best_feature(residuals, importances, X_test, clf):\n",
    "    # Plotting Residuals (y_true - y_predict) againts Best Feature Values\n",
    "\n",
    "    #importances = rfr.feature_importances_\n",
    "    indices = np.argsort(importances)[::-1]\n",
    "    ind_best = indices[0]\n",
    "    col_best = X_test.columns.values[ind_best]\n",
    "    best_feature = X_test[col_best]\n",
    "    \n",
    "    plt.style.use('seaborn')\n",
    "    plt.figure(figsize=(10,8))\n",
    "    plt.scatter(best_feature, residuals, alpha=0.9, s=8)\n",
    "    plt.axhline(0, linestyle='--', color='r', alpha=0.7)\n",
    "    plt.xlabel('Best Feature: ' + col_best + clf)\n",
    "    plt.ylabel('Residuals (y_true - y_predict)')\n",
    "    plt.title('Residuals vs Best Feature' + ' (' + clf + ')')\n",
    "    plt.show()"
   ]
  },
  {
   "cell_type": "code",
   "execution_count": null,
   "metadata": {
    "code_folding": [
     0
    ]
   },
   "outputs": [],
   "source": [
    "def plot_predictions_vs_actual_targets(y_test, y_pred, clf):\n",
    "\n",
    "    # Plotting Predictions againts True Target Values:\n",
    "\n",
    "    y_true = y_test.values.ravel()\n",
    "    \n",
    "    # Linear Fit of Predictions to True Target Values:\n",
    "    slope, intercept, r_value, p_value, std_err = stats.linregress(y_pred_rfr, y_true)\n",
    "\n",
    "    plt.style.use('seaborn')\n",
    "    plt.figure(figsize=(10,8))\n",
    "    plt.scatter(y_true, y_pred, alpha=0.9, s=8)\n",
    "    #plt.plot(range(2), linestyle='--', c='r')\n",
    "    plt.plot(np.linspace(0,0.7), np.linspace(0,0.7), linestyle='--', c='r')\n",
    "    plt.plot(np.linspace(0,0.7), np.linspace(0,0.7)*slope + intercept, linestyle='--', c='gray')\n",
    "    #plt.text(0.5,0.65, 'R2 =' + str(round(r_value,3)))\n",
    "    plt.legend(labels=('Identity', 'Best Fit', '$R^2$ =' + str(round(r_value,3))))\n",
    "    plt.xlabel('Actual Target')\n",
    "    plt.ylabel('Predicted Target' + clf)\n",
    "    plt.title('Prediction vs Actual Loss Work' + ' (' + clf + ')')\n",
    "    plt.show()"
   ]
  },
  {
   "cell_type": "code",
   "execution_count": null,
   "metadata": {},
   "outputs": [],
   "source": [
    " "
   ]
  },
  {
   "cell_type": "code",
   "execution_count": null,
   "metadata": {
    "code_folding": [
     0
    ]
   },
   "outputs": [],
   "source": [
    "def einsman_daily_sum_and_frac_test(y_test):\n",
    "    \n",
    "    # Daily sum norm\n",
    "    \n",
    "    y_test_day_sum = y_test.groupby(y_test.index.date).agg('sum')\n",
    "    y_test_day_sum.index = pd.to_datetime(y_test_day_sum.index)\n",
    "    y_test_day_sum.rename(columns={'losses_rtu_einsman_norm': 'EinsMan_test_norm'}, inplace=True)\n",
    "    \n",
    "    power_avail_y_test_ind = df_gq_10min_nn.power_available_norm.loc[y_test.index]\n",
    "    y_test_day_sum['Power_avail_norm'] = power_avail_y_test_ind.groupby(y_test.index.date).agg('sum')\n",
    "    \n",
    "    y_test_day_sum['Power_max_norm'] = y_test.groupby(y_test.index.date).agg('count')\n",
    "    \n",
    "    \n",
    "    # Daily sum in MWh:\n",
    "    \n",
    "    y_test_day_sum_MWh = y_test_day_sum * 280 / 6\n",
    "    y_test_day_sum_MWh.rename(columns={'EinsMan_test_norm': 'EinsMan_test_MWh',\n",
    "                                      'Power_avail_norm': 'Power_avail_MWh',\n",
    "                                      'Power_max_norm': 'Power_max_MWh'}, inplace=True)\n",
    "    \n",
    "    \n",
    "    # Daily fractions:\n",
    "\n",
    "    y_test_day_frac = y_test_day_sum.EinsMan_test_norm / y_test_day_sum.Power_avail_norm * 100\n",
    "    y_test_day_frac = pd.DataFrame(data=y_test_day_frac, \n",
    "                                  columns=['EinsMan_pred_frac_avail'],\n",
    "                                  index=y_test_day_sum.index)\n",
    "    y_test_day_frac['EinsMan_pred_frac_max']   = y_test_day_sum.EinsMan_test_norm\\\n",
    "                                                / y_test_day_sum.Power_max_norm * 100\n",
    "    y_test_day_frac['Power_avail_frac_max']    = y_test_day_sum.Power_avail_norm\\\n",
    "                                                / y_test_day_sum.Power_max_norm * 100\n",
    "    \n",
    "    # Combine daily sums (normed and MWh) and fractions to one DataFrame:\n",
    "\n",
    "    y_test_day_sum_frac = pd.concat([y_test_day_sum,\n",
    "                                     y_test_day_sum_MWh,\n",
    "                                     y_test_day_frac], axis=1)\n",
    "    \n",
    "    return y_test_day_sum_frac"
   ]
  },
  {
   "cell_type": "code",
   "execution_count": null,
   "metadata": {
    "code_folding": [
     0
    ]
   },
   "outputs": [],
   "source": [
    "def einsman_daily_sum_and_frac_pred(y_pred, features):\n",
    "    \n",
    "    # Daily sum norm\n",
    "    \n",
    "    y_pred_day_sum = y_pred.groupby(y_pred.index.date).agg('sum')\n",
    "    y_pred_day_sum.index = pd.to_datetime(y_pred_day_sum.index)\n",
    "    \n",
    "    power_avail_y_pred_ind = df_gq_10min_nn.power_available_norm.loc[y_pred.index]\n",
    "    y_pred_day_sum['Power_avail_norm'] = power_avail_y_pred_ind.groupby(y_pred.index.date).agg('sum')\n",
    "    \n",
    "    y_pred_day_sum['Power_max_norm'] = y_pred.groupby(y_pred.index.date).agg('count')\n",
    "    \n",
    "    \n",
    "    # Daily sum in MWh:\n",
    "    \n",
    "    y_pred_day_sum_MWh = y_pred_day_sum * 280 / 6\n",
    "    y_pred_day_sum_MWh.rename(columns={'EinsMan_' + features + '_pred_norm': 'EinsMan_' + features + '_pred_MWh',\n",
    "                                      'Power_avail_norm': 'Power_avail_MWh',\n",
    "                                      'Power_max_norm': 'Power_max_MWh'}, inplace=True)\n",
    "    \n",
    "    \n",
    "    # Daily fractions:\n",
    "\n",
    "    y_pred_day_frac = y_pred_day_sum['EinsMan_' + features + '_pred_norm']\\\n",
    "                      / y_pred_day_sum.Power_avail_norm * 100\n",
    "    y_pred_day_frac = pd.DataFrame(data=y_pred_day_frac, \n",
    "                                  columns=['EinsMan_' + features + '_pred_frac_avail'],\n",
    "                                  index=y_pred_day_sum.index)\n",
    "    y_pred_day_frac['EinsMan_' + features + '_pred_frac_max']   = y_pred_day_sum['EinsMan_' + features + '_pred_norm']\\\n",
    "                                                                  / y_pred_day_sum.Power_max_norm * 100\n",
    "    y_pred_day_frac['Power_avail_frac_max']   = y_pred_day_sum.Power_avail_norm\\\n",
    "                                                / y_pred_day_sum.Power_max_norm * 100\n",
    "    \n",
    "    # Combine daily sums (normed and MWh) and fractions to one DataFrame:\n",
    "\n",
    "    y_pred_day_sum_frac = pd.concat([y_pred_day_sum,\n",
    "                                     y_pred_day_sum_MWh,\n",
    "                                     y_pred_day_frac], axis=1)\n",
    "    \n",
    "    return y_pred_day_sum_frac"
   ]
  },
  {
   "cell_type": "code",
   "execution_count": null,
   "metadata": {},
   "outputs": [],
   "source": [
    "def y_pred_frac(y_pred):\n",
    "    \n",
    "    "
   ]
  },
  {
   "cell_type": "code",
   "execution_count": null,
   "metadata": {},
   "outputs": [],
   "source": [
    "#print(plt.style.available)"
   ]
  },
  {
   "cell_type": "markdown",
   "metadata": {},
   "source": [
    "## Regression Models:"
   ]
  },
  {
   "cell_type": "code",
   "execution_count": null,
   "metadata": {},
   "outputs": [],
   "source": []
  },
  {
   "cell_type": "markdown",
   "metadata": {},
   "source": [
    "### Linear Regression:"
   ]
  },
  {
   "cell_type": "markdown",
   "metadata": {},
   "source": [
    "#### Model Fit and Predict:"
   ]
  },
  {
   "cell_type": "code",
   "execution_count": null,
   "metadata": {
    "code_folding": [
     0
    ]
   },
   "outputs": [],
   "source": [
    "# Model Fit and Predict with All GFS Variables as Features:\n",
    "\n",
    "# Instantiate Regressor:\n",
    "lreg_a = LinearRegression()\n",
    "\n",
    "# Polynomial Features:\n",
    "poly_features = PolynomialFeatures(degree=2)\n",
    "\n",
    "# Transform Features:\n",
    "X_a_train_poly  = poly_features.fit_transform(X_a_train)\n",
    "X_a_test_poly   = poly_features.fit_transform(X_a_test)\n",
    "#Xs_a_train_poly = poly_features.fit_transform(Xs_a_train)\n",
    "#Xs_a_test_poly  = poly_features.fit_transform(Xs_a_test)\n",
    "\n",
    "# Fit Regressor to Train Data Set:\n",
    "lreg_a.fit(X_a_train_poly, y_a_train.values.ravel())\n",
    "\n",
    "# Predict Target Values on Test Data:\n",
    "y_a_pred_lreg = lreg_a.predict(X_a_test_poly)\n",
    "\n",
    "# Predict Target Values on Training Data:\n",
    "y_a_train_pred_lreg = lreg_a.predict(X_a_train_poly)"
   ]
  },
  {
   "cell_type": "code",
   "execution_count": null,
   "metadata": {
    "code_folding": [
     0
    ]
   },
   "outputs": [],
   "source": [
    "# Convert predictions to DataFrames for Prediction Plots:\n",
    "\n",
    "y_a_pred_lreg = pd.DataFrame(y_a_pred_lreg, columns=['EinsMan_all_pred_norm'], index=y_a_test.index)\n",
    "\n",
    "\n",
    "# Calculate Residuals = y_true - y_predicted:\n",
    "residuals_a_lreg = y_a_test.values - y_a_pred_lreg.values\n",
    "residuals_a_lreg = pd.DataFrame(residuals_a_lreg, columns=['Residuals_all_lreg'], index=y_a_test.index)\n",
    "\n",
    "\n",
    "# Determine daily sums and fractions of true (test set) EinsMan loss work (in MWh and %):\n",
    "y_a_test_lreg_day_sum_frac = einsman_daily_sum_and_frac_test(y_a_test)\n",
    "\n",
    "#y_test_rfr_day_sum_frac[:10]\n",
    "#y_test_rfr_day_sum_frac.EinsMan_test_MWh.sum()\n",
    "\n",
    "# Determine daily sums and fractions of predicted EinsMan loss work (in MWh and %):\n",
    "y_a_pred_lreg_day_sum_frac = einsman_daily_sum_and_frac_pred(y_a_pred_lreg, features='all')\n",
    "#y_pred_rfr_day_sum_frac[:10]\n",
    "#y_pred_rfr_day_sum_frac.EinsMan_pred_MWh.sum()\n",
    "\n",
    "\n",
    "# Prepare EinsMan test/predict and Power available DataFrame for Prediction Plots:\n",
    "\n",
    "# Power available at test data points:\n",
    "y_a_test_power_avail = df_gq_10min_nn.loc[y_a_test.index, 'power_available_norm'].to_frame()\n",
    "\n",
    "# Concatenate DataFrames together, and rename columns:\n",
    "y_a_test_pred_lreg_avail = pd.concat([y_a_test, y_a_pred_lreg, y_a_test_power_avail], axis=1)\n",
    "y_a_test_pred_lreg_avail.rename(columns={'losses_rtu_einsman_norm': 'EinsMan_true_norm',\n",
    "                                  'power_available_norm':'Power_avail_norm'}, inplace=True)\n",
    "\n",
    "# Prepare continuous DataFrame (10 min res) for plotting (no connecting lines between days):\n",
    "y_a_test_pred_lreg_avail_10min = y_a_test_pred_lreg_avail.resample('10T').asfreq()"
   ]
  },
  {
   "cell_type": "code",
   "execution_count": null,
   "metadata": {},
   "outputs": [],
   "source": []
  },
  {
   "cell_type": "code",
   "execution_count": null,
   "metadata": {},
   "outputs": [],
   "source": []
  },
  {
   "cell_type": "code",
   "execution_count": null,
   "metadata": {},
   "outputs": [],
   "source": []
  },
  {
   "cell_type": "code",
   "execution_count": null,
   "metadata": {},
   "outputs": [],
   "source": []
  },
  {
   "cell_type": "markdown",
   "metadata": {},
   "source": [
    "#### Evaluation Scores:"
   ]
  },
  {
   "cell_type": "code",
   "execution_count": null,
   "metadata": {
    "code_folding": [
     0
    ]
   },
   "outputs": [],
   "source": [
    "# Evaluation Scores for All GFS Variables as Features:\n",
    "\n",
    "# Evaluation Scores on Test data:\n",
    "\n",
    "reg_evaluation(y_a_test, y_a_pred_lreg)\n",
    "\n",
    "# First check: sums of actual and predicted EinsMan losses on test data:\n",
    "\n",
    "print('')\n",
    "print(np.sum(y_a_test))\n",
    "print(np.sum(y_a_pred_lreg))\n",
    "print('')\n",
    "print('')\n",
    "\n",
    "# Evaluation Scores on Training data:\n",
    "\n",
    "reg_evaluation(y_a_train, y_a_train_pred_lreg)\n",
    "\n",
    "# First check: sums of actual and predicted EinsMan losses on train data:\n",
    "\n",
    "print('')\n",
    "print(np.sum(y_a_train))\n",
    "print(np.sum(y_a_train_pred_lreg))"
   ]
  },
  {
   "cell_type": "code",
   "execution_count": null,
   "metadata": {},
   "outputs": [],
   "source": []
  },
  {
   "cell_type": "markdown",
   "metadata": {},
   "source": [
    "#### Residual Plots:"
   ]
  },
  {
   "cell_type": "code",
   "execution_count": null,
   "metadata": {},
   "outputs": [],
   "source": []
  },
  {
   "cell_type": "code",
   "execution_count": null,
   "metadata": {},
   "outputs": [],
   "source": []
  },
  {
   "cell_type": "markdown",
   "metadata": {},
   "source": [
    "#### Prediction Plots:"
   ]
  },
  {
   "cell_type": "code",
   "execution_count": null,
   "metadata": {
    "code_folding": [
     0
    ]
   },
   "outputs": [],
   "source": [
    "# Plotly Visualisation of Predicted and Actual EinsMan values and Available Power:\n",
    "# all values are normed values, here displayed in % of total installed power (~280 MW)\n",
    "\n",
    "\n",
    "fig = go.Figure()\n",
    "#fig = go.FigureWidget(data=data, layout=layout)\n",
    "\n",
    "#x  = y_test_pred_avail_10min.index\n",
    "#y1 = y_test_pred_avail_10min['EinsMan_true_norm']*100\n",
    "#y2 = y_test_pred_avail_10min['EinsMan_pred_norm']*100\n",
    "#y3 = y_test_pred_avail_10min['Power_avail_norm']*100\n",
    "\n",
    "\n",
    "# show results only for timeframe:\n",
    "\n",
    "tf_start = '2018-01'\n",
    "tf_end   = '2019-08'\n",
    "timeframe = (y_a_test_pred_lreg_avail_10min.index >= tf_start) & (y_a_test_pred_lreg_avail_10min.index <= tf_end)\n",
    "\n",
    "x  = y_a_test_pred_lreg_avail_10min[timeframe].index\n",
    "y1 = y_a_test_pred_lreg_avail_10min[timeframe]['EinsMan_true_norm']*100\n",
    "y2 = y_a_test_pred_lreg_avail_10min[timeframe]['EinsMan_all_pred_norm']*100\n",
    "#y3 = y_aw_test_pred_lreg_avail_10min[timeframe]['EinsMan_allwind_pred_norm']*100\n",
    "#y4 = y_w100_test_pred_lreg_avail_10min[timeframe]['EinsMan_wind100m_pred_norm']*100\n",
    "y5 = y_a_test_pred_lreg_avail_10min[timeframe]['Power_avail_norm']*100\n",
    "\n",
    "#1468a2 #ffca1b #eb4a4c #00ad67 #606060\n",
    "\n",
    "fig.add_trace(go.Scatter(x=x, y=y1,\n",
    "                         name='EinsMan True',\n",
    "                         line_color='#1468a2',\n",
    "                         line_width=3)) # deepskyblue\n",
    "\n",
    "fig.add_trace(go.Scatter(x=x, y=y2,\n",
    "                         name='EinsMan Predicted (all)',\n",
    "                         line_color='#ffca1b',\n",
    "                         line_width=3)) # dimgray, #29A073\n",
    "\n",
    "#fig.add_trace(go.Scatter(x=x, y=y3,\n",
    "#                         name='EinsMan Predicted (allwind)',\n",
    "#                         line_color='#eb4a4c',\n",
    "#                         line_width=2,\n",
    "#                         opacity=0.8)) # deepskyblue\n",
    "\n",
    "#fig.add_trace(go.Scatter(x=x, y=y4,\n",
    "#                         name='EinsMan Predicted (wind100m)',\n",
    "#                         line_color='#00ad67',\n",
    "#                         line_width=2,\n",
    "#                         opacity=0.8)) # dimgray, #29A073\n",
    "\n",
    "fig.add_trace(go.Scatter(x=x, y=y5,\n",
    "                         name='Power Available',\n",
    "                         line_color='#606060',\n",
    "                         line_width=3)) # dimgray, #29A073\n",
    "\n",
    "\n",
    "fig.update_layout(title_text='Time Series of EinsMan Events (lreg)',\n",
    "                  #xaxis_title = 'Time',\n",
    "                  yaxis_title = 'Power in % of installed Total (280 MW)',\n",
    "                  #xaxis_rangeslider_visible=True,\n",
    "                  #paper_bgcolor='#C8C8C8',\n",
    "                  # font=dict(family='Courier New, monospace', size=18, color='#7f7f7f')\n",
    "                  plot_bgcolor='#F0F0F0')\n",
    "\n",
    "\n",
    "fig.update_xaxes(range=['2019-03-09','2019-03-19'])\n",
    "\n",
    "   \n",
    "#fig.layout.on_change(zoom, 'xaxis.range')\n",
    "\n",
    "#fig.hoverlabel.opacity=0.5\n",
    "#fig.write_image('folder/image_name.png or jpeg or pdf)') # only select 3 day period of interest in dataframe\n",
    "fig.show()"
   ]
  },
  {
   "cell_type": "code",
   "execution_count": null,
   "metadata": {},
   "outputs": [],
   "source": []
  },
  {
   "cell_type": "code",
   "execution_count": null,
   "metadata": {
    "code_folding": [
     0
    ]
   },
   "outputs": [],
   "source": [
    "# Plotly Visualisation of Predicted and Actual EinsMan and Available Power daily sums in MWh:\n",
    "# all values are daily sums, here displayed in MWh\n",
    "# total installed power equals a maximum daily sum of 6720 MWh\n",
    "\n",
    "\n",
    "#x  = y_test_rfr_day_sum_frac.index\n",
    "#y1 = y_test_rfr_day_sum_frac.EinsMan_test_MWh\n",
    "#y2 = y_pred_rfr_day_sum_frac.EinsMan_pred_MWh\n",
    "#y3 = y_test_rfr_day_sum_frac.Power_avail_MWh\n",
    "\n",
    "\n",
    "# \n",
    "tf_start = '2018-01'\n",
    "tf_end   = '2019-08'\n",
    "timeframe = (y_a_test_lreg_day_sum_frac.index >= tf_start) & (y_a_test_lreg_day_sum_frac.index <= tf_end)\n",
    "\n",
    "x  = y_a_test_lreg_day_sum_frac[timeframe].index\n",
    "y1 = y_a_test_lreg_day_sum_frac[timeframe].EinsMan_test_MWh\n",
    "y2 = y_a_pred_lreg_day_sum_frac[timeframe].EinsMan_all_pred_MWh\n",
    "#y3 = y_aw_pred_lreg_day_sum_frac[timeframe].EinsMan_allwind_pred_MWh\n",
    "#y4 = y_w100_pred_lreg_day_sum_frac[timeframe].EinsMan_wind100m_pred_MWh\n",
    "y5 = y_a_test_lreg_day_sum_frac[timeframe].Power_avail_MWh\n",
    "\n",
    "fig = go.Figure()\n",
    "\n",
    "fig.add_trace(go.Bar(x=x, y=y1,\n",
    "                     name='EinsMan True',\n",
    "                     marker_color='#1468a2'))\n",
    "\n",
    "fig.add_trace(go.Bar(x=x, y=y2,\n",
    "                     name='EinsMan Predicted (all)',\n",
    "                     marker_color='#ffca1b'))\n",
    "\n",
    "#fig.add_trace(go.Bar(x=x, y=y3,\n",
    "#                     name='EinsMan Predicted (allwind)',\n",
    "#                     marker_color='#eb4a4c')) # #8637ff\n",
    "\n",
    "#fig.add_trace(go.Bar(x=x, y=y4,\n",
    "#                     name='EinsMan Predicted (wind100m)',\n",
    "#                     marker_color='#00ad67'))\n",
    "\n",
    "fig.add_trace(go.Bar(x=x, y=y5,\n",
    "                     name='Power Available',\n",
    "                     marker_color='#606060'))\n",
    "\n",
    "\n",
    "\n",
    "fig.update_layout(barmode='group',\n",
    "                  bargap=0.15,\n",
    "                  bargroupgap=0.1,\n",
    "                  title_text='Daily Sum of EinsMan Events in MWh (lreg)',\n",
    "                  #xaxis_title = 'Time',\n",
    "                  yaxis_title = 'Daily Power in MWh (max 6720)',\n",
    "                  xaxis_tickangle=-45,\n",
    "                  #xaxis_rangeslider_visible=True,\n",
    "                  #paper_bgcolor='#C8C8C8',\n",
    "                  # font=dict(family='Courier New, monospace', size=18, color='#7f7f7f')\n",
    "                  plot_bgcolor='#F0F0F0')\n",
    "\n",
    "fig.update_xaxes(range=['2019-03-08','2019-03-19'])\n",
    "\n",
    "\n",
    "fig.show()"
   ]
  },
  {
   "cell_type": "code",
   "execution_count": null,
   "metadata": {},
   "outputs": [],
   "source": []
  },
  {
   "cell_type": "code",
   "execution_count": null,
   "metadata": {},
   "outputs": [],
   "source": []
  },
  {
   "cell_type": "code",
   "execution_count": null,
   "metadata": {},
   "outputs": [],
   "source": []
  },
  {
   "cell_type": "markdown",
   "metadata": {},
   "source": [
    "#### Cross Validation (blockwise):"
   ]
  },
  {
   "cell_type": "code",
   "execution_count": null,
   "metadata": {
    "code_folding": [
     0
    ]
   },
   "outputs": [],
   "source": [
    "# Cross Validation, All GFS Variables as Features:\n",
    "\n",
    "# iterate over blockwise train-test-split sets (with selected seed values, reproducability)\n",
    "\n",
    "\n",
    "\n",
    "seed_val_list = list(np.arange(1,1000,100))\n",
    "\n",
    "evaluation_dict_lreg_acv = {'R2':[], 'EVS':[], 'RMSE':[], 'MSE':[], 'MAE':[]}\n",
    "#r2_list = [0 for x in range(len(seed_val_list))]\n",
    "#evs_list = [0 for x in range(len(seed_val_list))]\n",
    "#rmse_list = [0 for x in range(len(seed_val_list))]\n",
    "#mse_list = [0 for x in range(len(seed_val_list))]\n",
    "#mae_list = [0 for x in range(len(seed_val_list))]\n",
    "\n",
    "y_acv_test_lreg_day_sum_frac_list = []\n",
    "y_acv_pred_lreg_day_sum_frac_list = []\n",
    "\n",
    "#y_acv_test_pred_avail_dict = {1: []}\n",
    "\n",
    "#for i in range(2, len(seed_val_list)+1):\n",
    "#    y_acv_test_pred_avail_dict[i] = []\n",
    "\n",
    "\n",
    "\n",
    "# Iterate over random seed list:\n",
    "for i in seed_val_list:\n",
    "    \n",
    "    #r2 = 0\n",
    "    #r2 = iter(r2_list)\n",
    "    #evs = 0\n",
    "    #evs = iter(evs_list)\n",
    "    #rmse = 0\n",
    "    #rmse = iter(rmse_list)\n",
    "    #mse = 0\n",
    "    #mse = iter(mse_list)\n",
    "    #mae = 0\n",
    "    #mae = iter(mae_list)\n",
    "\n",
    "    # Blockwise train-test_split:\n",
    "    X_acv_train, X_acv_test, y_acv_train, y_acv_test, start_indices, len_block = train_test_block_split(X_a,\n",
    "                                                                                        y_a,\n",
    "                                                                                        n_blocks=30,\n",
    "                                                                                        len_block=4,\n",
    "                                                                                        n_buffer=1,\n",
    "                                                                                        seed_val=i)\n",
    "\n",
    "    \n",
    "    \n",
    "    \n",
    "    # Instantiate Regressor:\n",
    "    lreg_acv = LinearRegression()\n",
    "    \n",
    "    # Polynomial Features:\n",
    "    poly_features = PolynomialFeatures(degree=2)\n",
    "\n",
    "    # Transform Features:\n",
    "    X_acv_train_poly  = poly_features.fit_transform(X_acv_train)\n",
    "    X_acv_test_poly   = poly_features.fit_transform(X_acv_test)\n",
    "\n",
    "    # Fit Regressor to Train Data Set:\n",
    "    lreg_acv.fit(X_acv_train_poly, y_acv_train.values.ravel())\n",
    "\n",
    "    # Predict Target Values on Test Data:\n",
    "    y_acv_pred_lreg = lreg_acv.predict(X_acv_test_poly)\n",
    "    \n",
    "    # Evaluation measure for ith Fold: # don't use function itself, just \n",
    "    #reg_evaluation(y_test, y_pred_rfr)\n",
    "    #r2, evs, rmse, mse, mae = reg_evaluation(y_test, y_pred_rfr)\n",
    "    \n",
    "    # R-squared score\n",
    "    r2 = r2_score(y_acv_test, y_acv_pred_lreg)\n",
    "    \n",
    "    # Explained Variance Score\n",
    "    evs = explained_variance_score(y_acv_test, y_acv_pred_lreg)\n",
    "    \n",
    "    # Root Mean squared error (MSE)\n",
    "    rmse = np.sqrt(mean_squared_error(y_acv_test, y_acv_pred_lreg))\n",
    "\n",
    "    # Mean squared error (MSE)\n",
    "    mse = mean_squared_error(y_acv_test, y_acv_pred_lreg)\n",
    "\n",
    "    # Mean absolute error (MAE)\n",
    "    mae = mean_absolute_error(y_acv_test, y_acv_pred_lreg)\n",
    "    \n",
    "    # Store evaluation metrics in evaluation dictionary:\n",
    "    evaluation_dict_lreg_acv['R2'].append(r2)\n",
    "    evaluation_dict_lreg_acv['EVS'].append(evs)\n",
    "    evaluation_dict_lreg_acv['RMSE'].append(rmse)\n",
    "    evaluation_dict_lreg_acv['MSE'].append(mse)\n",
    "    evaluation_dict_lreg_acv['MAE'].append(mae)\n",
    "    \n",
    "    \n",
    "    # Convert predictions to DataFrame:\n",
    "    y_acv_pred_lreg = pd.DataFrame(y_acv_pred_lreg, columns=['EinsMan_all_pred_norm'], index=y_acv_test.index)\n",
    "\n",
    "    # Determine daily sums and fractions of true (test set) EinsMan loss work (in MWh and %):\n",
    "    y_acv_test_lreg_day_sum_frac = einsman_daily_sum_and_frac_test(y_acv_test)\n",
    "\n",
    "    # Determine daily sums and fractions of predicted EinsMan loss work (in MWh and %):\n",
    "    y_acv_pred_lreg_day_sum_frac = einsman_daily_sum_and_frac_pred(y_acv_pred_lreg, features='all')\n",
    "\n",
    "    \n",
    "    # Store cross-validation daily sums and fractions (true and pred) in lists:\n",
    "    y_acv_test_lreg_day_sum_frac_list.append(y_acv_test_lreg_day_sum_frac)\n",
    "    y_acv_pred_lreg_day_sum_frac_list.append(y_acv_pred_lreg_day_sum_frac)\n",
    "    \n",
    "\n",
    "\n",
    "evaluation_lreg_acv = pd.DataFrame(evaluation_dict_lreg_acv)"
   ]
  },
  {
   "cell_type": "code",
   "execution_count": null,
   "metadata": {
    "code_folding": [
     0
    ]
   },
   "outputs": [],
   "source": [
    "# Create Variables for Visualisation, All GFS Variables as Features:\n",
    "\n",
    "# Append Mean Values of Evaluation Metrics:\n",
    "evaluation_lreg_acv2 = evaluation_lreg_acv.copy()\n",
    "evaluation_lreg_acv2 = evaluation_lreg_acv2.append(evaluation_lreg_acv.mean(), ignore_index=True)\n",
    "\n",
    "# Create New Index for Evaluation Metrics DataFrames:\n",
    "fold_list = list(range(1, len(evaluation_lreg_acv)+1))\n",
    "index_list  = ['Fold ' + str(fold) for fold in fold_list] + ['CV Mean']\n",
    "evaluation_lreg_acv2.index = index_list\n",
    "\n",
    "\n",
    "# Create accumulated EinsMan test and pred Variables (append all Cross Folds together):\n",
    "# ---> Visualise all (Relative) Differences between True and Predicted EinsMan Volumes:\n",
    "\n",
    "# Append EinsMan Test Values:\n",
    "y_acv_test_lreg_day_sum_flatlist_EinsMan_MWh = y_acv_test_lreg_day_sum_frac_list[0].EinsMan_test_MWh.values\n",
    "\n",
    "for i in range(1, len(y_acv_test_lreg_day_sum_frac_list)):\n",
    "    y_acv_test_lreg_day_sum_flatlist_EinsMan_MWh = np.append(y_acv_test_lreg_day_sum_flatlist_EinsMan_MWh, \n",
    "                                                              y_acv_test_lreg_day_sum_frac_list[i].EinsMan_test_MWh.values)\n",
    "\n",
    "    \n",
    "# Append Power Avail Values:    \n",
    "y_acv_test_lreg_day_sum_flatlist_Power_avail_norm = y_acv_test_lreg_day_sum_frac_list[0].Power_avail_norm.values\n",
    "\n",
    "for i in range(1, len(y_acv_test_lreg_day_sum_frac_list)):\n",
    "    y_acv_test_lreg_day_sum_flatlist_Power_avail_norm = np.append(y_acv_test_lreg_day_sum_flatlist_Power_avail_norm, \n",
    "                                                              y_acv_test_lreg_day_sum_frac_list[i].Power_avail_norm.values)\n",
    "    \n",
    "    \n",
    "# Append EinsMan Predicted Values:\n",
    "y_acv_pred_lreg_day_sum_flatlist_EinsMan_MWh = y_acv_pred_lreg_day_sum_frac_list[0].EinsMan_all_pred_MWh.values\n",
    "\n",
    "for i in range(1, len(y_acv_pred_lreg_day_sum_frac_list)):\n",
    "    y_acv_pred_lreg_day_sum_flatlist_EinsMan_MWh = np.append(y_acv_pred_lreg_day_sum_flatlist_EinsMan_MWh, \n",
    "                                                              y_acv_pred_lreg_day_sum_frac_list[i].EinsMan_all_pred_MWh.values)\n",
    "    \n",
    "    \n",
    "# Total Test Set EinsMan Sums for every Fold in Cross Validation:    \n",
    "\n",
    "# True Test Set EinsMan Sum (every Fold):\n",
    "EinsMan_test_norm_sum_acv_lreg = y_acv_test_lreg_day_sum_frac_list[0]['EinsMan_test_norm'].sum()\n",
    "\n",
    "for i in range(1, len(y_acv_test_lreg_day_sum_frac_list)):\n",
    "    EinsMan_test_norm_sum_acv_lreg = np.append(EinsMan_test_norm_sum_acv_lreg, \n",
    "                                      y_acv_test_lreg_day_sum_frac_list[i]['EinsMan_test_norm'].sum())\n",
    "    \n",
    "\n",
    "# Predicted Test Set EinsMan Sum (every Fold):\n",
    "EinsMan_pred_norm_sum_acv_lreg = y_acv_pred_lreg_day_sum_frac_list[0]['EinsMan_all_pred_norm'].sum()\n",
    "\n",
    "for i in range(1, len(y_acv_pred_lreg_day_sum_frac_list)):\n",
    "    EinsMan_pred_norm_sum_acv_lreg = np.append(EinsMan_pred_norm_sum_acv_lreg, \n",
    "                                      y_acv_pred_lreg_day_sum_frac_list[i]['EinsMan_all_pred_norm'].sum())"
   ]
  },
  {
   "cell_type": "code",
   "execution_count": null,
   "metadata": {},
   "outputs": [],
   "source": []
  },
  {
   "cell_type": "code",
   "execution_count": null,
   "metadata": {
    "code_folding": [
     0
    ]
   },
   "outputs": [],
   "source": [
    "# Cross Validation All GFS Variables of R2, RMSE and MAE for \n",
    "\n",
    "x  = evaluation_lreg_acv2.index\n",
    "y1 = evaluation_lreg_acv2.R2.values\n",
    "y2 = evaluation_lreg_acv2.RMSE.values\n",
    "y3 = evaluation_lreg_acv2.MAE.values\n",
    "\n",
    "fig = go.Figure()\n",
    "\n",
    "fig = make_subplots(specs=[[{\"secondary_y\": True}]])\n",
    "\n",
    "fig.add_trace(go.Bar(x=x, y=y1,\n",
    "                     name='R2 Score',\n",
    "                     marker_color='#3179b8',\n",
    "                     opacity=0.9),\n",
    "                     secondary_y=False)\n",
    "\n",
    "fig.add_trace(go.Bar(x=x, y=y2,\n",
    "                     name='RMSE',\n",
    "                     marker_color='#ed694a',\n",
    "                     opacity=0.9),\n",
    "                     secondary_y=True)\n",
    "\n",
    "fig.add_trace(go.Bar(x=x, y=y3,\n",
    "                     name='MAE',\n",
    "                     marker_color= '#ebc95d',  #'#b8241d',\n",
    "                     opacity=0.9),\n",
    "                     secondary_y=True)\n",
    "\n",
    "fig.update_yaxes(title_text='R2 Score', range=[0,0.85], secondary_y=False)#, nticks=8)\n",
    "#fig.update_yaxes(nticks=6)\n",
    "#fig.update_yaxes(range=[0, max(y2) + (y2/100)*30], secondary_y=False)\n",
    "fig.update_yaxes(title_text='Error Values', range=[0,0.08], secondary_y=True)#, nticks=10)\n",
    "\n",
    "\n",
    "fig.update_layout(barmode='group',\n",
    "                  bargap=0.15,\n",
    "                  bargroupgap=0.1,\n",
    "                  title_text='Cross Validation of R2 Score, RMSE and MAE (lreg)',\n",
    "#                  #xaxis_title = 'Time',\n",
    "#                 yaxis_title = 'Error Values',\n",
    "#                  xaxis_tickangle=-0,\n",
    "                  #xaxis_rangeslider_visible=True,\n",
    "                  #paper_bgcolor='#C8C8C8',\n",
    "                  # font=dict(family='Courier New, monospace', size=18, color='#7f7f7f')\n",
    "                  plot_bgcolor='#F0F0F0')\n",
    "\n",
    "\n",
    "\n",
    "\n",
    "fig.show()"
   ]
  },
  {
   "cell_type": "code",
   "execution_count": null,
   "metadata": {
    "code_folding": [
     0
    ]
   },
   "outputs": [],
   "source": [
    "# Cross Validation of Total Test Set EinsMan in MWh (every Fold):\n",
    "\n",
    "norm_to_GWh = 280/(6*1000)    # 280 MW installed (normed), 10 min resolution (1/6), MW to GW (1/1000)\n",
    "fold_list = list(range(1, len(EinsMan_test_norm_sum_acv_lreg)+1))\n",
    "\n",
    "x  = ['Fold ' + str(fold) for fold in fold_list]\n",
    "y1 = EinsMan_test_norm_sum_acv_lreg * norm_to_GWh\n",
    "y2 = EinsMan_pred_norm_sum_acv_lreg * norm_to_GWh\n",
    "#y3 = EinsMan_pred_norm_sum_awcv_lreg * norm_to_GWh\n",
    "#y4 = EinsMan_pred_norm_sum_w100cv_lreg * norm_to_GWh\n",
    "\n",
    "fig = go.Figure()\n",
    "\n",
    "fig.add_trace(go.Bar(x=x, y=y1,\n",
    "                     name='EinsMan True',\n",
    "                     marker_color='#1468a2'))\n",
    "\n",
    "fig.add_trace(go.Bar(x=x, y=y2,\n",
    "                     name='EinsMan Predicted (all)',\n",
    "                     marker_color='#ffca1b'))\n",
    "\n",
    "#fig.add_trace(go.Bar(x=x, y=y3,\n",
    "#                     name='EinsMan Predicted (allwind)',\n",
    "#                     marker_color='#eb4a4c'))\n",
    "\n",
    "#fig.add_trace(go.Bar(x=x, y=y4,\n",
    "#                     name='EinsMan Predicted (wind100m)',\n",
    "#                     marker_color='#00ad67'))\n",
    "\n",
    "\n",
    "#fig.add_trace(go.Bar(x=x, y=y3,\n",
    "#                     name='Power Available',\n",
    "#                     marker_color='#606060'))\n",
    "\n",
    "fig.update_layout(barmode='group',\n",
    "                  bargap=0.15,\n",
    "                  bargroupgap=0.1,\n",
    "                  title_text='Cross Validation of Total Test Set EinsMan in GWh (lreg)',\n",
    "                  #xaxis_title = 'Time',\n",
    "                  yaxis_title = 'Total EinsMan in GWh',\n",
    "                  xaxis_tickangle=-0,\n",
    "                  #xaxis_rangeslider_visible=True,\n",
    "                  #paper_bgcolor='#C8C8C8',\n",
    "                  # font=dict(family='Courier New, monospace', size=18, color='#7f7f7f')\n",
    "                  plot_bgcolor='#F0F0F0')\n",
    "\n",
    "\n",
    "fig.show()"
   ]
  },
  {
   "cell_type": "code",
   "execution_count": null,
   "metadata": {},
   "outputs": [],
   "source": []
  },
  {
   "cell_type": "code",
   "execution_count": null,
   "metadata": {},
   "outputs": [],
   "source": []
  },
  {
   "cell_type": "code",
   "execution_count": null,
   "metadata": {},
   "outputs": [],
   "source": []
  },
  {
   "cell_type": "markdown",
   "metadata": {},
   "source": [
    "### K-Neighbors Regressor:"
   ]
  },
  {
   "cell_type": "markdown",
   "metadata": {},
   "source": [
    "#### Model Fit and Predict:"
   ]
  },
  {
   "cell_type": "code",
   "execution_count": null,
   "metadata": {
    "code_folding": [
     0
    ]
   },
   "outputs": [],
   "source": [
    "# Model Fit and Predict with All GFS Variables as Features:\n",
    "\n",
    "# Instantiate Regressor:\n",
    "knr_a = KNeighborsRegressor(n_neighbors=10)\n",
    "\n",
    "# Fit Regressor to Train Data Set:\n",
    "knr_a.fit(Xs_a_train, y_a_train.values.ravel())\n",
    "\n",
    "# Predict Target Values on Test Data:\n",
    "y_a_pred_knr = knr_a.predict(Xs_a_test)\n",
    "\n",
    "# Predict Target Values on Training Data:\n",
    "y_a_train_pred_knr = knr_a.predict(Xs_a_train)"
   ]
  },
  {
   "cell_type": "code",
   "execution_count": null,
   "metadata": {
    "code_folding": [
     0
    ]
   },
   "outputs": [],
   "source": [
    "# Convert predictions to DataFrames for Prediction Plots:\n",
    "\n",
    "y_a_pred_knr = pd.DataFrame(y_a_pred_knr, columns=['EinsMan_all_pred_norm'], index=y_a_test.index)\n",
    "\n",
    "\n",
    "# Calculate Residuals = y_true - y_predicted:\n",
    "residuals_a_knr = y_a_test.values - y_a_pred_knr.values\n",
    "residuals_a_knr = pd.DataFrame(residuals_a_knr, columns=['Residuals_all_knr'], index=y_a_test.index)\n",
    "\n",
    "\n",
    "# Determine daily sums and fractions of true (test set) EinsMan loss work (in MWh and %):\n",
    "y_a_test_knr_day_sum_frac = einsman_daily_sum_and_frac_test(y_a_test)\n",
    "\n",
    "#y_test_rfr_day_sum_frac[:10]\n",
    "#y_test_rfr_day_sum_frac.EinsMan_test_MWh.sum()\n",
    "\n",
    "# Determine daily sums and fractions of predicted EinsMan loss work (in MWh and %):\n",
    "y_a_pred_knr_day_sum_frac = einsman_daily_sum_and_frac_pred(y_a_pred_knr, features='all')\n",
    "#y_pred_rfr_day_sum_frac[:10]\n",
    "#y_pred_rfr_day_sum_frac.EinsMan_pred_MWh.sum()\n",
    "\n",
    "\n",
    "# Prepare EinsMan test/predict and Power available DataFrame for Prediction Plots:\n",
    "\n",
    "# Power available at test data points:\n",
    "y_a_test_power_avail = df_gq_10min_nn.loc[y_a_test.index, 'power_available_norm'].to_frame()\n",
    "\n",
    "# Concatenate DataFrames together, and rename columns:\n",
    "y_a_test_pred_knr_avail = pd.concat([y_a_test, y_a_pred_knr, y_a_test_power_avail], axis=1)\n",
    "y_a_test_pred_knr_avail.rename(columns={'losses_rtu_einsman_norm': 'EinsMan_true_norm',\n",
    "                                  'power_available_norm':'Power_avail_norm'}, inplace=True)\n",
    "\n",
    "# Prepare continuous DataFrame (10 min res) for plotting (no connecting lines between days):\n",
    "y_a_test_pred_knr_avail_10min = y_a_test_pred_knr_avail.resample('10T').asfreq()"
   ]
  },
  {
   "cell_type": "code",
   "execution_count": null,
   "metadata": {},
   "outputs": [],
   "source": []
  },
  {
   "cell_type": "code",
   "execution_count": null,
   "metadata": {
    "code_folding": [
     0
    ]
   },
   "outputs": [],
   "source": [
    "#Model Fit and Predict with All GFS Wind Variables as Features:\n",
    "\n",
    "# Instantiate Regressor:\n",
    "knr_aw = KNeighborsRegressor(n_neighbors=20)\n",
    "\n",
    "# Fit Regressor to Train Data Set:\n",
    "knr_aw.fit(Xs_aw_train, y_aw_train.values.ravel())\n",
    "\n",
    "# Predict Target Values on Test Data:\n",
    "y_aw_pred_knr = knr_aw.predict(Xs_aw_test)\n",
    "\n",
    "# Predict Target Values on Training Data:\n",
    "y_aw_train_pred_knr = knr_aw.predict(Xs_aw_train)"
   ]
  },
  {
   "cell_type": "code",
   "execution_count": null,
   "metadata": {
    "code_folding": [
     0
    ]
   },
   "outputs": [],
   "source": [
    "# Convert predictions to DataFrames for Prediction Plots:\n",
    "\n",
    "y_aw_pred_knr = pd.DataFrame(y_aw_pred_knr, columns=['EinsMan_allwind_pred_norm'], index=y_aw_test.index)\n",
    "\n",
    "\n",
    "# Calculate Residuals = y_true - y_predicted:\n",
    "residuals_aw_knr = y_aw_test.values - y_aw_pred_knr.values\n",
    "residuals_aw_knr = pd.DataFrame(residuals_aw_knr, columns=['Residuals_allwind_knr'], index=y_aw_test.index)\n",
    "\n",
    "\n",
    "# Determine daily sums and fractions of true (test set) EinsMan loss work (in MWh and %):\n",
    "y_aw_test_knr_day_sum_frac = einsman_daily_sum_and_frac_test(y_aw_test)\n",
    "\n",
    "#y_test_rfr_day_sum_frac[:10]\n",
    "#y_test_rfr_day_sum_frac.EinsMan_test_MWh.sum()\n",
    "\n",
    "# Determine daily sums and fractions of predicted EinsMan loss work (in MWh and %):\n",
    "y_aw_pred_knr_day_sum_frac = einsman_daily_sum_and_frac_pred(y_aw_pred_knr, features='allwind')\n",
    "#y_pred_rfr_day_sum_frac[:10]\n",
    "#y_pred_rfr_day_sum_frac.EinsMan_pred_MWh.sum()\n",
    "\n",
    "\n",
    "# Prepare EinsMan test/predict and Power available DataFrame for Prediction Plots:\n",
    "\n",
    "# Power available at test data points:\n",
    "y_aw_test_power_avail = df_gq_10min_nn.loc[y_aw_test.index, 'power_available_norm'].to_frame()\n",
    "\n",
    "# Concatenate DataFrames together, and rename columns:\n",
    "y_aw_test_pred_knr_avail = pd.concat([y_aw_test, y_aw_pred_knr, y_aw_test_power_avail], axis=1)\n",
    "y_aw_test_pred_knr_avail.rename(columns={'losses_rtu_einsman_norm': 'EinsMan_true_norm',\n",
    "                                  'power_available_norm':'Power_avail_norm'}, inplace=True)\n",
    "\n",
    "# Prepare continuous DataFrame (10 min res) for plotting (no connecting lines between days):\n",
    "y_aw_test_pred_knr_avail_10min = y_aw_test_pred_knr_avail.resample('10T').asfreq()"
   ]
  },
  {
   "cell_type": "code",
   "execution_count": null,
   "metadata": {},
   "outputs": [],
   "source": []
  },
  {
   "cell_type": "code",
   "execution_count": null,
   "metadata": {
    "code_folding": [
     0
    ]
   },
   "outputs": [],
   "source": [
    "#Model Fit and Predict with All GFS Wind Variables as Features:\n",
    "\n",
    "# Instantiate Regressor:\n",
    "knr_w100 = KNeighborsRegressor(n_neighbors=20)\n",
    "\n",
    "# Fit Regressor to Train Data Set:\n",
    "knr_w100.fit(Xs_w100_train, y_w100_train.values.ravel())\n",
    "\n",
    "# Predict Target Values on Test Data:\n",
    "y_w100_pred_knr = knr_w100.predict(Xs_w100_test)\n",
    "\n",
    "# Predict Target Values on Training Data:\n",
    "y_w100_train_pred_knr = knr_w100.predict(Xs_w100_train)"
   ]
  },
  {
   "cell_type": "code",
   "execution_count": null,
   "metadata": {
    "code_folding": [
     0
    ]
   },
   "outputs": [],
   "source": [
    "# Convert predictions to DataFrames for Prediction Plots:\n",
    "\n",
    "y_w100_pred_knr = pd.DataFrame(y_w100_pred_knr, columns=['EinsMan_wind100m_pred_norm'], index=y_w100_test.index)\n",
    "\n",
    "\n",
    "# Calculate Residuals = y_true - y_predicted:\n",
    "residuals_w100_knr = y_w100_test.values - y_w100_pred_knr.values\n",
    "residuals_w100_knr = pd.DataFrame(residuals_w100_knr, columns=['Residuals_wind100m_knr'], index=y_w100_test.index)\n",
    "\n",
    "\n",
    "# Determine daily sums and fractions of true (test set) EinsMan loss work (in MWh and %):\n",
    "y_w100_test_knr_day_sum_frac = einsman_daily_sum_and_frac_test(y_w100_test)\n",
    "\n",
    "#y_test_rfr_day_sum_frac[:10]\n",
    "#y_test_rfr_day_sum_frac.EinsMan_test_MWh.sum()\n",
    "\n",
    "# Determine daily sums and fractions of predicted EinsMan loss work (in MWh and %):\n",
    "y_w100_pred_knr_day_sum_frac = einsman_daily_sum_and_frac_pred(y_w100_pred_knr, features='wind100m')\n",
    "#y_pred_rfr_day_sum_frac[:10]\n",
    "#y_pred_rfr_day_sum_frac.EinsMan_pred_MWh.sum()\n",
    "\n",
    "\n",
    "# Prepare EinsMan test/predict and Power available DataFrame for Prediction Plots:\n",
    "\n",
    "# Power available at test data points:\n",
    "y_w100_test_power_avail = df_gq_10min_nn.loc[y_w100_test.index, 'power_available_norm'].to_frame()\n",
    "\n",
    "# Concatenate DataFrames together, and rename columns:\n",
    "y_w100_test_pred_knr_avail = pd.concat([y_w100_test, y_w100_pred_knr, y_w100_test_power_avail], axis=1)\n",
    "y_w100_test_pred_knr_avail.rename(columns={'losses_rtu_einsman_norm': 'EinsMan_true_norm',\n",
    "                                  'power_available_norm':'Power_avail_norm'}, inplace=True)\n",
    "\n",
    "# Prepare continuous DataFrame (10 min res) for plotting (no connecting lines between days):\n",
    "y_w100_test_pred_knr_avail_10min = y_w100_test_pred_knr_avail.resample('10T').asfreq()"
   ]
  },
  {
   "cell_type": "code",
   "execution_count": null,
   "metadata": {},
   "outputs": [],
   "source": []
  },
  {
   "cell_type": "code",
   "execution_count": null,
   "metadata": {},
   "outputs": [],
   "source": []
  },
  {
   "cell_type": "markdown",
   "metadata": {},
   "source": [
    "#### Evaluation Scores:"
   ]
  },
  {
   "cell_type": "code",
   "execution_count": null,
   "metadata": {
    "code_folding": [
     0
    ]
   },
   "outputs": [],
   "source": [
    "# Evaluation Scores for All GFS Variables as Features:\n",
    "\n",
    "# Evaluation Scores on Test data:\n",
    "\n",
    "reg_evaluation(y_a_test, y_a_pred_knr)\n",
    "\n",
    "# First check: sums of actual and predicted EinsMan losses on test data:\n",
    "\n",
    "print('')\n",
    "print(np.sum(y_a_test))\n",
    "print(np.sum(y_a_pred_knr))\n",
    "print('')\n",
    "print('')\n",
    "\n",
    "# Evaluation Scores on Training data:\n",
    "\n",
    "reg_evaluation(y_a_train, y_a_train_pred_knr)\n",
    "\n",
    "# First check: sums of actual and predicted EinsMan losses on train data:\n",
    "\n",
    "print('')\n",
    "print(np.sum(y_a_train))\n",
    "print(np.sum(y_a_train_pred_knr))"
   ]
  },
  {
   "cell_type": "code",
   "execution_count": null,
   "metadata": {
    "code_folding": [
     0
    ]
   },
   "outputs": [],
   "source": [
    "# Evaluation Scores for All GFS Variables as Features:\n",
    "\n",
    "# Evaluation Scores on Test data:\n",
    "\n",
    "reg_evaluation(y_aw_test, y_aw_pred_knr)\n",
    "\n",
    "# First check: sums of actual and predicted EinsMan losses on test data:\n",
    "\n",
    "print('')\n",
    "print(np.sum(y_aw_test))\n",
    "print(np.sum(y_aw_pred_knr))\n",
    "print('')\n",
    "print('')\n",
    "\n",
    "# Evaluation Scores on Training data:\n",
    "\n",
    "reg_evaluation(y_aw_train, y_aw_train_pred_knr)\n",
    "\n",
    "# First check: sums of actual and predicted EinsMan losses on train data:\n",
    "\n",
    "print('')\n",
    "print(np.sum(y_aw_train))\n",
    "print(np.sum(y_aw_train_pred_knr))"
   ]
  },
  {
   "cell_type": "code",
   "execution_count": null,
   "metadata": {
    "code_folding": [
     0
    ]
   },
   "outputs": [],
   "source": [
    "# Evaluation Scores for All GFS Variables as Features:\n",
    "\n",
    "# Evaluation Scores on Test data:\n",
    "\n",
    "reg_evaluation(y_w100_test, y_w100_pred_knr)\n",
    "\n",
    "# First check: sums of actual and predicted EinsMan losses on test data:\n",
    "\n",
    "print('')\n",
    "print(np.sum(y_w100_test))\n",
    "print(np.sum(y_w100_pred_knr))\n",
    "print('')\n",
    "print('')\n",
    "\n",
    "# Evaluation Scores on Training data:\n",
    "\n",
    "reg_evaluation(y_w100_train, y_w100_train_pred_knr)\n",
    "\n",
    "# First check: sums of actual and predicted EinsMan losses on train data:\n",
    "\n",
    "print('')\n",
    "print(np.sum(y_w100_train))\n",
    "print(np.sum(y_w100_train_pred_knr))"
   ]
  },
  {
   "cell_type": "code",
   "execution_count": null,
   "metadata": {},
   "outputs": [],
   "source": []
  },
  {
   "cell_type": "code",
   "execution_count": null,
   "metadata": {},
   "outputs": [],
   "source": []
  },
  {
   "cell_type": "markdown",
   "metadata": {},
   "source": [
    "#### Residual Plots:"
   ]
  },
  {
   "cell_type": "code",
   "execution_count": null,
   "metadata": {},
   "outputs": [],
   "source": []
  },
  {
   "cell_type": "code",
   "execution_count": null,
   "metadata": {},
   "outputs": [],
   "source": []
  },
  {
   "cell_type": "markdown",
   "metadata": {},
   "source": [
    "#### Prediction Plots:"
   ]
  },
  {
   "cell_type": "code",
   "execution_count": null,
   "metadata": {
    "code_folding": [
     0
    ],
    "scrolled": false
   },
   "outputs": [],
   "source": [
    "# Plotly Visualisation of Predicted and Actual EinsMan values and Available Power:\n",
    "# all values are normed values, here displayed in % of total installed power (~280 MW)\n",
    "\n",
    "\n",
    "fig = go.Figure()\n",
    "#fig = go.FigureWidget(data=data, layout=layout)\n",
    "\n",
    "#x  = y_test_pred_avail_10min.index\n",
    "#y1 = y_test_pred_avail_10min['EinsMan_true_norm']*100\n",
    "#y2 = y_test_pred_avail_10min['EinsMan_pred_norm']*100\n",
    "#y3 = y_test_pred_avail_10min['Power_avail_norm']*100\n",
    "\n",
    "\n",
    "# show results only for timeframe:\n",
    "\n",
    "tf_start = '2018-01'\n",
    "tf_end   = '2019-08'\n",
    "timeframe = (y_a_test_pred_knr_avail_10min.index >= tf_start) & (y_a_test_pred_knr_avail_10min.index <= tf_end)\n",
    "\n",
    "x  = y_a_test_pred_knr_avail_10min[timeframe].index\n",
    "y1 = y_a_test_pred_knr_avail_10min[timeframe]['EinsMan_true_norm']*100\n",
    "y2 = y_a_test_pred_knr_avail_10min[timeframe]['EinsMan_all_pred_norm']*100\n",
    "y3 = y_aw_test_pred_knr_avail_10min[timeframe]['EinsMan_allwind_pred_norm']*100\n",
    "y4 = y_w100_test_pred_knr_avail_10min[timeframe]['EinsMan_wind100m_pred_norm']*100\n",
    "y5 = y_a_test_pred_knr_avail_10min[timeframe]['Power_avail_norm']*100\n",
    "\n",
    "#1468a2 #ffca1b #eb4a4c #00ad67 #606060\n",
    "\n",
    "fig.add_trace(go.Scatter(x=x, y=y1,\n",
    "                         name='EinsMan True',\n",
    "                         line_color='#1468a2',\n",
    "                         line_width=3)) # deepskyblue\n",
    "\n",
    "fig.add_trace(go.Scatter(x=x, y=y2,\n",
    "                         name='EinsMan Predicted (all)',\n",
    "                         line_color='#ffca1b',\n",
    "                         line_width=3)) # dimgray, #29A073\n",
    "\n",
    "fig.add_trace(go.Scatter(x=x, y=y3,\n",
    "                         name='EinsMan Predicted (allwind)',\n",
    "                         line_color='#eb4a4c',\n",
    "                         line_width=2,\n",
    "                         opacity=0.8)) # deepskyblue\n",
    "\n",
    "fig.add_trace(go.Scatter(x=x, y=y4,\n",
    "                         name='EinsMan Predicted (wind100m)',\n",
    "                         line_color='#00ad67',\n",
    "                         line_width=2,\n",
    "                         opacity=0.8)) # dimgray, #29A073\n",
    "\n",
    "fig.add_trace(go.Scatter(x=x, y=y5,\n",
    "                         name='Power Available',\n",
    "                         line_color='#606060',\n",
    "                         line_width=3)) # dimgray, #29A073\n",
    "\n",
    "\n",
    "fig.update_layout(title_text='Time Series of EinsMan Events (knr)',\n",
    "                  #xaxis_title = 'Time',\n",
    "                  yaxis_title = 'Power in % of installed Total (280 MW)',\n",
    "                  #xaxis_rangeslider_visible=True,\n",
    "                  #paper_bgcolor='#C8C8C8',\n",
    "                  # font=dict(family='Courier New, monospace', size=18, color='#7f7f7f')\n",
    "                  plot_bgcolor='#F0F0F0')\n",
    "\n",
    "\n",
    "fig.update_xaxes(range=['2019-03-09','2019-03-19'])\n",
    "\n",
    "   \n",
    "#fig.layout.on_change(zoom, 'xaxis.range')\n",
    "\n",
    "#fig.hoverlabel.opacity=0.5\n",
    "#fig.write_image('folder/image_name.png or jpeg or pdf)') # only select 3 day period of interest in dataframe\n",
    "fig.show()"
   ]
  },
  {
   "cell_type": "code",
   "execution_count": null,
   "metadata": {
    "code_folding": [
     0
    ]
   },
   "outputs": [],
   "source": [
    "# Plotly Visualisation of Predicted and Actual EinsMan and Available Power daily sums in MWh:\n",
    "# all values are daily sums, here displayed in MWh\n",
    "# total installed power equals a maximum daily sum of 6720 MWh\n",
    "\n",
    "\n",
    "#x  = y_test_rfr_day_sum_frac.index\n",
    "#y1 = y_test_rfr_day_sum_frac.EinsMan_test_MWh\n",
    "#y2 = y_pred_rfr_day_sum_frac.EinsMan_pred_MWh\n",
    "#y3 = y_test_rfr_day_sum_frac.Power_avail_MWh\n",
    "\n",
    "\n",
    "# \n",
    "tf_start = '2018-01'\n",
    "tf_end   = '2019-08'\n",
    "timeframe = (y_a_test_knr_day_sum_frac.index >= tf_start) & (y_a_test_knr_day_sum_frac.index <= tf_end)\n",
    "\n",
    "x  = y_a_test_knr_day_sum_frac[timeframe].index\n",
    "y1 = y_a_test_knr_day_sum_frac[timeframe].EinsMan_test_MWh\n",
    "y2 = y_a_pred_knr_day_sum_frac[timeframe].EinsMan_all_pred_MWh\n",
    "y3 = y_aw_pred_knr_day_sum_frac[timeframe].EinsMan_allwind_pred_MWh\n",
    "y4 = y_w100_pred_knr_day_sum_frac[timeframe].EinsMan_wind100m_pred_MWh\n",
    "y5 = y_a_test_knr_day_sum_frac[timeframe].Power_avail_MWh\n",
    "\n",
    "fig = go.Figure()\n",
    "\n",
    "fig.add_trace(go.Bar(x=x, y=y1,\n",
    "                     name='EinsMan True',\n",
    "                     marker_color='#1468a2'))\n",
    "\n",
    "fig.add_trace(go.Bar(x=x, y=y2,\n",
    "                     name='EinsMan Predicted (all)',\n",
    "                     marker_color='#ffca1b'))\n",
    "\n",
    "fig.add_trace(go.Bar(x=x, y=y3,\n",
    "                     name='EinsMan Predicted (allwind)',\n",
    "                     marker_color='#eb4a4c')) # #8637ff\n",
    "\n",
    "fig.add_trace(go.Bar(x=x, y=y4,\n",
    "                     name='EinsMan Predicted (wind100m)',\n",
    "                     marker_color='#00ad67'))\n",
    "\n",
    "fig.add_trace(go.Bar(x=x, y=y5,\n",
    "                     name='Power Available',\n",
    "                     marker_color='#606060'))\n",
    "\n",
    "\n",
    "\n",
    "fig.update_layout(barmode='group',\n",
    "                  bargap=0.15,\n",
    "                  bargroupgap=0.1,\n",
    "                  title_text='Daily Sum of EinsMan Events in MWh (knr)',\n",
    "                  #xaxis_title = 'Time',\n",
    "                  yaxis_title = 'Daily Power in MWh (max 6720)',\n",
    "                  xaxis_tickangle=-45,\n",
    "                  #xaxis_rangeslider_visible=True,\n",
    "                  #paper_bgcolor='#C8C8C8',\n",
    "                  # font=dict(family='Courier New, monospace', size=18, color='#7f7f7f')\n",
    "                  plot_bgcolor='#F0F0F0')\n",
    "\n",
    "fig.update_xaxes(range=['2019-03-08','2019-03-19'])\n",
    "\n",
    "\n",
    "fig.show()"
   ]
  },
  {
   "cell_type": "code",
   "execution_count": null,
   "metadata": {},
   "outputs": [],
   "source": []
  },
  {
   "cell_type": "markdown",
   "metadata": {},
   "source": [
    "#### Cross Validation (blockwise):"
   ]
  },
  {
   "cell_type": "code",
   "execution_count": null,
   "metadata": {
    "code_folding": [
     0
    ]
   },
   "outputs": [],
   "source": [
    "# Cross Validation, All GFS Variables as Features:\n",
    "\n",
    "# iterate over blockwise train-test-split sets (with selected seed values, reproducability)\n",
    "\n",
    "\n",
    "\n",
    "seed_val_list = list(np.arange(1,1000,100))\n",
    "\n",
    "evaluation_dict_knr_acv = {'R2':[], 'EVS':[], 'RMSE':[], 'MSE':[], 'MAE':[]}\n",
    "#r2_list = [0 for x in range(len(seed_val_list))]\n",
    "#evs_list = [0 for x in range(len(seed_val_list))]\n",
    "#rmse_list = [0 for x in range(len(seed_val_list))]\n",
    "#mse_list = [0 for x in range(len(seed_val_list))]\n",
    "#mae_list = [0 for x in range(len(seed_val_list))]\n",
    "\n",
    "y_acv_test_knr_day_sum_frac_list = []\n",
    "y_acv_pred_knr_day_sum_frac_list = []\n",
    "\n",
    "#y_acv_test_pred_avail_dict = {1: []}\n",
    "\n",
    "#for i in range(2, len(seed_val_list)+1):\n",
    "#    y_acv_test_pred_avail_dict[i] = []\n",
    "\n",
    "\n",
    "\n",
    "# Iterate over random seed list:\n",
    "for i in seed_val_list:\n",
    "    \n",
    "    #r2 = 0\n",
    "    #r2 = iter(r2_list)\n",
    "    #evs = 0\n",
    "    #evs = iter(evs_list)\n",
    "    #rmse = 0\n",
    "    #rmse = iter(rmse_list)\n",
    "    #mse = 0\n",
    "    #mse = iter(mse_list)\n",
    "    #mae = 0\n",
    "    #mae = iter(mae_list)\n",
    "\n",
    "    # Blockwise train-test_split:\n",
    "    X_acv_train, X_acv_test, y_acv_train, y_acv_test, start_indices, len_block = train_test_block_split(X_a,\n",
    "                                                                                        y_a,\n",
    "                                                                                        n_blocks=30,\n",
    "                                                                                        len_block=4,\n",
    "                                                                                        n_buffer=1,\n",
    "                                                                                        seed_val=i)\n",
    "\n",
    "    # Feature Scaling:\n",
    "    scaler_acv = MinMaxScaler()\n",
    "    scaler_acv.fit(X_acv_train)\n",
    "\n",
    "    Xs_acv_train = scaler_acv.transform(X_acv_train)\n",
    "    Xs_acv_test = scaler_acv.transform(X_acv_test)\n",
    "\n",
    "    Xs_acv_train = pd.DataFrame(data=Xs_acv_train, columns=X_acv_train.columns, index=X_acv_train.index)\n",
    "    Xs_acv_test = pd.DataFrame(data=Xs_acv_test, columns=X_acv_test.columns, index=X_acv_test.index)\n",
    "    \n",
    "    \n",
    "    # Instantiate Regressor:\n",
    "    knr_acv = KNeighborsRegressor(n_neighbors=10)\n",
    "\n",
    "    # Fit Regressor to Train Data Set:\n",
    "    knr_acv.fit(Xs_acv_train, y_acv_train.values.ravel())\n",
    "\n",
    "    # Predict Target Values on Test Data:\n",
    "    y_acv_pred_knr = knr_acv.predict(Xs_acv_test)\n",
    "    \n",
    "    # Evaluation measure for ith Fold: # don't use function itself, just \n",
    "    #reg_evaluation(y_test, y_pred_rfr)\n",
    "    #r2, evs, rmse, mse, mae = reg_evaluation(y_test, y_pred_rfr)\n",
    "    \n",
    "    # R-squared score\n",
    "    r2 = r2_score(y_acv_test, y_acv_pred_knr)\n",
    "    \n",
    "    # Explained Variance Score\n",
    "    evs = explained_variance_score(y_acv_test, y_acv_pred_knr)\n",
    "    \n",
    "    # Root Mean squared error (MSE)\n",
    "    rmse = np.sqrt(mean_squared_error(y_acv_test, y_acv_pred_knr))\n",
    "\n",
    "    # Mean squared error (MSE)\n",
    "    mse = mean_squared_error(y_acv_test, y_acv_pred_knr)\n",
    "\n",
    "    # Mean absolute error (MAE)\n",
    "    mae = mean_absolute_error(y_acv_test, y_acv_pred_knr)\n",
    "    \n",
    "    # Store evaluation metrics in evaluation dictionary:\n",
    "    evaluation_dict_knr_acv['R2'].append(r2)\n",
    "    evaluation_dict_knr_acv['EVS'].append(evs)\n",
    "    evaluation_dict_knr_acv['RMSE'].append(rmse)\n",
    "    evaluation_dict_knr_acv['MSE'].append(mse)\n",
    "    evaluation_dict_knr_acv['MAE'].append(mae)\n",
    "    \n",
    "    \n",
    "    # Convert predictions to DataFrame:\n",
    "    y_acv_pred_knr = pd.DataFrame(y_acv_pred_knr, columns=['EinsMan_all_pred_norm'], index=y_acv_test.index)\n",
    "\n",
    "    # Determine daily sums and fractions of true (test set) EinsMan loss work (in MWh and %):\n",
    "    y_acv_test_knr_day_sum_frac = einsman_daily_sum_and_frac_test(y_acv_test)\n",
    "\n",
    "    # Determine daily sums and fractions of predicted EinsMan loss work (in MWh and %):\n",
    "    y_acv_pred_knr_day_sum_frac = einsman_daily_sum_and_frac_pred(y_acv_pred_knr, features='all')\n",
    "\n",
    "    \n",
    "    # Store cross-validation daily sums and fractions (true and pred) in lists:\n",
    "    y_acv_test_knr_day_sum_frac_list.append(y_acv_test_knr_day_sum_frac)\n",
    "    y_acv_pred_knr_day_sum_frac_list.append(y_acv_pred_knr_day_sum_frac)\n",
    "    \n",
    "\n",
    "\n",
    "evaluation_knr_acv = pd.DataFrame(evaluation_dict_knr_acv)"
   ]
  },
  {
   "cell_type": "code",
   "execution_count": null,
   "metadata": {
    "code_folding": [
     0
    ]
   },
   "outputs": [],
   "source": [
    "# Create Variables for Visualisation, All GFS Variables as Features:\n",
    "\n",
    "# Append Mean Values of Evaluation Metrics:\n",
    "evaluation_knr_acv2 = evaluation_knr_acv.copy()\n",
    "evaluation_knr_acv2 = evaluation_knr_acv2.append(evaluation_knr_acv.mean(), ignore_index=True)\n",
    "\n",
    "# Create New Index for Evaluation Metrics DataFrames:\n",
    "fold_list = list(range(1, len(evaluation_knr_acv)+1))\n",
    "index_list  = ['Fold ' + str(fold) for fold in fold_list] + ['CV Mean']\n",
    "evaluation_knr_acv2.index = index_list\n",
    "\n",
    "\n",
    "# Create accumulated EinsMan test and pred Variables (append all Cross Folds together):\n",
    "# ---> Visualise all (Relative) Differences between True and Predicted EinsMan Volumes:\n",
    "\n",
    "# Append EinsMan Test Values:\n",
    "y_acv_test_knr_day_sum_flatlist_EinsMan_MWh = y_acv_test_knr_day_sum_frac_list[0].EinsMan_test_MWh.values\n",
    "\n",
    "for i in range(1, len(y_acv_test_knr_day_sum_frac_list)):\n",
    "    y_acv_test_knr_day_sum_flatlist_EinsMan_MWh = np.append(y_acv_test_knr_day_sum_flatlist_EinsMan_MWh, \n",
    "                                                              y_acv_test_knr_day_sum_frac_list[i].EinsMan_test_MWh.values)\n",
    "\n",
    "    \n",
    "# Append Power Avail Values:    \n",
    "y_acv_test_knr_day_sum_flatlist_Power_avail_norm = y_acv_test_knr_day_sum_frac_list[0].Power_avail_norm.values\n",
    "\n",
    "for i in range(1, len(y_acv_test_knr_day_sum_frac_list)):\n",
    "    y_acv_test_knr_day_sum_flatlist_Power_avail_norm = np.append(y_acv_test_knr_day_sum_flatlist_Power_avail_norm, \n",
    "                                                              y_acv_test_knr_day_sum_frac_list[i].Power_avail_norm.values)\n",
    "    \n",
    "    \n",
    "# Append EinsMan Predicted Values:\n",
    "y_acv_pred_knr_day_sum_flatlist_EinsMan_MWh = y_acv_pred_knr_day_sum_frac_list[0].EinsMan_all_pred_MWh.values\n",
    "\n",
    "for i in range(1, len(y_acv_pred_knr_day_sum_frac_list)):\n",
    "    y_acv_pred_knr_day_sum_flatlist_EinsMan_MWh = np.append(y_acv_pred_knr_day_sum_flatlist_EinsMan_MWh, \n",
    "                                                              y_acv_pred_knr_day_sum_frac_list[i].EinsMan_all_pred_MWh.values)\n",
    "    \n",
    "    \n",
    "# Total Test Set EinsMan Sums for every Fold in Cross Validation:    \n",
    "\n",
    "# True Test Set EinsMan Sum (every Fold):\n",
    "EinsMan_test_norm_sum_acv_knr = y_acv_test_knr_day_sum_frac_list[0]['EinsMan_test_norm'].sum()\n",
    "\n",
    "for i in range(1, len(y_acv_test_knr_day_sum_frac_list)):\n",
    "    EinsMan_test_norm_sum_acv_knr = np.append(EinsMan_test_norm_sum_acv_knr, \n",
    "                                      y_acv_test_knr_day_sum_frac_list[i]['EinsMan_test_norm'].sum())\n",
    "    \n",
    "\n",
    "# Predicted Test Set EinsMan Sum (every Fold):\n",
    "EinsMan_pred_norm_sum_acv_knr = y_acv_pred_knr_day_sum_frac_list[0]['EinsMan_all_pred_norm'].sum()\n",
    "\n",
    "for i in range(1, len(y_acv_pred_knr_day_sum_frac_list)):\n",
    "    EinsMan_pred_norm_sum_acv_knr = np.append(EinsMan_pred_norm_sum_acv_knr, \n",
    "                                      y_acv_pred_knr_day_sum_frac_list[i]['EinsMan_all_pred_norm'].sum())"
   ]
  },
  {
   "cell_type": "code",
   "execution_count": null,
   "metadata": {},
   "outputs": [],
   "source": []
  },
  {
   "cell_type": "code",
   "execution_count": null,
   "metadata": {
    "code_folding": [
     0
    ]
   },
   "outputs": [],
   "source": [
    "# Cross Validation All GFS Variables of R2, RMSE and MAE for \n",
    "\n",
    "x  = evaluation_knr_acv2.index\n",
    "y1 = evaluation_knr_acv2.R2.values\n",
    "y2 = evaluation_knr_acv2.RMSE.values\n",
    "y3 = evaluation_knr_acv2.MAE.values\n",
    "\n",
    "fig = go.Figure()\n",
    "\n",
    "fig = make_subplots(specs=[[{\"secondary_y\": True}]])\n",
    "\n",
    "fig.add_trace(go.Bar(x=x, y=y1,\n",
    "                     name='R2 Score',\n",
    "                     marker_color='#3179b8',\n",
    "                     opacity=0.9),\n",
    "                     secondary_y=False)\n",
    "\n",
    "fig.add_trace(go.Bar(x=x, y=y2,\n",
    "                     name='RMSE',\n",
    "                     marker_color='#ed694a',\n",
    "                     opacity=0.9),\n",
    "                     secondary_y=True)\n",
    "\n",
    "fig.add_trace(go.Bar(x=x, y=y3,\n",
    "                     name='MAE',\n",
    "                     marker_color= '#ebc95d',  #'#b8241d',\n",
    "                     opacity=0.9),\n",
    "                     secondary_y=True)\n",
    "\n",
    "fig.update_yaxes(title_text='R2 Score', range=[0,0.85], secondary_y=False)#, nticks=8)\n",
    "#fig.update_yaxes(nticks=6)\n",
    "#fig.update_yaxes(range=[0, max(y2) + (y2/100)*30], secondary_y=False)\n",
    "fig.update_yaxes(title_text='Error Values', range=[0,0.08], secondary_y=True)#, nticks=10)\n",
    "\n",
    "\n",
    "fig.update_layout(barmode='group',\n",
    "                  bargap=0.15,\n",
    "                  bargroupgap=0.1,\n",
    "                  title_text='Cross Validation of R2 Score, RMSE and MAE (knr)',\n",
    "#                  #xaxis_title = 'Time',\n",
    "#                 yaxis_title = 'Error Values',\n",
    "#                  xaxis_tickangle=-0,\n",
    "                  #xaxis_rangeslider_visible=True,\n",
    "                  #paper_bgcolor='#C8C8C8',\n",
    "                  # font=dict(family='Courier New, monospace', size=18, color='#7f7f7f')\n",
    "                  plot_bgcolor='#F0F0F0')\n",
    "\n",
    "\n",
    "\n",
    "\n",
    "fig.show()"
   ]
  },
  {
   "cell_type": "code",
   "execution_count": null,
   "metadata": {
    "code_folding": [
     0
    ]
   },
   "outputs": [],
   "source": [
    "# Cross Validation of Total Test Set EinsMan in MWh (every Fold):\n",
    "\n",
    "norm_to_GWh = 280/(6*1000)    # 280 MW installed (normed), 10 min resolution (1/6), MW to GW (1/1000)\n",
    "fold_list = list(range(1, len(EinsMan_test_norm_sum_acv_knr)+1))\n",
    "\n",
    "x  = ['Fold ' + str(fold) for fold in fold_list]\n",
    "y1 = EinsMan_test_norm_sum_acv_knr * norm_to_GWh\n",
    "y2 = EinsMan_pred_norm_sum_acv_knr * norm_to_GWh\n",
    "#y3 = EinsMan_pred_norm_sum_awcv_knr * norm_to_GWh\n",
    "#y4 = EinsMan_pred_norm_sum_w100cv_knr * norm_to_GWh\n",
    "\n",
    "fig = go.Figure()\n",
    "\n",
    "fig.add_trace(go.Bar(x=x, y=y1,\n",
    "                     name='EinsMan True',\n",
    "                     marker_color='#1468a2'))\n",
    "\n",
    "fig.add_trace(go.Bar(x=x, y=y2,\n",
    "                     name='EinsMan Predicted (all)',\n",
    "                     marker_color='#ffca1b'))\n",
    "\n",
    "#fig.add_trace(go.Bar(x=x, y=y3,\n",
    "#                     name='EinsMan Predicted (allwind)',\n",
    "#                     marker_color='#eb4a4c'))\n",
    "\n",
    "#fig.add_trace(go.Bar(x=x, y=y4,\n",
    "#                     name='EinsMan Predicted (wind100m)',\n",
    "#                     marker_color='#00ad67'))\n",
    "\n",
    "\n",
    "#fig.add_trace(go.Bar(x=x, y=y3,\n",
    "#                     name='Power Available',\n",
    "#                     marker_color='#606060'))\n",
    "\n",
    "fig.update_layout(barmode='group',\n",
    "                  bargap=0.15,\n",
    "                  bargroupgap=0.1,\n",
    "                  title_text='Cross Validation of Total Test Set EinsMan in GWh (knr)',\n",
    "                  #xaxis_title = 'Time',\n",
    "                  yaxis_title = 'Total EinsMan in GWh',\n",
    "                  xaxis_tickangle=-0,\n",
    "                  #xaxis_rangeslider_visible=True,\n",
    "                  #paper_bgcolor='#C8C8C8',\n",
    "                  # font=dict(family='Courier New, monospace', size=18, color='#7f7f7f')\n",
    "                  plot_bgcolor='#F0F0F0')\n",
    "\n",
    "\n",
    "fig.show()"
   ]
  },
  {
   "cell_type": "code",
   "execution_count": null,
   "metadata": {},
   "outputs": [],
   "source": []
  },
  {
   "cell_type": "code",
   "execution_count": null,
   "metadata": {},
   "outputs": [],
   "source": []
  },
  {
   "cell_type": "code",
   "execution_count": null,
   "metadata": {},
   "outputs": [],
   "source": []
  },
  {
   "cell_type": "markdown",
   "metadata": {},
   "source": [
    "### Random Forest Regressor:"
   ]
  },
  {
   "cell_type": "markdown",
   "metadata": {},
   "source": [
    "#### Model Fit and Predict:"
   ]
  },
  {
   "cell_type": "code",
   "execution_count": null,
   "metadata": {
    "code_folding": [
     0
    ]
   },
   "outputs": [],
   "source": [
    "# Model Fit and Predict with All GFS Variables as Features:\n",
    "\n",
    "# Instantiate Regressor:\n",
    "rfr_a = RandomForestRegressor(n_jobs=-1, random_state=0, n_estimators=100)\n",
    "\n",
    "# Fit Regressor to Train Data Set:\n",
    "rfr_a.fit(X_a_train, y_a_train.values.ravel())\n",
    "\n",
    "# Predict Target Values on Test Data:\n",
    "y_a_pred_rfr = rfr_a.predict(X_a_test)\n",
    "\n",
    "# Predict Target Values on Training Data:\n",
    "y_a_train_pred_rfr = rfr_a.predict(X_a_train)"
   ]
  },
  {
   "cell_type": "code",
   "execution_count": null,
   "metadata": {
    "code_folding": [
     0
    ]
   },
   "outputs": [],
   "source": [
    "# Convert predictions to DataFrames for Prediction Plots:\n",
    "\n",
    "y_a_pred_rfr = pd.DataFrame(y_a_pred_rfr, columns=['EinsMan_all_pred_norm'], index=y_a_test.index)\n",
    "\n",
    "\n",
    "# Calculate Residuals = y_true - y_predicted:\n",
    "residuals_a_rfr = y_a_test.values - y_a_pred_rfr.values\n",
    "residuals_a_rfr = pd.DataFrame(residuals_a_rfr, columns=['Residuals_all_rfr'], index=y_a_test.index)\n",
    "\n",
    "\n",
    "# Determine daily sums and fractions of true (test set) EinsMan loss work (in MWh and %):\n",
    "y_a_test_rfr_day_sum_frac = einsman_daily_sum_and_frac_test(y_a_test)\n",
    "\n",
    "#y_test_rfr_day_sum_frac[:10]\n",
    "#y_test_rfr_day_sum_frac.EinsMan_test_MWh.sum()\n",
    "\n",
    "# Determine daily sums and fractions of predicted EinsMan loss work (in MWh and %):\n",
    "y_a_pred_rfr_day_sum_frac = einsman_daily_sum_and_frac_pred(y_a_pred_rfr, features='all')\n",
    "#y_pred_rfr_day_sum_frac[:10]\n",
    "#y_pred_rfr_day_sum_frac.EinsMan_pred_MWh.sum()\n",
    "\n",
    "\n",
    "# Prepare EinsMan test/predict and Power available DataFrame for Prediction Plots:\n",
    "\n",
    "# Power available at test data points:\n",
    "y_a_test_power_avail = df_gq_10min_nn.loc[y_a_test.index, 'power_available_norm'].to_frame()\n",
    "\n",
    "# Concatenate DataFrames together, and rename columns:\n",
    "y_a_test_pred_rfr_avail = pd.concat([y_a_test, y_a_pred_rfr, y_a_test_power_avail], axis=1)\n",
    "y_a_test_pred_rfr_avail.rename(columns={'losses_rtu_einsman_norm': 'EinsMan_true_norm',\n",
    "                                  'power_available_norm':'Power_avail_norm'}, inplace=True)\n",
    "\n",
    "# Prepare continuous DataFrame (10 min res) for plotting (no connecting lines between days):\n",
    "y_a_test_pred_rfr_avail_10min = y_a_test_pred_rfr_avail.resample('10T').asfreq()"
   ]
  },
  {
   "cell_type": "code",
   "execution_count": null,
   "metadata": {},
   "outputs": [],
   "source": []
  },
  {
   "cell_type": "code",
   "execution_count": null,
   "metadata": {
    "code_folding": [
     0
    ]
   },
   "outputs": [],
   "source": [
    "# Model Fit and Predict with All GFS Wind Variables as Features:\n",
    "\n",
    "# Instantiate Regressor:\n",
    "rfr_aw = RandomForestRegressor(n_jobs=-1, random_state=0, n_estimators=100)\n",
    "\n",
    "# Fit Regressor to Train Data Set:\n",
    "rfr_aw.fit(X_aw_train, y_aw_train.values.ravel())\n",
    "\n",
    "# Predict Target Values on Test Data:\n",
    "y_aw_pred_rfr = rfr_aw.predict(X_aw_test)\n",
    "\n",
    "# Predict Target Values on Training Data:\n",
    "y_aw_train_pred_rfr = rfr_aw.predict(X_aw_train)"
   ]
  },
  {
   "cell_type": "code",
   "execution_count": null,
   "metadata": {
    "code_folding": [
     0
    ]
   },
   "outputs": [],
   "source": [
    "# Convert predictions to DataFrames for Prediction Plots:\n",
    "\n",
    "y_aw_pred_rfr = pd.DataFrame(y_aw_pred_rfr, columns=['EinsMan_allwind_pred_norm'], index=y_aw_test.index)\n",
    "\n",
    "# Calculate Residuals = y_true - y_predicted:\n",
    "residuals_aw_rfr = y_aw_test.values - y_aw_pred_rfr.values\n",
    "residuals_aw_rfr = pd.DataFrame(residuals_aw_rfr, columns=['Residuals_allwind_rfr'], index=y_aw_test.index)\n",
    "\n",
    "# Determine daily sums and fractions of true (test set) EinsMan loss work (in MWh and %):\n",
    "y_aw_test_rfr_day_sum_frac = einsman_daily_sum_and_frac_test(y_aw_test)\n",
    "\n",
    "# Determine daily sums and fractions of predicted EinsMan loss work (in MWh and %):\n",
    "y_aw_pred_rfr_day_sum_frac = einsman_daily_sum_and_frac_pred(y_aw_pred_rfr, features='allwind')\n",
    "\n",
    "\n",
    "# Prepare EinsMan test/predict and Power available DataFrame for Prediction Plots:\n",
    "\n",
    "# Power available at test data points:\n",
    "y_aw_test_power_avail = df_gq_10min_nn.loc[y_aw_test.index, 'power_available_norm'].to_frame()\n",
    "\n",
    "# Concatenate DataFrames together, and rename columns:\n",
    "y_aw_test_pred_rfr_avail = pd.concat([y_aw_test, y_aw_pred_rfr, y_aw_test_power_avail], axis=1)\n",
    "y_aw_test_pred_rfr_avail.rename(columns={'losses_rtu_einsman_norm': 'EinsMan_true_norm',\n",
    "                                  'power_available_norm':'Power_avail_norm'}, inplace=True)\n",
    "\n",
    "# Prepare continuous DataFrame (10 min res) for plotting (no connecting lines between days):\n",
    "y_aw_test_pred_rfr_avail_10min = y_aw_test_pred_rfr_avail.resample('10T').asfreq()"
   ]
  },
  {
   "cell_type": "code",
   "execution_count": null,
   "metadata": {},
   "outputs": [],
   "source": []
  },
  {
   "cell_type": "code",
   "execution_count": null,
   "metadata": {
    "code_folding": [
     0
    ]
   },
   "outputs": [],
   "source": [
    "# Model Fit and Predict with GFS Wind Variable in 100m as Feature:\n",
    "\n",
    "# Instantiate Regressor:\n",
    "rfr_w100 = RandomForestRegressor(n_jobs=-1, random_state=0, n_estimators=100)\n",
    "\n",
    "# Fit Regressor to Train Data Set:\n",
    "rfr_w100.fit(X_w100_train, y_w100_train.values.ravel())\n",
    "\n",
    "# Predict Target Values on Test Data:\n",
    "y_w100_pred_rfr = rfr_w100.predict(X_w100_test)\n",
    "\n",
    "# Predict Target Values on Training Data:\n",
    "y_w100_train_pred_rfr = rfr_w100.predict(X_w100_train)"
   ]
  },
  {
   "cell_type": "code",
   "execution_count": null,
   "metadata": {
    "code_folding": []
   },
   "outputs": [],
   "source": [
    "# Convert predictions to DataFrames for Prediction Plots:\n",
    "\n",
    "y_w100_pred_rfr = pd.DataFrame(y_w100_pred_rfr, columns=['EinsMan_wind100m_pred_norm'], index=y_w100_test.index)\n",
    "\n",
    "# Calculate Residuals = y_true - y_predicted:\n",
    "residuals_w100_rfr = y_w100_test.values - y_w100_pred_rfr.values\n",
    "residuals_w100_rfr = pd.DataFrame(residuals_w100_rfr, columns=['Residuals_wind100m_rfr'], index=y_w100_test.index)\n",
    "\n",
    "# Determine daily sums and fractions of true (test set) EinsMan loss work (in MWh and %):\n",
    "y_w100_test_rfr_day_sum_frac = einsman_daily_sum_and_frac_test(y_w100_test)\n",
    "\n",
    "# Determine daily sums and fractions of predicted EinsMan loss work (in MWh and %):\n",
    "y_w100_pred_rfr_day_sum_frac = einsman_daily_sum_and_frac_pred(y_w100_pred_rfr, features='wind100m')\n",
    "\n",
    "\n",
    "# Prepare EinsMan test/predict and Power available DataFrame for Prediction Plots:\n",
    "\n",
    "# Power available at test data points:\n",
    "y_w100_test_power_avail = df_gq_10min_nn.loc[y_w100_test.index, 'power_available_norm'].to_frame()\n",
    "\n",
    "# Concatenate DataFrames together, and rename columns:\n",
    "y_w100_test_pred_rfr_avail = pd.concat([y_w100_test, y_w100_pred_rfr, y_w100_test_power_avail], axis=1)\n",
    "y_w100_test_pred_rfr_avail.rename(columns={'losses_rtu_einsman_norm': 'EinsMan_true_norm',\n",
    "                                  'power_available_norm':'Power_avail_norm'}, inplace=True)\n",
    "\n",
    "# Prepare continuous DataFrame (10 min res) for plotting (no connecting lines between days):\n",
    "y_w100_test_pred_rfr_avail_10min = y_w100_test_pred_rfr_avail.resample('10T').asfreq()"
   ]
  },
  {
   "cell_type": "code",
   "execution_count": null,
   "metadata": {},
   "outputs": [],
   "source": []
  },
  {
   "cell_type": "code",
   "execution_count": null,
   "metadata": {},
   "outputs": [],
   "source": []
  },
  {
   "cell_type": "markdown",
   "metadata": {},
   "source": [
    "#### Evaluation Scores:"
   ]
  },
  {
   "cell_type": "code",
   "execution_count": null,
   "metadata": {},
   "outputs": [],
   "source": []
  },
  {
   "cell_type": "code",
   "execution_count": null,
   "metadata": {
    "code_folding": [
     0
    ]
   },
   "outputs": [],
   "source": [
    "# Evaluation Scores for All GFS Variables as Features:\n",
    "\n",
    "# Evaluation Scores on Test data:\n",
    "\n",
    "reg_evaluation(y_a_test, y_a_pred_rfr)\n",
    "\n",
    "# First check: sums of actual and predicted EinsMan losses on test data:\n",
    "\n",
    "print('')\n",
    "print(np.sum(y_a_test))\n",
    "print(np.sum(y_a_pred_rfr))\n",
    "print('')\n",
    "print('')\n",
    "\n",
    "# Evaluation Scores on Training data:\n",
    "\n",
    "reg_evaluation(y_a_train, y_a_train_pred_rfr)\n",
    "\n",
    "# First check: sums of actual and predicted EinsMan losses on train data:\n",
    "\n",
    "print('')\n",
    "print(np.sum(y_a_train))\n",
    "print(np.sum(y_a_train_pred_rfr))"
   ]
  },
  {
   "cell_type": "code",
   "execution_count": null,
   "metadata": {},
   "outputs": [],
   "source": [
    "#y_a_test.index.normalize().unique()[80:120]"
   ]
  },
  {
   "cell_type": "code",
   "execution_count": null,
   "metadata": {},
   "outputs": [],
   "source": []
  },
  {
   "cell_type": "code",
   "execution_count": null,
   "metadata": {
    "code_folding": [
     0
    ]
   },
   "outputs": [],
   "source": [
    "# Evaluation Scores for All GFS Wind Variables as Features:\n",
    "\n",
    "# Evaluation Scores on Test data:\n",
    "\n",
    "reg_evaluation(y_aw_test, y_aw_pred_rfr)\n",
    "\n",
    "# First check: sums of actual and predicted EinsMan losses on test data:\n",
    "\n",
    "print('')\n",
    "print(np.sum(y_aw_test))\n",
    "print(np.sum(y_aw_pred_rfr))\n",
    "print('')\n",
    "print('')\n",
    "\n",
    "# Evaluation Scores on Training data:\n",
    "\n",
    "reg_evaluation(y_aw_train, y_aw_train_pred_rfr)\n",
    "\n",
    "# First check: sums of actual and predicted EinsMan losses on train data:\n",
    "\n",
    "print('')\n",
    "print(np.sum(y_aw_train))\n",
    "print(np.sum(y_aw_train_pred_rfr))"
   ]
  },
  {
   "cell_type": "code",
   "execution_count": null,
   "metadata": {},
   "outputs": [],
   "source": []
  },
  {
   "cell_type": "code",
   "execution_count": null,
   "metadata": {
    "code_folding": [
     0
    ]
   },
   "outputs": [],
   "source": [
    "# Evaluation Scores for GFS Wind Variable in 100m as Feature:\n",
    "\n",
    "# Evaluation Scores on Test data:\n",
    "\n",
    "reg_evaluation(y_w100_test, y_w100_pred_rfr)\n",
    "\n",
    "# First check: sums of actual and predicted EinsMan losses on test data:\n",
    "\n",
    "print('')\n",
    "print(np.sum(y_w100_test))\n",
    "print(np.sum(y_w100_pred_rfr))\n",
    "print('')\n",
    "print('')\n",
    "\n",
    "# Evaluation Scores on Training data:\n",
    "\n",
    "reg_evaluation(y_w100_train, y_w100_train_pred_rfr)\n",
    "\n",
    "# First check: sums of actual and predicted EinsMan losses on train data:\n",
    "\n",
    "print('')\n",
    "print(np.sum(y_w100_train))\n",
    "print(np.sum(y_w100_train_pred_rfr))"
   ]
  },
  {
   "cell_type": "code",
   "execution_count": null,
   "metadata": {},
   "outputs": [],
   "source": []
  },
  {
   "cell_type": "code",
   "execution_count": null,
   "metadata": {},
   "outputs": [],
   "source": []
  },
  {
   "cell_type": "code",
   "execution_count": null,
   "metadata": {
    "code_folding": [
     0
    ]
   },
   "outputs": [],
   "source": [
    "# Testing:\n",
    "\n",
    "# daily sum with groupby \n",
    "#y_pred_rfr_day_sum = y_pred_rfr.groupby(y_pred_rfr.index.date).agg('sum')\n",
    "#y_pred_day_sum.index = pd.to_datetime(y_pred_day_sum.index)\n",
    "\n",
    "\n",
    "# daily sum of power available at indices of test/predict set:\n",
    "#power_avail_y_pred_ind = df_gq_10min_nn.power_available_norm.loc[y_pred_rfr.index]\n",
    "#y_pred_rfr_day_sum['Power_avail_norm'] = power_avail_y_pred_ind.groupby(y_pred_rfr.index.date).agg('sum')\n",
    "\n",
    "\n",
    "# daily sum/count of power max (data is normed to 1, 1 = installed power, ~280 MW)\n",
    "#y_test_day_count = y_test.groupby(y_test.index.date).agg('count')\n",
    "#y_test_day_count[:10]\n",
    "\n",
    "\n",
    "#power_y_test_ind = df_gq_10min_nn.power_available_norm.loc[y_test.index]\n",
    "#y_avail_day_sum = power_y_test_ind.groupby(y_test.index.date).agg('sum')\n",
    "#y_avail_day_sum"
   ]
  },
  {
   "cell_type": "code",
   "execution_count": null,
   "metadata": {
    "code_folding": [
     0
    ]
   },
   "outputs": [],
   "source": [
    "# Testing Groupby and resampling (for continuous time series when plotting)\n",
    "# important!!! ----> first groupby allocation of data, only at the end resampling\n",
    "#              ----> NaN values instead of 0s at days where no data is present\n",
    "\n",
    "\n",
    "#y_test_day_sum = y_test.groupby(y_test.index.date).agg('sum') # first groupby\n",
    "##y_test_day_sum = y_test.resample('D').sum()\n",
    "##y_test_day_sum = y_test_day_sum.resample('D').asfreq()\n",
    "#y_test_day_sum.index = pd.to_datetime(y_test_day_sum.index)   # second set index to datetimeindex\n",
    "#y_test_day_sum = y_test_day_sum.resample('D').asfreq()        # third resample, after groupby\n",
    "                                                              # ---> NaN values (instead of 0s when resample)\n",
    "#y_test_day_sum"
   ]
  },
  {
   "cell_type": "code",
   "execution_count": null,
   "metadata": {
    "code_folding": [
     0
    ]
   },
   "outputs": [],
   "source": [
    "# EinsMan loss work in percentage of the current available power (actual values):\n",
    "y_test_perc = y_test.copy()\n",
    "criteria1 = (y_test.values >= np.exp(-7)) & (y_test_power.values > 0)\n",
    "criteria1_index = y_test[criteria1].index\n",
    "#y_test_perc[criteria1] = (y_test[criteria1].values/y_test_power[criteria1].values).ravel()\n",
    "#y_test_perc = y_test.values/y_test_power.values*100\n",
    "#y_test_perc = pd.DataFrame(y_test_perc, index=y_test.index)\n",
    "\n",
    "y_test_crit = y_test[criteria1].values\n",
    "y_test_power_crit = y_test_power[criteria1].values\n",
    "\n",
    "y_test_perc.loc[criteria1_index] = (y_test_crit/y_test_power_crit)*100\n",
    "\n",
    "#y_test_perc[y_test_perc > 0.01].hist(bins=100)\n",
    "#plt.show()"
   ]
  },
  {
   "cell_type": "code",
   "execution_count": null,
   "metadata": {
    "code_folding": [
     0
    ]
   },
   "outputs": [],
   "source": [
    "# EinsMan loss work in percentage of the current available power (predicted values):\n",
    "y_pred_rfr_perc = y_pred_rfr.copy()\n",
    "criteria2 = (y_pred_rfr.values >= np.exp(-7)) & (y_test_power.values > 0) \n",
    "criteria2_index = y_test[criteria2].index\n",
    "#y_pred_rfr_perc[criteria2] = (y_pred_rfr[criteria2]/y_test_power[criteria2])\n",
    "#y_pred_rfr_perc = y_pred_rfr.values/y_test_power.values*100\n",
    "#y_pred_rfr_perc = pd.DataFrame(y_pred_rfr_perc, index=y_test.index)\n",
    "#y_pred_rfr_crit = y_pred_rfr[criteria2].values.ravel()\n",
    "#y_test_power_crit = y_test_power[criteria2].values.ravel()\n",
    "\n",
    "y_pred_rfr_crit = y_pred_rfr[criteria2].values\n",
    "y_test_power_crit = y_test_power[criteria2].values\n",
    "\n",
    "\n",
    "#y_pred_rfr_perc.loc[criteria2_index] = (y_pred_rfr_crit/y_test_power_crit).reshape(-1,1)\n",
    "y_pred_rfr_perc.loc[criteria2_index] = (y_pred_rfr_crit/y_test_power_crit)*100\n",
    "\n",
    "#y_pred_rfr_perc[y_pred_rfr_perc > 0.01].hist(bins=100)\n",
    "#plt.show()"
   ]
  },
  {
   "cell_type": "code",
   "execution_count": null,
   "metadata": {
    "code_folding": [
     0
    ]
   },
   "outputs": [],
   "source": [
    "# Combine Test and Predicted Percentage of Available Power:\n",
    "\n",
    "#y_test_pred_perc = pd.concat([y_test_perc, y_pred_rfr_perc], axis=1)\n",
    "#y_test_pred_perc.rename(columns={'losses_rtu_einsman_norm': 'einsman_true',\n",
    "#                               0:'einsman_predicted'}, inplace=True)\n",
    "#y_test_pred_perc_10min = y_test_pred_perc.resample('10T').asfreq()\n",
    "\n",
    "##y_pred_rfr_perc.hist(bins=100)\n",
    "##df_gq_10min_nn.power_available_norm.hist(bins=100)\n",
    "##y_test_perc.hist(bins=100)\n",
    "#y_pred_rfr_perc.hist(bins=100, color='#1468a2', alpha=1)\n",
    "##y_test_pred_perc_10min.einsman_true.hist(bins=100)\n",
    "#plt.show()"
   ]
  },
  {
   "cell_type": "code",
   "execution_count": null,
   "metadata": {},
   "outputs": [],
   "source": []
  },
  {
   "cell_type": "code",
   "execution_count": null,
   "metadata": {
    "code_folding": [
     0
    ]
   },
   "outputs": [],
   "source": [
    "# Bokeh Plot:\n",
    "\n",
    "#source = ColumnDataSource(y_test_pred_perc_10min)\n",
    "\n",
    "#plot_y_test_pred_perc = figure(x_axis_type='datetime', plot_width=800, plot_height=350)\n",
    "#plot_y_test_pred_perc.line('index', 'einsman_true', source=source)\n",
    "#plot_y_test_pred_perc.line('index', 'einsman_predicted', source=source, line_color='green')\n",
    "\n",
    "##hover = plot_y_test_pred.select(dict(type=HoverTool))\n",
    "##hover.tooltips = [(\"Series\", \"@series_name\"), (\"Date\", \"@Date\"),  (\"Value\", \"@y{0.00%}\"),]\n",
    "##hover.mode = 'mouse'\n",
    "\n",
    "\n",
    "#reset_output()\n",
    "##output_file('y_test_pred_tf.html')\n",
    "#output_notebook()\n",
    "\n",
    "#show(plot_y_test_pred_perc)"
   ]
  },
  {
   "cell_type": "code",
   "execution_count": null,
   "metadata": {
    "code_folding": [
     0
    ]
   },
   "outputs": [],
   "source": [
    "# Bokeh Plot2:\n",
    "\n",
    "#source = ColumnDataSource(y_test_pred_10min)\n",
    "\n",
    "#plot_y_test_pred = figure(x_axis_type='datetime', plot_width=800, plot_height=350)\n",
    "#plot_y_test_pred.line('index', 'einsman_true', source=source)\n",
    "#plot_y_test_pred.line('index', 'einsman_predicted', source=source, line_color='green')\n",
    "\n",
    "##hover = plot_y_test_pred.select(dict(type=HoverTool))\n",
    "#hover = HoverTool()\n",
    "##hover.tooltips = [(\"Series\", \"@series_name\"), (\"Date\", \"@Date\"),  (\"Value\", \"@y{0.00%}\"),]\n",
    "#hover.tooltips = [('EinsMan True', '@einsman_true'), ('EinsMan Pred', '@einsman_predicted')] #,  ('Date', '@index'),]\n",
    "#hover.mode = 'mouse'\n",
    "\n",
    "#plot_y_test_pred.add_tools(hover)\n",
    "\n",
    "#reset_output()\n",
    "##output_file('y_test_pred_tf.html')\n",
    "#output_notebook()\n",
    "\n",
    "#show(plot_y_test_pred)\n",
    "\n",
    "## try to reset to full time series index, to avoid connecting lines between test blocks"
   ]
  },
  {
   "cell_type": "code",
   "execution_count": null,
   "metadata": {},
   "outputs": [],
   "source": []
  },
  {
   "cell_type": "code",
   "execution_count": null,
   "metadata": {},
   "outputs": [],
   "source": []
  },
  {
   "cell_type": "code",
   "execution_count": null,
   "metadata": {},
   "outputs": [],
   "source": []
  },
  {
   "cell_type": "code",
   "execution_count": null,
   "metadata": {
    "code_folding": [
     0
    ]
   },
   "outputs": [],
   "source": [
    "# Only looking at subset of the data (high Einsman values):\n",
    "\n",
    "mask_sub = (y_test.values > 0.1) & (y_test.values < 1)\n",
    "print(len(X_test[mask_sub]))\n",
    "y_pred_rfr_sub = rfr.predict(X_test[mask_sub])\n",
    "reg_evaluation(y_test[mask_sub], y_pred_rfr_sub)"
   ]
  },
  {
   "cell_type": "markdown",
   "metadata": {
    "heading_collapsed": true
   },
   "source": [
    "#### Residual Plots:"
   ]
  },
  {
   "cell_type": "code",
   "execution_count": null,
   "metadata": {
    "hidden": true
   },
   "outputs": [],
   "source": [
    "# Visualize Test Set Targets: Actual and Predicted:\n",
    "\n",
    "plot_y_pred_hist(y_test.values, y_pred_rfr, 'rfr', log_values=False, log_yaxis=True)"
   ]
  },
  {
   "cell_type": "code",
   "execution_count": null,
   "metadata": {
    "hidden": true
   },
   "outputs": [],
   "source": [
    "# Visualize Test Set Targets: Actual and Predicted:\n",
    "\n",
    "plot_y_pred_hist(y_test.values, y_pred_rfr, 'rfr', log_values=True, log_yaxis=True)"
   ]
  },
  {
   "cell_type": "code",
   "execution_count": null,
   "metadata": {
    "hidden": true
   },
   "outputs": [],
   "source": [
    "sum(y_test.values.ravel() >= 1e-50)"
   ]
  },
  {
   "cell_type": "code",
   "execution_count": null,
   "metadata": {
    "hidden": true
   },
   "outputs": [],
   "source": [
    "# Histogram of Residuals:\n",
    "\n",
    "plot_residuals_hist(residuals_rfr, 'rfr', log_values=False, log_yaxis=False, cum=False)\n",
    "#plot_residuals_hist(residuals_rfr[y_test.values.ravel()>= 0.2], 'rfr', log_values=False, log_yaxis=False, cum=False)"
   ]
  },
  {
   "cell_type": "code",
   "execution_count": null,
   "metadata": {
    "hidden": true
   },
   "outputs": [],
   "source": [
    "# Relative Residuals:\n",
    "\n",
    "y_true = y_test.values.ravel()\n",
    "#print(y_true.shape)\n",
    "residuals_rfr = y_true - y_pred_rfr\n",
    "#print(y_pred_rfr.shape)\n",
    "\n",
    "plt.style.use('seaborn')\n",
    "plt.figure(figsize=(10,8))\n",
    "rel_residuals_rfr = (y_true[y_true>0.05] - y_pred_rfr[y_true>0.05])/y_true[y_true>0.05]*100\n",
    "plt.hist(rel_residuals_rfr, bins=50, alpha=0.9, log=False)\n",
    "plt.xlabel('Relative Residuals rfr')\n",
    "plt.ylabel('Count')\n",
    "plt.title('Relative Residuals (y_true - y_pred)/y_true')\n",
    "plt.show()"
   ]
  },
  {
   "cell_type": "code",
   "execution_count": null,
   "metadata": {
    "hidden": true
   },
   "outputs": [],
   "source": [
    "# Plotting Residuals vs Fitted Values:\n",
    "\n",
    "plot_residuals_vs_fitted(residuals_rfr, y_pred_rfr, 'rfr')"
   ]
  },
  {
   "cell_type": "code",
   "execution_count": null,
   "metadata": {
    "hidden": true
   },
   "outputs": [],
   "source": [
    "# Plotting Residuals vs Actual Values:\n",
    "\n",
    "plot_residuals_vs_actual(residuals_rfr, y_test, 'rfr')"
   ]
  },
  {
   "cell_type": "code",
   "execution_count": null,
   "metadata": {
    "hidden": true
   },
   "outputs": [],
   "source": [
    "plot_residuals_vs_best_feature(residuals_rfr, rfr.feature_importances_, X_test, 'rfr')"
   ]
  },
  {
   "cell_type": "code",
   "execution_count": null,
   "metadata": {
    "hidden": true
   },
   "outputs": [],
   "source": []
  },
  {
   "cell_type": "code",
   "execution_count": null,
   "metadata": {
    "hidden": true
   },
   "outputs": [],
   "source": [
    "# Plotting Predictions againts True Target Values:\n",
    "\n",
    "plot_predictions_vs_actual_targets(y_test, y_pred_rfr, 'rfr')"
   ]
  },
  {
   "cell_type": "markdown",
   "metadata": {},
   "source": [
    "#### Prediction Plots:"
   ]
  },
  {
   "cell_type": "code",
   "execution_count": null,
   "metadata": {
    "code_folding": []
   },
   "outputs": [],
   "source": [
    "# Plotly Visualisation of Predicted and Actual EinsMan values and Available Power:\n",
    "# all values are normed values, here displayed in % of total installed power (~280 MW)\n",
    "\n",
    "\n",
    "fig = go.Figure()\n",
    "#fig = go.FigureWidget(data=data, layout=layout)\n",
    "\n",
    "#x  = y_test_pred_avail_10min.index\n",
    "#y1 = y_test_pred_avail_10min['EinsMan_true_norm']*100\n",
    "#y2 = y_test_pred_avail_10min['EinsMan_pred_norm']*100\n",
    "#y3 = y_test_pred_avail_10min['Power_avail_norm']*100\n",
    "\n",
    "\n",
    "# show results only for timeframe:\n",
    "\n",
    "tf_start = '2018-01'\n",
    "tf_end   = '2019-08'\n",
    "timeframe = (y_a_test_pred_rfr_avail_10min.index >= tf_start) & (y_a_test_pred_rfr_avail_10min.index <= tf_end)\n",
    "\n",
    "x  = y_a_test_pred_rfr_avail_10min[timeframe].index\n",
    "y1 = y_a_test_pred_rfr_avail_10min[timeframe]['EinsMan_true_norm']*100\n",
    "y2 = y_a_test_pred_rfr_avail_10min[timeframe]['EinsMan_all_pred_norm']*100\n",
    "y3 = y_aw_test_pred_rfr_avail_10min[timeframe]['EinsMan_allwind_pred_norm']*100\n",
    "y4 = y_w100_test_pred_rfr_avail_10min[timeframe]['EinsMan_wind100m_pred_norm']*100\n",
    "y5 = y_a_test_pred_rfr_avail_10min[timeframe]['Power_avail_norm']*100\n",
    "\n",
    "\n",
    "\n",
    "fig.add_trace(go.Scatter(x=x, y=y1,\n",
    "                         name='EinsMan True',\n",
    "                         line_color='#1468a2',\n",
    "                         line_width=3)) # deepskyblue\n",
    "\n",
    "fig.add_trace(go.Scatter(x=x, y=y2,\n",
    "                         name='EinsMan Predicted (all)',\n",
    "                         line_color='#ffca1b',\n",
    "                         line_width=3)) # dimgray, #29A073\n",
    "\n",
    "fig.add_trace(go.Scatter(x=x, y=y3,\n",
    "                         name='EinsMan Predicted (allwind)',\n",
    "                         line_color='#eb4a4c',\n",
    "                         line_width=2,\n",
    "                         opacity=0.8)) # deepskyblue\n",
    "\n",
    "fig.add_trace(go.Scatter(x=x, y=y4,\n",
    "                         name='EinsMan Predicted (wind100m)',\n",
    "                         line_color='#00ad67',\n",
    "                         line_width=2,\n",
    "                         opacity=0.8)) # dimgray, #29A073 #00b087'\n",
    "\n",
    "fig.add_trace(go.Scatter(x=x, y=y5,\n",
    "                         name='Power Available',\n",
    "                         line_color='#606060',\n",
    "                         line_width=3)) # dimgray, #29A073\n",
    "\n",
    "\n",
    "fig.update_layout(title_text='Time Series of EinsMan Events (rfr)',\n",
    "                  #xaxis_title = 'Time',\n",
    "                  yaxis_title = 'Power in % of installed Total (280 MW)',\n",
    "                  #xaxis_rangeslider_visible=True,\n",
    "                  #paper_bgcolor='#C8C8C8',\n",
    "                  # font=dict(family='Courier New, monospace', size=18, color='#7f7f7f')\n",
    "                  plot_bgcolor='#F0F0F0')\n",
    "\n",
    "#1468a2 #ffca1b #eb4a4c #00ad67 #606060\n",
    "\n",
    "fig.update_xaxes(range=['2019-03-09','2019-03-19'])\n",
    "\n",
    "   \n",
    "#fig.layout.on_change(zoom, 'xaxis.range')\n",
    "\n",
    "#fig.hoverlabel.opacity=0.5\n",
    "#fig.write_image('folder/image_name.png or jpeg or pdf)') # only select 3 day period of interest in dataframe\n",
    "fig.show()"
   ]
  },
  {
   "cell_type": "code",
   "execution_count": null,
   "metadata": {},
   "outputs": [],
   "source": []
  },
  {
   "cell_type": "code",
   "execution_count": null,
   "metadata": {
    "code_folding": [
     0
    ]
   },
   "outputs": [],
   "source": [
    "# Plotly Visualisation of Predicted and Actual EinsMan and Available Power daily sums in MWh:\n",
    "# all values are daily sums, here displayed in MWh\n",
    "# total installed power equals a maximum daily sum of 6720 MWh\n",
    "\n",
    "\n",
    "#x  = y_test_rfr_day_sum_frac.index\n",
    "#y1 = y_test_rfr_day_sum_frac.EinsMan_test_MWh\n",
    "#y2 = y_pred_rfr_day_sum_frac.EinsMan_pred_MWh\n",
    "#y3 = y_test_rfr_day_sum_frac.Power_avail_MWh\n",
    "\n",
    "\n",
    "# \n",
    "tf_start = '2018-01'\n",
    "tf_end   = '2019-08'\n",
    "timeframe = (y_a_test_rfr_day_sum_frac.index >= tf_start) & (y_a_test_rfr_day_sum_frac.index <= tf_end)\n",
    "\n",
    "x  = y_a_test_rfr_day_sum_frac[timeframe].index\n",
    "y1 = y_a_test_rfr_day_sum_frac[timeframe].EinsMan_test_MWh\n",
    "y2 = y_a_pred_rfr_day_sum_frac[timeframe].EinsMan_all_pred_MWh\n",
    "y3 = y_aw_pred_rfr_day_sum_frac[timeframe].EinsMan_allwind_pred_MWh\n",
    "y4 = y_w100_pred_rfr_day_sum_frac[timeframe].EinsMan_wind100m_pred_MWh\n",
    "y5 = y_a_test_rfr_day_sum_frac[timeframe].Power_avail_MWh\n",
    "\n",
    "fig = go.Figure()\n",
    "\n",
    "fig.add_trace(go.Bar(x=x, y=y1,\n",
    "                     name='EinsMan True',\n",
    "                     marker_color='#1468a2'))\n",
    "\n",
    "fig.add_trace(go.Bar(x=x, y=y2,\n",
    "                     name='EinsMan Predicted (all)',\n",
    "                     marker_color='#ffca1b'))\n",
    "\n",
    "fig.add_trace(go.Bar(x=x, y=y3,\n",
    "                     name='EinsMan Predicted (allwind)',\n",
    "                     marker_color='#eb4a4c')) # #8637ff\n",
    "\n",
    "fig.add_trace(go.Bar(x=x, y=y4,\n",
    "                     name='EinsMan Predicted (wind100m)',\n",
    "                     marker_color='#00ad67'))  # #00b087\n",
    "\n",
    "fig.add_trace(go.Bar(x=x, y=y5,\n",
    "                     name='Power Available',\n",
    "                     marker_color='#606060'))\n",
    "\n",
    "\n",
    "\n",
    "fig.update_layout(barmode='group',\n",
    "                  bargap=0.15,\n",
    "                  bargroupgap=0.1,\n",
    "                  title_text='Daily Sum of EinsMan Events in MWh (rfr)',\n",
    "                  #xaxis_title = 'Time',\n",
    "                  yaxis_title = 'Daily Power in MWh (max 6720)',\n",
    "                  xaxis_tickangle=-45,\n",
    "                  #xaxis_rangeslider_visible=True,\n",
    "                  #paper_bgcolor='#C8C8C8',\n",
    "                  # font=dict(family='Courier New, monospace', size=18, color='#7f7f7f')\n",
    "                  plot_bgcolor='#F0F0F0')\n",
    "\n",
    "fig.update_xaxes(range=['2019-03-08','2019-03-19'])\n",
    "\n",
    "\n",
    "fig.show()"
   ]
  },
  {
   "cell_type": "code",
   "execution_count": null,
   "metadata": {},
   "outputs": [],
   "source": [
    "max(y_a_test_rfr_day_sum_frac.Power_avail_norm)"
   ]
  },
  {
   "cell_type": "code",
   "execution_count": null,
   "metadata": {
    "code_folding": [
     0
    ]
   },
   "outputs": [],
   "source": [
    "# Plotly Visualisation of Daily Sum Differences \n",
    "\n",
    "\n",
    "x = y_a_test_rfr_day_sum_frac.EinsMan_test_MWh\n",
    "y1 = (y_a_pred_rfr_day_sum_frac.EinsMan_all_pred_MWh - x) / x * 100\n",
    "y2 = (y_aw_pred_rfr_day_sum_frac.EinsMan_allwind_pred_MWh - x) / x * 100\n",
    "y3 = (y_w100_pred_rfr_day_sum_frac.EinsMan_wind100m_pred_MWh - x) / x * 100\n",
    "y4 = y_a_test_rfr_day_sum_frac.Power_avail_norm / 5\n",
    "\n",
    "fig = go.Figure()\n",
    "\n",
    "#fig.add_trace(go.Bar(x=x, y=y1,\n",
    "#                     name='EinsMan True',\n",
    "#                     marker_color='#1468a2'))\n",
    "\n",
    "fig.add_trace(go.Scatter(x=x, y=y1,\n",
    "                     name='EinsMan Predicted (all)',\n",
    "                     mode='markers',\n",
    "                     marker_color='#ffca1b',\n",
    "                     marker_size=y4))\n",
    "\n",
    "fig.add_trace(go.Scatter(x=x, y=y2,\n",
    "                     name='EinsMan Predicted (allwind)',\n",
    "                     mode='markers',\n",
    "                     marker_color='#eb4a4c',\n",
    "                     marker_size=y4)) # #8637ff\n",
    "\n",
    "fig.add_trace(go.Scatter(x=x, y=y3,\n",
    "                     name='EinsMan Predicted (wind100m)',\n",
    "                     mode='markers',\n",
    "                     marker_color='#00ad67',\n",
    "                     marker_size=y4))\n",
    "\n",
    "#fig.add_trace(go.Scatter(x=x, y=y3,\n",
    "#                     name='EinsMan Predicted (wind100m)',\n",
    "#                     mode='markers',\n",
    "#                     marker_color='#00b087',\n",
    "#                     marker_size=y4))\n",
    "\n",
    "\n",
    "#fig.add_trace(go.Bar(x=x, y=y5,\n",
    "#                     name='Power Available',\n",
    "#                     marker_color='#606060'))\n",
    "\n",
    "\n",
    "fig.update_layout(title_text='Relative Difference of Daily Sums EinsMan Predicted and True (rfr)',\n",
    "                  xaxis_title='Daily Sum EinsMan True in MWh',\n",
    "                  yaxis_title='Rel Diff (EinsMan Pred - EinsMan True) / EinsMan True',\n",
    "                  plot_bgcolor='#F0F0F0')\n",
    "\n",
    "fig.update_yaxes(range=[-100,350])\n",
    "\n",
    "#fig.update_layout(barmode='group',\n",
    "#                  bargap=0.15,\n",
    "#                  bargroupgap=0.1,\n",
    "#                  title_text='Daily Sum of EinsMan Events in MWh',\n",
    "#                  #xaxis_title = 'Time',\n",
    "#                  yaxis_title = 'Daily Power in MWh (max 6720)',\n",
    "#                  xaxis_tickangle=-45,\n",
    "#                  #xaxis_rangeslider_visible=True,\n",
    "#                  #paper_bgcolor='#C8C8C8',\n",
    "#                  # font=dict(family='Courier New, monospace', size=18, color='#7f7f7f')\n",
    "#                  plot_bgcolor='#F0F0F0')\n",
    "\n",
    "\n",
    "foldername = '/Users/dbuettner/nf-ds/Week_9_and_beyond/Capstone_Project/Quadra/plots/'\n",
    "filename = 'RelDiff_DaySums_EinsMan_PredTrue_Test.png'\n",
    "\n",
    "#py.plot(fig, filename=foldername+filename)\n",
    "fig.show()"
   ]
  },
  {
   "cell_type": "code",
   "execution_count": null,
   "metadata": {},
   "outputs": [],
   "source": []
  },
  {
   "cell_type": "code",
   "execution_count": null,
   "metadata": {},
   "outputs": [],
   "source": []
  },
  {
   "cell_type": "code",
   "execution_count": null,
   "metadata": {},
   "outputs": [],
   "source": []
  },
  {
   "cell_type": "code",
   "execution_count": null,
   "metadata": {},
   "outputs": [],
   "source": []
  },
  {
   "cell_type": "code",
   "execution_count": null,
   "metadata": {},
   "outputs": [],
   "source": []
  },
  {
   "cell_type": "code",
   "execution_count": null,
   "metadata": {},
   "outputs": [],
   "source": []
  },
  {
   "cell_type": "code",
   "execution_count": null,
   "metadata": {},
   "outputs": [],
   "source": []
  },
  {
   "cell_type": "code",
   "execution_count": null,
   "metadata": {},
   "outputs": [],
   "source": []
  },
  {
   "cell_type": "code",
   "execution_count": null,
   "metadata": {},
   "outputs": [],
   "source": []
  },
  {
   "cell_type": "code",
   "execution_count": null,
   "metadata": {},
   "outputs": [],
   "source": []
  },
  {
   "cell_type": "code",
   "execution_count": null,
   "metadata": {
    "code_folding": [
     0
    ]
   },
   "outputs": [],
   "source": [
    "# Plotly Visualisation of Predicted and Actual EinsMan values and Available Power:\n",
    "# all values are normed values, here displayed in % of total installed power (~280 MW)\n",
    "\n",
    "\n",
    "fig = go.Figure()\n",
    "#fig = go.FigureWidget(data=data, layout=layout)\n",
    "\n",
    "#x  = y_test_pred_avail_10min.index\n",
    "#y1 = y_test_pred_avail_10min['EinsMan_true_norm']*100\n",
    "#y2 = y_test_pred_avail_10min['EinsMan_pred_norm']*100\n",
    "#y3 = y_test_pred_avail_10min['Power_avail_norm']*100\n",
    "\n",
    "\n",
    "# show results only for timeframe:\n",
    "\n",
    "tf_start = '2019-01'\n",
    "tf_end   = '2019-05'\n",
    "timeframe = (y_test_pred_rfr_avail_10min.index >= tf_start) & (y_test_pred_rfr_avail_10min.index <= tf_end)\n",
    "\n",
    "x  = y_test_pred_rfr_avail_10min[timeframe].index\n",
    "y1 = y_test_pred_rfr_avail_10min[timeframe]['EinsMan_true_norm']*100\n",
    "y2 = y_test_pred_rfr_avail_10min[timeframe]['EinsMan_pred_norm']*100\n",
    "y3 = y_test_pred_rfr_avail_10min[timeframe]['Power_avail_norm']*100\n",
    "\n",
    "\n",
    "\n",
    "fig.add_trace(go.Scatter(x=x, y=y1,\n",
    "                         name='EinsMan True',\n",
    "                         line_color='#1468a2',\n",
    "                         line_width=3)) # deepskyblue\n",
    "\n",
    "fig.add_trace(go.Scatter(x=x, y=y2,\n",
    "                         name='EinsMan Predicted',\n",
    "                         line_color='#ffca1b',\n",
    "                         line_width=3)) # dimgray, #29A073\n",
    "\n",
    "fig.add_trace(go.Scatter(x=x, y=y3,\n",
    "                         name='Power Available',\n",
    "                         line_color='#606060',\n",
    "                         line_width=3)) # dimgray, #29A073\n",
    "\n",
    "\n",
    "fig.update_layout(title_text='Time Series of EinsMan Events',\n",
    "                  #xaxis_title = 'Time',\n",
    "                  yaxis_title = 'Power in % of installed Total (280 MW)',\n",
    "                  #xaxis_rangeslider_visible=True,\n",
    "                  #paper_bgcolor='#C8C8C8',\n",
    "                  # font=dict(family='Courier New, monospace', size=18, color='#7f7f7f')\n",
    "                  plot_bgcolor='#F0F0F0')\n",
    "   \n",
    "#fig.layout.on_change(zoom, 'xaxis.range')\n",
    "\n",
    "#fig.hoverlabel.opacity=0.5\n",
    "#fig.write_image('folder/image_name.png or jpeg or pdf)') # only select 3 day period of interest in dataframe\n",
    "fig.show()"
   ]
  },
  {
   "cell_type": "code",
   "execution_count": null,
   "metadata": {
    "code_folding": [
     0
    ]
   },
   "outputs": [],
   "source": [
    "# Plotly Visualisation of Predicted and Actual EinsMan values and Available Power:\n",
    "# all values are normed values, here displayed in % of total installed power (~280 MW)\n",
    "\n",
    "\n",
    "fig = go.Figure()\n",
    "#fig = go.FigureWidget(data=data, layout=layout)\n",
    "\n",
    "#x  = y_test_pred_avail_10min.index\n",
    "#y1 = y_test_pred_avail_10min['EinsMan_true_norm']*100\n",
    "#y2 = y_test_pred_avail_10min['EinsMan_pred_norm']*100\n",
    "#y3 = y_test_pred_avail_10min['Power_avail_norm']*100\n",
    "\n",
    "# only for timeframe:\n",
    "\n",
    "tf_start = '2019-01'\n",
    "tf_end   = '2019-03'\n",
    "timeframe = (y_test_pred_rfr_avail_10min.index >= tf_start) & (y_test_pred_rfr_avail_10min.index <= tf_end)\n",
    "\n",
    "x  = y_test_pred_rfr_avail_10min[timeframe].index\n",
    "y1 = y_test_pred_rfr_avail_10min[timeframe]['EinsMan_true_norm']*100\n",
    "y2 = y_test_pred_rfr_avail_10min[timeframe]['EinsMan_pred_norm']*100\n",
    "y3 = y_test_pred_rfr_avail_10min[timeframe]['Power_avail_norm']*100\n",
    "\n",
    "\n",
    "\n",
    "fig.add_trace(go.Scatter(x=x, y=y1,\n",
    "                         name='EinsMan True',\n",
    "                         line_color='#1468a2',\n",
    "                         line_width=3)) # deepskyblue\n",
    "\n",
    "fig.add_trace(go.Scatter(x=x, y=y2,\n",
    "                         name='EinsMan Predicted',\n",
    "                         line_color='#ffca1b',\n",
    "                         line_width=3)) # dimgray, #29A073\n",
    "\n",
    "fig.add_trace(go.Scatter(x=x, y=y3,\n",
    "                         name='Power Available',\n",
    "                         line_color='#606060',\n",
    "                         line_width=3)) # dimgray, #29A073\n",
    "\n",
    "\n",
    "fig.update_layout(title_text='Time Series of EinsMan Events',\n",
    "                  #xaxis_title = 'Time',\n",
    "                  yaxis_title = 'Power in % of installed Total (280 MW)',\n",
    "                  #xaxis_rangeslider_visible=True,\n",
    "                  #paper_bgcolor='#C8C8C8',\n",
    "                  # font=dict(family='Courier New, monospace', size=18, color='#7f7f7f')\n",
    "                  plot_bgcolor='#F0F0F0')\n",
    "   \n",
    "#fig.layout.on_change(zoom, 'xaxis.range')\n",
    "\n",
    "#fig.hoverlabel.opacity=0.5\n",
    "#fig.write_image('folder/image_name.png or jpeg or pdf)') # only select 3 day period of interest in dataframe\n",
    "fig.show()"
   ]
  },
  {
   "cell_type": "code",
   "execution_count": null,
   "metadata": {
    "code_folding": [
     0
    ]
   },
   "outputs": [],
   "source": [
    "# Plotly Visualisation of Predicted and Actual EinsMan and Available Power daily sums in MWh:\n",
    "# all values are daily sums, here displayed in MWh\n",
    "# total installed power equals a maximum daily sum of 6720 MWh\n",
    "\n",
    "\n",
    "#x  = y_test_rfr_day_sum_frac.index\n",
    "#y1 = y_test_rfr_day_sum_frac.EinsMan_test_MWh\n",
    "#y2 = y_pred_rfr_day_sum_frac.EinsMan_pred_MWh\n",
    "#y3 = y_test_rfr_day_sum_frac.Power_avail_MWh\n",
    "\n",
    "\n",
    "# \n",
    "tf_start = '2019-01'\n",
    "tf_end   = '2019-05'\n",
    "timeframe = (y_test_rfr_day_sum_frac.index >= tf_start) & (y_test_rfr_day_sum_frac.index <= tf_end)\n",
    "\n",
    "x  = y_test_rfr_day_sum_frac[timeframe].index\n",
    "y1 = y_test_rfr_day_sum_frac[timeframe].EinsMan_test_MWh\n",
    "y2 = y_pred_rfr_day_sum_frac[timeframe].EinsMan_pred_MWh\n",
    "y3 = y_test_rfr_day_sum_frac[timeframe].Power_avail_MWh\n",
    "\n",
    "fig = go.Figure()\n",
    "\n",
    "fig.add_trace(go.Bar(x=x, y=y1,\n",
    "                     name='EinsMan True',\n",
    "                     marker_color='#1468a2'))\n",
    "\n",
    "fig.add_trace(go.Bar(x=x, y=y2,\n",
    "                     name='EinsMan Predicted',\n",
    "                     marker_color='#ffca1b'))\n",
    "\n",
    "fig.add_trace(go.Bar(x=x, y=y3,\n",
    "                     name='Power Available',\n",
    "                     marker_color='#606060'))\n",
    "\n",
    "fig.update_layout(barmode='group',\n",
    "                  bargap=0.15,\n",
    "                  bargroupgap=0.1,\n",
    "                  title_text='Daily Sum of EinsMan Events in MWh',\n",
    "                  #xaxis_title = 'Time',\n",
    "                  yaxis_title = 'Daily Power in MWh (max 6720)',\n",
    "                  xaxis_tickangle=-45,\n",
    "                  #xaxis_rangeslider_visible=True,\n",
    "                  #paper_bgcolor='#C8C8C8',\n",
    "                  # font=dict(family='Courier New, monospace', size=18, color='#7f7f7f')\n",
    "                  plot_bgcolor='#F0F0F0')\n",
    "\n",
    "\n",
    "fig.show()"
   ]
  },
  {
   "cell_type": "code",
   "execution_count": null,
   "metadata": {},
   "outputs": [],
   "source": []
  },
  {
   "cell_type": "code",
   "execution_count": null,
   "metadata": {
    "code_folding": [
     0
    ]
   },
   "outputs": [],
   "source": [
    "# different Plotly syntax:\n",
    "\n",
    "#plot_data = [\n",
    "#    go.Scatter(\n",
    "#        x=y_test_pred_10min.index,\n",
    "#        y=y_test_pred_10min['einsman_true'],\n",
    "#        name='EinsMan True',\n",
    "#        line_color='#2b4ec2'\n",
    "#    ),\n",
    "#        go.Scatter(\n",
    "#        x=y_test_pred_10min.index,\n",
    "#        y=y_test_pred_10min['einsman_predicted'],\n",
    "#        name='EinsMan Predicted',\n",
    "#        line_color='#ffca1b'\n",
    "#    )\n",
    "#]\n",
    "#plot_layout = go.Layout(\n",
    "#        title='Time Series of EinsMan Events',\n",
    "#        #xaxis_rangeslider_visible=True,\n",
    "#        plot_bgcolor='#F0F0F0'\n",
    "#    )\n",
    "\n",
    "#fig = go.Figure(data=plot_data, layout=plot_layout)\n",
    "##py.plot(fig)\n",
    "#fig.show()"
   ]
  },
  {
   "cell_type": "code",
   "execution_count": null,
   "metadata": {},
   "outputs": [],
   "source": []
  },
  {
   "cell_type": "markdown",
   "metadata": {},
   "source": [
    "#### Cross Validation (blockwise):"
   ]
  },
  {
   "cell_type": "code",
   "execution_count": null,
   "metadata": {},
   "outputs": [],
   "source": []
  },
  {
   "cell_type": "code",
   "execution_count": null,
   "metadata": {
    "code_folding": [
     0
    ],
    "scrolled": false
   },
   "outputs": [],
   "source": [
    "# Cross Validation, All GFS Variables as Features:\n",
    "\n",
    "# iterate over blockwise train-test-split sets (with selected seed values, reproducability)\n",
    "\n",
    "\n",
    "\n",
    "seed_val_list = list(np.arange(1,1000,100))\n",
    "\n",
    "evaluation_dict_rfr_acv = {'R2':[], 'EVS':[], 'RMSE':[], 'MSE':[], 'MAE':[]}\n",
    "#r2_list = [0 for x in range(len(seed_val_list))]\n",
    "#evs_list = [0 for x in range(len(seed_val_list))]\n",
    "#rmse_list = [0 for x in range(len(seed_val_list))]\n",
    "#mse_list = [0 for x in range(len(seed_val_list))]\n",
    "#mae_list = [0 for x in range(len(seed_val_list))]\n",
    "\n",
    "y_acv_test_rfr_day_sum_frac_list = []\n",
    "y_acv_pred_rfr_day_sum_frac_list = []\n",
    "\n",
    "#y_acv_test_pred_avail_dict = {1: []}\n",
    "\n",
    "#for i in range(2, len(seed_val_list)+1):\n",
    "#    y_acv_test_pred_avail_dict[i] = []\n",
    "\n",
    "\n",
    "\n",
    "# Iterate over random seed list:\n",
    "for i in seed_val_list:\n",
    "    \n",
    "    #r2 = 0\n",
    "    #r2 = iter(r2_list)\n",
    "    #evs = 0\n",
    "    #evs = iter(evs_list)\n",
    "    #rmse = 0\n",
    "    #rmse = iter(rmse_list)\n",
    "    #mse = 0\n",
    "    #mse = iter(mse_list)\n",
    "    #mae = 0\n",
    "    #mae = iter(mae_list)\n",
    "\n",
    "    # Blockwise train-test_split:\n",
    "    X_acv_train, X_acv_test, y_acv_train, y_acv_test, start_indices, len_block = train_test_block_split(X_a,\n",
    "                                                                                        y_a,\n",
    "                                                                                        n_blocks=30,\n",
    "                                                                                        len_block=4,\n",
    "                                                                                        n_buffer=1,\n",
    "                                                                                        seed_val=i)\n",
    "\n",
    "    # Instantiate Regressor:\n",
    "    rfr_acv = RandomForestRegressor(n_jobs=-1, random_state=0, n_estimators=100)\n",
    "\n",
    "    # Fit Regressor to Train Data Set:\n",
    "    rfr_acv.fit(X_acv_train, y_acv_train.values.ravel())\n",
    "\n",
    "    # Predict Target Values on Test Data:\n",
    "    y_acv_pred_rfr = rfr_acv.predict(X_acv_test)\n",
    "    \n",
    "    # Evaluation measure for ith Fold: # don't use function itself, just \n",
    "    #reg_evaluation(y_test, y_pred_rfr)\n",
    "    #r2, evs, rmse, mse, mae = reg_evaluation(y_test, y_pred_rfr)\n",
    "    \n",
    "    # R-squared score\n",
    "    r2 = r2_score(y_acv_test, y_acv_pred_rfr)\n",
    "    \n",
    "    # Explained Variance Score\n",
    "    evs = explained_variance_score(y_acv_test, y_acv_pred_rfr)\n",
    "    \n",
    "    # Root Mean squared error (MSE)\n",
    "    rmse = np.sqrt(mean_squared_error(y_acv_test, y_acv_pred_rfr))\n",
    "\n",
    "    # Mean squared error (MSE)\n",
    "    mse = mean_squared_error(y_acv_test, y_acv_pred_rfr)\n",
    "\n",
    "    # Mean absolute error (MAE)\n",
    "    mae = mean_absolute_error(y_acv_test, y_acv_pred_rfr)\n",
    "    \n",
    "    # Store evaluation metrics in evaluation dictionary:\n",
    "    evaluation_dict_rfr_acv['R2'].append(r2)\n",
    "    evaluation_dict_rfr_acv['EVS'].append(evs)\n",
    "    evaluation_dict_rfr_acv['RMSE'].append(rmse)\n",
    "    evaluation_dict_rfr_acv['MSE'].append(mse)\n",
    "    evaluation_dict_rfr_acv['MAE'].append(mae)\n",
    "    \n",
    "    \n",
    "    # Convert predictions to DataFrame:\n",
    "    y_acv_pred_rfr = pd.DataFrame(y_acv_pred_rfr, columns=['EinsMan_all_pred_norm'], index=y_acv_test.index)\n",
    "\n",
    "    # Determine daily sums and fractions of true (test set) EinsMan loss work (in MWh and %):\n",
    "    y_acv_test_rfr_day_sum_frac = einsman_daily_sum_and_frac_test(y_acv_test)\n",
    "\n",
    "    # Determine daily sums and fractions of predicted EinsMan loss work (in MWh and %):\n",
    "    y_acv_pred_rfr_day_sum_frac = einsman_daily_sum_and_frac_pred(y_acv_pred_rfr, features='all')\n",
    "\n",
    "    \n",
    "    # Store cross-validation daily sums and fractions (true and pred) in lists:\n",
    "    y_acv_test_rfr_day_sum_frac_list.append(y_acv_test_rfr_day_sum_frac)\n",
    "    y_acv_pred_rfr_day_sum_frac_list.append(y_acv_pred_rfr_day_sum_frac)\n",
    "    \n",
    "\n",
    "\n",
    "evaluation_rfr_acv = pd.DataFrame(evaluation_dict_rfr_acv)"
   ]
  },
  {
   "cell_type": "code",
   "execution_count": null,
   "metadata": {
    "code_folding": [
     0
    ]
   },
   "outputs": [],
   "source": [
    "# Create Variables for Visualisation, All GFS Variables as Features:\n",
    "\n",
    "# Append Mean Values of Evaluation Metrics:\n",
    "evaluation_rfr_acv2 = evaluation_rfr_acv.copy()\n",
    "evaluation_rfr_acv2 = evaluation_rfr_acv2.append(evaluation_rfr_acv.mean(), ignore_index=True)\n",
    "\n",
    "# Create New Index for Evaluation Metrics DataFrames:\n",
    "fold_list = list(range(1, len(evaluation_rfr_acv)+1))\n",
    "index_list  = ['Fold ' + str(fold) for fold in fold_list] + ['CV Mean']\n",
    "evaluation_rfr_acv2.index = index_list\n",
    "\n",
    "\n",
    "# Create accumulated EinsMan test and pred Variables (append all Cross Folds together):\n",
    "# ---> Visualise all (Relative) Differences between True and Predicted EinsMan Volumes:\n",
    "\n",
    "# Append EinsMan Test Values:\n",
    "y_acv_test_rfr_day_sum_flatlist_EinsMan_MWh = y_acv_test_rfr_day_sum_frac_list[0].EinsMan_test_MWh.values\n",
    "\n",
    "for i in range(1, len(y_acv_test_rfr_day_sum_frac_list)):\n",
    "    y_acv_test_rfr_day_sum_flatlist_EinsMan_MWh = np.append(y_acv_test_rfr_day_sum_flatlist_EinsMan_MWh, \n",
    "                                                              y_acv_test_rfr_day_sum_frac_list[i].EinsMan_test_MWh.values)\n",
    "\n",
    "    \n",
    "# Append Power Avail Values:    \n",
    "y_acv_test_rfr_day_sum_flatlist_Power_avail_norm = y_acv_test_rfr_day_sum_frac_list[0].Power_avail_norm.values\n",
    "\n",
    "for i in range(1, len(y_acv_test_rfr_day_sum_frac_list)):\n",
    "    y_acv_test_rfr_day_sum_flatlist_Power_avail_norm = np.append(y_acv_test_rfr_day_sum_flatlist_Power_avail_norm, \n",
    "                                                              y_acv_test_rfr_day_sum_frac_list[i].Power_avail_norm.values)\n",
    "    \n",
    "    \n",
    "# Append EinsMan Predicted Values:\n",
    "y_acv_pred_rfr_day_sum_flatlist_EinsMan_MWh = y_acv_pred_rfr_day_sum_frac_list[0].EinsMan_all_pred_MWh.values\n",
    "\n",
    "for i in range(1, len(y_acv_pred_rfr_day_sum_frac_list)):\n",
    "    y_acv_pred_rfr_day_sum_flatlist_EinsMan_MWh = np.append(y_acv_pred_rfr_day_sum_flatlist_EinsMan_MWh, \n",
    "                                                              y_acv_pred_rfr_day_sum_frac_list[i].EinsMan_all_pred_MWh.values)\n",
    "    \n",
    "    \n",
    "# Total Test Set EinsMan Sums for every Fold in Cross Validation:    \n",
    "\n",
    "# True Test Set EinsMan Sum (every Fold):\n",
    "EinsMan_test_norm_sum_acv_rfr = y_acv_test_rfr_day_sum_frac_list[0]['EinsMan_test_norm'].sum()\n",
    "\n",
    "for i in range(1, len(y_acv_test_rfr_day_sum_frac_list)):\n",
    "    EinsMan_test_norm_sum_acv_rfr = np.append(EinsMan_test_norm_sum_acv_rfr, \n",
    "                                      y_acv_test_rfr_day_sum_frac_list[i]['EinsMan_test_norm'].sum())\n",
    "    \n",
    "\n",
    "# Predicted Test Set EinsMan Sum (every Fold):\n",
    "EinsMan_pred_norm_sum_acv_rfr = y_acv_pred_rfr_day_sum_frac_list[0]['EinsMan_all_pred_norm'].sum()\n",
    "\n",
    "for i in range(1, len(y_acv_pred_rfr_day_sum_frac_list)):\n",
    "    EinsMan_pred_norm_sum_acv_rfr = np.append(EinsMan_pred_norm_sum_acv_rfr, \n",
    "                                      y_acv_pred_rfr_day_sum_frac_list[i]['EinsMan_all_pred_norm'].sum())"
   ]
  },
  {
   "cell_type": "code",
   "execution_count": null,
   "metadata": {},
   "outputs": [],
   "source": []
  },
  {
   "cell_type": "code",
   "execution_count": null,
   "metadata": {
    "code_folding": [
     0
    ]
   },
   "outputs": [],
   "source": [
    "# Testing:\n",
    "\n",
    "## Evaluation Metrics for Daily Sums:\n",
    "#reg_evaluation(y_acv_test_rfr_day_sum_flatlist_EinsMan_MWh,\n",
    "#               y_acv_pred_rfr_day_sum_flatlist_EinsMan_MWh,\n",
    "#               print_scores=True,\n",
    "#               return_scores=False)  # compare to aw and w100, also for every fold individually\n",
    "\n",
    "## Evaluation Metrics for Fold Sums:\n",
    "#reg_evaluation(EinsMan_test_norm_sum_acv_rfr,\n",
    "#               EinsMan_pred_norm_sum_acv_rfr,\n",
    "#               print_scores=True,\n",
    "#               return_scores=False)  # compare to aw and w100"
   ]
  },
  {
   "cell_type": "code",
   "execution_count": null,
   "metadata": {},
   "outputs": [],
   "source": []
  },
  {
   "cell_type": "code",
   "execution_count": null,
   "metadata": {
    "code_folding": [
     0
    ]
   },
   "outputs": [],
   "source": [
    "# Cross Validation, All GFS Wind Variables as Features:\n",
    "\n",
    "# iterate over blockwise train-test-split sets (with selected seed values, reproducability)\n",
    "\n",
    "\n",
    "\n",
    "seed_val_list = list(np.arange(1,1000,100))\n",
    "\n",
    "evaluation_dict_rfr_awcv = {'R2':[], 'EVS':[], 'RMSE':[], 'MSE':[], 'MAE':[]}\n",
    "#r2_list = [0 for x in range(len(seed_val_list))]\n",
    "#evs_list = [0 for x in range(len(seed_val_list))]\n",
    "#rmse_list = [0 for x in range(len(seed_val_list))]\n",
    "#mse_list = [0 for x in range(len(seed_val_list))]\n",
    "#mae_list = [0 for x in range(len(seed_val_list))]\n",
    "\n",
    "y_awcv_test_rfr_day_sum_frac_list = []\n",
    "y_awcv_pred_rfr_day_sum_frac_list = []\n",
    "\n",
    "#y_acv_test_pred_avail_dict = {1: []}\n",
    "\n",
    "#for i in range(2, len(seed_val_list)+1):\n",
    "#    y_acv_test_pred_avail_dict[i] = []\n",
    "\n",
    "\n",
    "\n",
    "# Iterate over random seed list:\n",
    "for i in seed_val_list:\n",
    "    \n",
    "    #r2 = 0\n",
    "    #r2 = iter(r2_list)\n",
    "    #evs = 0\n",
    "    #evs = iter(evs_list)\n",
    "    #rmse = 0\n",
    "    #rmse = iter(rmse_list)\n",
    "    #mse = 0\n",
    "    #mse = iter(mse_list)\n",
    "    #mae = 0\n",
    "    #mae = iter(mae_list)\n",
    "\n",
    "    # Blockwise train-test_split:\n",
    "    X_awcv_train, X_awcv_test, y_awcv_train, y_awcv_test, start_indices, len_block = train_test_block_split(X_aw,\n",
    "                                                                                        y_aw,\n",
    "                                                                                        n_blocks=30,\n",
    "                                                                                        len_block=4,\n",
    "                                                                                        n_buffer=1,\n",
    "                                                                                        seed_val=i)\n",
    "\n",
    "    # Instantiate Regressor:\n",
    "    rfr_awcv = RandomForestRegressor(n_jobs=-1, random_state=0, n_estimators=100)\n",
    "\n",
    "    # Fit Regressor to Train Data Set:\n",
    "    rfr_awcv.fit(X_awcv_train, y_awcv_train.values.ravel())\n",
    "\n",
    "    # Predict Target Values on Test Data:\n",
    "    y_awcv_pred_rfr = rfr_awcv.predict(X_awcv_test)\n",
    "    \n",
    "    # Evaluation measure for ith Fold: # don't use function itself, just \n",
    "    #reg_evaluation(y_test, y_pred_rfr)\n",
    "    #r2, evs, rmse, mse, mae = reg_evaluation(y_test, y_pred_rfr)\n",
    "    \n",
    "    # R-squared score\n",
    "    r2 = r2_score(y_awcv_test, y_awcv_pred_rfr)\n",
    "    \n",
    "    # Explained Variance Score\n",
    "    evs = explained_variance_score(y_awcv_test, y_awcv_pred_rfr)\n",
    "    \n",
    "    # Root Mean squared error (MSE)\n",
    "    rmse = np.sqrt(mean_squared_error(y_awcv_test, y_awcv_pred_rfr))\n",
    "\n",
    "    # Mean squared error (MSE)\n",
    "    mse = mean_squared_error(y_awcv_test, y_awcv_pred_rfr)\n",
    "\n",
    "    # Mean absolute error (MAE)\n",
    "    mae = mean_absolute_error(y_awcv_test, y_awcv_pred_rfr)\n",
    "    \n",
    "    # Store evaluation metrics in evaluation dictionary:\n",
    "    evaluation_dict_rfr_awcv['R2'].append(r2)\n",
    "    evaluation_dict_rfr_awcv['EVS'].append(evs)\n",
    "    evaluation_dict_rfr_awcv['RMSE'].append(rmse)\n",
    "    evaluation_dict_rfr_awcv['MSE'].append(mse)\n",
    "    evaluation_dict_rfr_awcv['MAE'].append(mae)\n",
    "    \n",
    "    \n",
    "    # Convert predictions to DataFrame:\n",
    "    y_awcv_pred_rfr = pd.DataFrame(y_awcv_pred_rfr, columns=['EinsMan_allwind_pred_norm'], index=y_awcv_test.index)\n",
    "\n",
    "    # Determine daily sums and fractions of true (test set) EinsMan loss work (in MWh and %):\n",
    "    y_awcv_test_rfr_day_sum_frac = einsman_daily_sum_and_frac_test(y_awcv_test)\n",
    "\n",
    "    # Determine daily sums and fractions of predicted EinsMan loss work (in MWh and %):\n",
    "    y_awcv_pred_rfr_day_sum_frac = einsman_daily_sum_and_frac_pred(y_awcv_pred_rfr, features='allwind')\n",
    "\n",
    "    \n",
    "    # Store cross-validation daily sums and fractions (true and pred) in lists:\n",
    "    y_awcv_test_rfr_day_sum_frac_list.append(y_awcv_test_rfr_day_sum_frac)\n",
    "    y_awcv_pred_rfr_day_sum_frac_list.append(y_awcv_pred_rfr_day_sum_frac)\n",
    "    \n",
    "\n",
    "\n",
    "evaluation_rfr_awcv = pd.DataFrame(evaluation_dict_rfr_awcv)"
   ]
  },
  {
   "cell_type": "code",
   "execution_count": null,
   "metadata": {
    "code_folding": [
     0
    ]
   },
   "outputs": [],
   "source": [
    "# Create Variables for Visualisation, All GFS Wind Variables as Features:\n",
    "\n",
    "# Append Mean Values of Evaluation Metrics:\n",
    "evaluation_rfr_awcv2 = evaluation_rfr_awcv.copy()\n",
    "evaluation_rfr_awcv2 = evaluation_rfr_awcv2.append(evaluation_rfr_awcv.mean(), ignore_index=True)\n",
    "\n",
    "# Create New Index for Evaluation Metrics DataFrames:\n",
    "fold_list = list(range(1, len(evaluation_rfr_awcv)+1))\n",
    "index_list  = ['Fold ' + str(fold) for fold in fold_list] + ['CV Mean']\n",
    "evaluation_rfr_awcv2.index = index_list\n",
    "\n",
    "\n",
    "# Create accumulated EinsMan test (already done for all var cv) and pred Variables (append all Cross Folds together):\n",
    "# ---> Visualise all (Relative) Differences between True and Predicted EinsMan Volumes:\n",
    "\n",
    "    \n",
    "# Append EinsMan Predicted Values:\n",
    "y_awcv_pred_rfr_day_sum_flatlist_EinsMan_MWh = y_awcv_pred_rfr_day_sum_frac_list[0].EinsMan_allwind_pred_MWh.values\n",
    "\n",
    "for i in range(1, len(y_awcv_pred_rfr_day_sum_frac_list)):\n",
    "    y_awcv_pred_rfr_day_sum_flatlist_EinsMan_MWh = np.append(y_awcv_pred_rfr_day_sum_flatlist_EinsMan_MWh, \n",
    "                                                              y_awcv_pred_rfr_day_sum_frac_list[i].EinsMan_allwind_pred_MWh.values)\n",
    "    \n",
    "    \n",
    "# Total Test Set EinsMan Sums for every Fold in Cross Validation: \n",
    "\n",
    "# Predicted Test Set EinsMan Sum (every Fold):\n",
    "EinsMan_pred_norm_sum_awcv_rfr = y_awcv_pred_rfr_day_sum_frac_list[0]['EinsMan_allwind_pred_norm'].sum()\n",
    "\n",
    "for i in range(1, len(y_awcv_pred_rfr_day_sum_frac_list)):\n",
    "    EinsMan_pred_norm_sum_awcv_rfr = np.append(EinsMan_pred_norm_sum_awcv_rfr, \n",
    "                                      y_awcv_pred_rfr_day_sum_frac_list[i]['EinsMan_allwind_pred_norm'].sum())"
   ]
  },
  {
   "cell_type": "code",
   "execution_count": null,
   "metadata": {},
   "outputs": [],
   "source": []
  },
  {
   "cell_type": "code",
   "execution_count": null,
   "metadata": {
    "code_folding": [
     0
    ]
   },
   "outputs": [],
   "source": [
    "# Cross Validation, GFS Wind Variable in 100m as Feature:\n",
    "\n",
    "# iterate over blockwise train-test-split sets (with selected seed values, reproducability)\n",
    "\n",
    "\n",
    "\n",
    "seed_val_list = list(np.arange(1,1000,100))\n",
    "\n",
    "evaluation_dict_rfr_w100cv = {'R2':[], 'EVS':[], 'RMSE':[], 'MSE':[], 'MAE':[]}\n",
    "#r2_list = [0 for x in range(len(seed_val_list))]\n",
    "#evs_list = [0 for x in range(len(seed_val_list))]\n",
    "#rmse_list = [0 for x in range(len(seed_val_list))]\n",
    "#mse_list = [0 for x in range(len(seed_val_list))]\n",
    "#mae_list = [0 for x in range(len(seed_val_list))]\n",
    "\n",
    "y_w100cv_test_rfr_day_sum_frac_list = []\n",
    "y_w100cv_pred_rfr_day_sum_frac_list = []\n",
    "\n",
    "#y_acv_test_pred_avail_dict = {1: []}\n",
    "\n",
    "#for i in range(2, len(seed_val_list)+1):\n",
    "#    y_acv_test_pred_avail_dict[i] = []\n",
    "\n",
    "\n",
    "\n",
    "# Iterate over random seed list:\n",
    "for i in seed_val_list:\n",
    "    \n",
    "    #r2 = 0\n",
    "    #r2 = iter(r2_list)\n",
    "    #evs = 0\n",
    "    #evs = iter(evs_list)\n",
    "    #rmse = 0\n",
    "    #rmse = iter(rmse_list)\n",
    "    #mse = 0\n",
    "    #mse = iter(mse_list)\n",
    "    #mae = 0\n",
    "    #mae = iter(mae_list)\n",
    "\n",
    "    # Blockwise train-test_split:\n",
    "    X_w100cv_train, X_w100cv_test, y_w100cv_train, y_w100cv_test, start_indices, len_block = train_test_block_split(X_w100,\n",
    "                                                                                        y_w100,\n",
    "                                                                                        n_blocks=30,\n",
    "                                                                                        len_block=4,\n",
    "                                                                                        n_buffer=1,\n",
    "                                                                                        seed_val=i)\n",
    "\n",
    "    # Instantiate Regressor:\n",
    "    rfr_w100cv = RandomForestRegressor(n_jobs=-1, random_state=0, n_estimators=100)\n",
    "\n",
    "    # Fit Regressor to Train Data Set:\n",
    "    rfr_w100cv.fit(X_w100cv_train, y_w100cv_train.values.ravel())\n",
    "\n",
    "    # Predict Target Values on Test Data:\n",
    "    y_w100cv_pred_rfr = rfr_w100cv.predict(X_w100cv_test)\n",
    "    \n",
    "    # Evaluation measure for ith Fold: # don't use function itself, just \n",
    "    #reg_evaluation(y_test, y_pred_rfr)\n",
    "    #r2, evs, rmse, mse, mae = reg_evaluation(y_test, y_pred_rfr)\n",
    "    \n",
    "    # R-squared score\n",
    "    r2 = r2_score(y_w100cv_test, y_w100cv_pred_rfr)\n",
    "    \n",
    "    # Explained Variance Score\n",
    "    evs = explained_variance_score(y_w100cv_test, y_w100cv_pred_rfr)\n",
    "    \n",
    "    # Root Mean squared error (MSE)\n",
    "    rmse = np.sqrt(mean_squared_error(y_w100cv_test, y_w100cv_pred_rfr))\n",
    "\n",
    "    # Mean squared error (MSE)\n",
    "    mse = mean_squared_error(y_w100cv_test, y_w100cv_pred_rfr)\n",
    "\n",
    "    # Mean absolute error (MAE)\n",
    "    mae = mean_absolute_error(y_w100cv_test, y_w100cv_pred_rfr)\n",
    "    \n",
    "    # Store evaluation metrics in evaluation dictionary:\n",
    "    evaluation_dict_rfr_w100cv['R2'].append(r2)\n",
    "    evaluation_dict_rfr_w100cv['EVS'].append(evs)\n",
    "    evaluation_dict_rfr_w100cv['RMSE'].append(rmse)\n",
    "    evaluation_dict_rfr_w100cv['MSE'].append(mse)\n",
    "    evaluation_dict_rfr_w100cv['MAE'].append(mae)\n",
    "    \n",
    "    \n",
    "    # Convert predictions to DataFrame:\n",
    "    y_w100cv_pred_rfr = pd.DataFrame(y_w100cv_pred_rfr, columns=['EinsMan_wind100m_pred_norm'], index=y_w100cv_test.index)\n",
    "\n",
    "    # Determine daily sums and fractions of true (test set) EinsMan loss work (in MWh and %):\n",
    "    y_w100cv_test_rfr_day_sum_frac = einsman_daily_sum_and_frac_test(y_w100cv_test)\n",
    "\n",
    "    # Determine daily sums and fractions of predicted EinsMan loss work (in MWh and %):\n",
    "    y_w100cv_pred_rfr_day_sum_frac = einsman_daily_sum_and_frac_pred(y_w100cv_pred_rfr, features='wind100m')\n",
    "\n",
    "    \n",
    "    # Store cross-validation daily sums and fractions (true and pred) in lists:\n",
    "    y_w100cv_test_rfr_day_sum_frac_list.append(y_w100cv_test_rfr_day_sum_frac)\n",
    "    y_w100cv_pred_rfr_day_sum_frac_list.append(y_w100cv_pred_rfr_day_sum_frac)\n",
    "    \n",
    "\n",
    "\n",
    "evaluation_rfr_w100cv = pd.DataFrame(evaluation_dict_rfr_w100cv)"
   ]
  },
  {
   "cell_type": "code",
   "execution_count": null,
   "metadata": {
    "code_folding": [
     0
    ]
   },
   "outputs": [],
   "source": [
    "# Create Variables for Visualisation, GFS Wind Variable in 100m as Features:\n",
    "\n",
    "# Append Mean Values of Evaluation Metrics:\n",
    "evaluation_rfr_w100cv2 = evaluation_rfr_w100cv.copy()\n",
    "evaluation_rfr_w100cv2 = evaluation_rfr_w100cv2.append(evaluation_rfr_w100cv.mean(), ignore_index=True)\n",
    "\n",
    "# Create New Index for Evaluation Metrics DataFrames:\n",
    "fold_list = list(range(1, len(evaluation_rfr_w100cv)+1))\n",
    "index_list  = ['Fold ' + str(fold) for fold in fold_list] + ['CV Mean']\n",
    "evaluation_rfr_w100cv2.index = index_list\n",
    "\n",
    "\n",
    "# Create concatenated EinsMan test (already done for all var cv) and pred Variables (append all Cross Folds together):\n",
    "# ---> Visualise all (Relative) Differences between True and Predicted EinsMan Volumes:\n",
    "\n",
    "    \n",
    "# Append EinsMan Predicted Values:\n",
    "y_w100cv_pred_rfr_day_sum_flatlist_EinsMan_MWh = y_w100cv_pred_rfr_day_sum_frac_list[0].EinsMan_wind100m_pred_MWh.values\n",
    "\n",
    "for i in range(1, len(y_w100cv_pred_rfr_day_sum_frac_list)):\n",
    "    y_w100cv_pred_rfr_day_sum_flatlist_EinsMan_MWh = np.append(y_w100cv_pred_rfr_day_sum_flatlist_EinsMan_MWh, \n",
    "                                                              y_w100cv_pred_rfr_day_sum_frac_list[i].EinsMan_wind100m_pred_MWh.values)\n",
    "    \n",
    "\n",
    "    \n",
    "# Total Test Set EinsMan Sums for every Fold in Cross Validation: \n",
    "\n",
    "# Predicted Test Set EinsMan Sum (every Fold):\n",
    "EinsMan_pred_norm_sum_w100cv_rfr = y_w100cv_pred_rfr_day_sum_frac_list[0]['EinsMan_wind100m_pred_norm'].sum()\n",
    "\n",
    "for i in range(1, len(y_w100cv_pred_rfr_day_sum_frac_list)):\n",
    "    EinsMan_pred_norm_sum_w100cv_rfr = np.append(EinsMan_pred_norm_sum_w100cv_rfr, \n",
    "                                      y_w100cv_pred_rfr_day_sum_frac_list[i]['EinsMan_wind100m_pred_norm'].sum())"
   ]
  },
  {
   "cell_type": "code",
   "execution_count": null,
   "metadata": {},
   "outputs": [],
   "source": []
  },
  {
   "cell_type": "code",
   "execution_count": null,
   "metadata": {},
   "outputs": [],
   "source": []
  },
  {
   "cell_type": "code",
   "execution_count": null,
   "metadata": {
    "code_folding": []
   },
   "outputs": [],
   "source": []
  },
  {
   "cell_type": "code",
   "execution_count": null,
   "metadata": {},
   "outputs": [],
   "source": []
  },
  {
   "cell_type": "code",
   "execution_count": null,
   "metadata": {},
   "outputs": [],
   "source": []
  },
  {
   "cell_type": "code",
   "execution_count": null,
   "metadata": {
    "code_folding": [
     0
    ]
   },
   "outputs": [],
   "source": [
    "# Cross Validation All GFS Variablesof R2, RMSE and MAE for \n",
    "\n",
    "x  = evaluation_rfr_acv2.index\n",
    "y1 = evaluation_rfr_acv2.R2.values\n",
    "y2 = evaluation_rfr_acv2.RMSE.values\n",
    "y3 = evaluation_rfr_acv2.MAE.values\n",
    "\n",
    "fig = go.Figure()\n",
    "\n",
    "fig = make_subplots(specs=[[{\"secondary_y\": True}]])\n",
    "\n",
    "fig.add_trace(go.Bar(x=x, y=y1,\n",
    "                     name='R2 Score',\n",
    "                     marker_color='#3179b8',\n",
    "                     opacity=0.9),\n",
    "                     secondary_y=False)\n",
    "\n",
    "fig.add_trace(go.Bar(x=x, y=y2,\n",
    "                     name='RMSE',\n",
    "                     marker_color='#ed694a',\n",
    "                     opacity=0.9),\n",
    "                     secondary_y=True)\n",
    "\n",
    "fig.add_trace(go.Bar(x=x, y=y3,\n",
    "                     name='MAE',\n",
    "                     marker_color= '#ebc95d',  #'#b8241d',\n",
    "                     opacity=0.9),\n",
    "                     secondary_y=True)\n",
    "\n",
    "fig.update_yaxes(title_text='R2 Score', range=[0,0.85], secondary_y=False)#, nticks=8)\n",
    "#fig.update_yaxes(nticks=6)\n",
    "#fig.update_yaxes(range=[0, max(y2) + (y2/100)*30], secondary_y=False)\n",
    "fig.update_yaxes(title_text='Error Values', range=[0,0.08], secondary_y=True)#, nticks=10)\n",
    "\n",
    "\n",
    "fig.update_layout(barmode='group',\n",
    "                  bargap=0.15,\n",
    "                  bargroupgap=0.1,\n",
    "                  title_text='Cross Validation of R2 Score, RMSE and MAE (rfr)',\n",
    "#                  #xaxis_title = 'Time',\n",
    "#                 yaxis_title = 'Error Values',\n",
    "#                  xaxis_tickangle=-0,\n",
    "                  #xaxis_rangeslider_visible=True,\n",
    "                  #paper_bgcolor='#C8C8C8',\n",
    "                  # font=dict(family='Courier New, monospace', size=18, color='#7f7f7f')\n",
    "                  plot_bgcolor='#F0F0F0')\n",
    "\n",
    "\n",
    "\n",
    "\n",
    "fig.show()"
   ]
  },
  {
   "cell_type": "code",
   "execution_count": null,
   "metadata": {},
   "outputs": [],
   "source": []
  },
  {
   "cell_type": "code",
   "execution_count": null,
   "metadata": {},
   "outputs": [],
   "source": []
  },
  {
   "cell_type": "code",
   "execution_count": null,
   "metadata": {
    "code_folding": [
     0
    ]
   },
   "outputs": [],
   "source": [
    "# Cross Validation of Total Test Set EinsMan in MWh (every Fold):\n",
    "\n",
    "norm_to_GWh = 280/(6*1000)    # 280 MW installed (normed), 10 min resolution (1/6), MW to GW (1/1000)\n",
    "fold_list = list(range(1, len(EinsMan_test_norm_sum_acv_rfr)+1))\n",
    "\n",
    "x  = ['Fold ' + str(fold) for fold in fold_list]\n",
    "y1 = EinsMan_test_norm_sum_acv_rfr * norm_to_GWh\n",
    "y2 = EinsMan_pred_norm_sum_acv_rfr * norm_to_GWh\n",
    "y3 = EinsMan_pred_norm_sum_awcv_rfr * norm_to_GWh\n",
    "y4 = EinsMan_pred_norm_sum_w100cv_rfr * norm_to_GWh\n",
    "\n",
    "fig = go.Figure()\n",
    "\n",
    "fig.add_trace(go.Bar(x=x, y=y1,\n",
    "                     name='EinsMan True',\n",
    "                     marker_color='#1468a2'))\n",
    "\n",
    "fig.add_trace(go.Bar(x=x, y=y2,\n",
    "                     name='EinsMan Predicted (all)',\n",
    "                     marker_color='#ffca1b'))\n",
    "\n",
    "fig.add_trace(go.Bar(x=x, y=y3,\n",
    "                     name='EinsMan Predicted (allwind)',\n",
    "                     marker_color='#eb4a4c'))\n",
    "\n",
    "fig.add_trace(go.Bar(x=x, y=y4,\n",
    "                     name='EinsMan Predicted (wind100m)',\n",
    "                     marker_color='#00ad67'))\n",
    "\n",
    "\n",
    "#fig.add_trace(go.Bar(x=x, y=y3,\n",
    "#                     name='Power Available',\n",
    "#                     marker_color='#606060'))\n",
    "\n",
    "fig.update_layout(barmode='group',\n",
    "                  bargap=0.15,\n",
    "                  bargroupgap=0.1,\n",
    "                  title_text='Cross Validation of Total Test Set EinsMan in GWh (rfr)',\n",
    "                  #xaxis_title = 'Time',\n",
    "                  yaxis_title = 'Total EinsMan in GWh',\n",
    "                  xaxis_tickangle=-0,\n",
    "                  #xaxis_rangeslider_visible=True,\n",
    "                  #paper_bgcolor='#C8C8C8',\n",
    "                  # font=dict(family='Courier New, monospace', size=18, color='#7f7f7f')\n",
    "                  plot_bgcolor='#F0F0F0')\n",
    "\n",
    "\n",
    "fig.show()"
   ]
  },
  {
   "cell_type": "code",
   "execution_count": null,
   "metadata": {},
   "outputs": [],
   "source": []
  },
  {
   "cell_type": "code",
   "execution_count": null,
   "metadata": {},
   "outputs": [],
   "source": []
  },
  {
   "cell_type": "code",
   "execution_count": null,
   "metadata": {},
   "outputs": [],
   "source": []
  },
  {
   "cell_type": "code",
   "execution_count": null,
   "metadata": {},
   "outputs": [],
   "source": []
  },
  {
   "cell_type": "code",
   "execution_count": null,
   "metadata": {},
   "outputs": [],
   "source": []
  },
  {
   "cell_type": "code",
   "execution_count": null,
   "metadata": {
    "code_folding": [
     0
    ]
   },
   "outputs": [],
   "source": [
    "# Cross Validation of Daily Sum Differences True - Predicted (all Folds concatenated):\n",
    "\n",
    "\n",
    "#x = np.array(y_acv_test_rfr_day_sum_frac_list_EinsMan_test_MWh)\n",
    "#y1 = (np.array(y_acv_pred_rfr_day_sum_frac_list_EinsMan_all_pred_MWh) - x) / x * 100\n",
    "#z = np.array(y_acv_test_rfr_day_sum_frac_list_Power_avail_norm) / 5\n",
    "\n",
    "x  = y_acv_test_rfr_day_sum_flatlist_EinsMan_MWh\n",
    "y1 = (y_acv_pred_rfr_day_sum_flatlist_EinsMan_MWh - x) / x * 100\n",
    "y2 = (y_awcv_pred_rfr_day_sum_flatlist_EinsMan_MWh - x) / x * 100\n",
    "y3 = (y_w100cv_pred_rfr_day_sum_flatlist_EinsMan_MWh - x) / x * 100\n",
    "z  = y_acv_test_rfr_day_sum_flatlist_Power_avail_norm / 5\n",
    "\n",
    "\n",
    "\n",
    "\n",
    "#x = y_a_test_rfr_day_sum_frac.EinsMan_test_MWh\n",
    "#y1 = (y_a_pred_rfr_day_sum_frac.EinsMan_all_pred_MWh - x) / x * 100\n",
    "#y2 = (y_aw_pred_rfr_day_sum_frac.EinsMan_allwind_pred_MWh - x) / x * 100\n",
    "#y3 = (y_w100_pred_rfr_day_sum_frac.EinsMan_wind100m_pred_MWh - x) / x * 100\n",
    "#y4 = y_a_test_rfr_day_sum_frac.Power_avail_norm / 5\n",
    "\n",
    "fig = go.Figure()\n",
    "\n",
    "#fig.add_trace(go.Bar(x=x, y=y1,\n",
    "#                     name='EinsMan True',\n",
    "#                     marker_color='#1468a2'))\n",
    "\n",
    "fig.add_trace(go.Scatter(x=x, y=y1,\n",
    "                     name='EinsMan Predicted (all)',\n",
    "                     mode='markers',\n",
    "                     marker_color='#ffca1b',\n",
    "                     marker_size=z))\n",
    "\n",
    "fig.add_trace(go.Scatter(x=x, y=y2,\n",
    "                     name='EinsMan Predicted (allwind)',\n",
    "                     mode='markers',\n",
    "                     marker_color='#eb4a4c',\n",
    "                     marker_size=z)) # #8637ff\n",
    "\n",
    "fig.add_trace(go.Scatter(x=x, y=y3,\n",
    "                     name='EinsMan Predicted (wind100m)',\n",
    "                     mode='markers',\n",
    "                     marker_color='#00ad67',\n",
    "                     marker_size=z))\n",
    "\n",
    "\n",
    "\n",
    "#fig.add_trace(go.Bar(x=x, y=y5,\n",
    "#                     name='Power Available',\n",
    "#                     marker_color='#606060'))\n",
    "\n",
    "\n",
    "fig.update_layout(title_text='Relative Difference of Daily Sums EinsMan Predicted and True (rfr)',\n",
    "                  xaxis_title='Daily Sum EinsMan True in MWh',\n",
    "                  yaxis_title='Rel Diff in % (Pred - True) / True',\n",
    "                  plot_bgcolor='#F0F0F0')\n",
    "\n",
    "fig.update_yaxes(range=[-100,350])\n",
    "\n",
    "#fig.update_layout(barmode='group',\n",
    "#                  bargap=0.15,\n",
    "#                  bargroupgap=0.1,\n",
    "#                  title_text='Daily Sum of EinsMan Events in MWh',\n",
    "#                  #xaxis_title = 'Time',\n",
    "#                  yaxis_title = 'Daily Power in MWh (max 6720)',\n",
    "#                  xaxis_tickangle=-45,\n",
    "#                  #xaxis_rangeslider_visible=True,\n",
    "#                  #paper_bgcolor='#C8C8C8',\n",
    "#                  # font=dict(family='Courier New, monospace', size=18, color='#7f7f7f')\n",
    "#                  plot_bgcolor='#F0F0F0')\n",
    "\n",
    "\n",
    "fig.show()"
   ]
  },
  {
   "cell_type": "code",
   "execution_count": null,
   "metadata": {},
   "outputs": [],
   "source": []
  },
  {
   "cell_type": "code",
   "execution_count": null,
   "metadata": {},
   "outputs": [],
   "source": []
  },
  {
   "cell_type": "code",
   "execution_count": null,
   "metadata": {},
   "outputs": [],
   "source": []
  },
  {
   "cell_type": "code",
   "execution_count": null,
   "metadata": {
    "code_folding": [
     0
    ]
   },
   "outputs": [],
   "source": [
    "# OLD: testing\n",
    "#seed_val_list = list(np.arange(0,501,100))\n",
    "\n",
    "#fold_list = list(range(1, len(seed_val_list)+1))\n",
    "#fold_key_list = ['Fold ' + str(fold) for fold in fold_list]\n",
    "#fold_key_list\n",
    "\n",
    "#daily_sum_pred_dict = {1: []}\n",
    "\n",
    "#for i in range(2, len(seed_val_list)+1):\n",
    "#    daily_sum_pred_dict[i] = []\n",
    "    \n",
    "#daily_sum_pred_dict\n",
    "\n",
    "#daily_sum_pred_dict[1].append(y_test_rfr_day_sum_frac)"
   ]
  },
  {
   "cell_type": "code",
   "execution_count": null,
   "metadata": {},
   "outputs": [],
   "source": []
  },
  {
   "cell_type": "code",
   "execution_count": null,
   "metadata": {},
   "outputs": [],
   "source": [
    "# OLD Cross validation:"
   ]
  },
  {
   "cell_type": "code",
   "execution_count": null,
   "metadata": {
    "code_folding": [
     0
    ]
   },
   "outputs": [],
   "source": [
    "#rfr2 = RandomForestRegressor(n_jobs=-1, random_state=0, n_estimators=50)\n",
    "#visualizer2 = PredictionError(rfr2)\n",
    "\n",
    "#visualizer2.fit(X_train, y_train)  # Fit the training data to the visualizer\n",
    "#visualizer2.score(X_test, y_test)  # Evaluate the model on the test data\n",
    "#visualizer2.show() "
   ]
  },
  {
   "cell_type": "code",
   "execution_count": null,
   "metadata": {
    "code_folding": [
     0
    ]
   },
   "outputs": [],
   "source": [
    "#cross_val_score(RandomForestRegressor(n_jobs=-1, random_state=0, n_estimators=20),\n",
    "#                X2, y2.values.ravel(), cv=10)"
   ]
  },
  {
   "cell_type": "code",
   "execution_count": null,
   "metadata": {
    "code_folding": [
     0
    ]
   },
   "outputs": [],
   "source": [
    "#plt.style.use('seaborn')\n",
    "#plt.figure(figsize=(12,10))\n",
    "#viz_rfr = ValidationCurve(RandomForestRegressor(),\n",
    "#                          param_name='n_estimators',\n",
    "#                          param_range=np.arange(1,21),\n",
    "#                          cv=5,\n",
    "#                          scoring='r2')\n",
    "\n",
    "#viz_rfr.fit(X_train, y_train.values.ravel())\n",
    "#viz_rfr.show()"
   ]
  },
  {
   "cell_type": "code",
   "execution_count": null,
   "metadata": {
    "code_folding": [
     0
    ]
   },
   "outputs": [],
   "source": [
    "#plt.style.use('seaborn')\n",
    "#plt.figure(figsize=(12,10))\n",
    "#viz_rfr = ValidationCurve(RandomForestRegressor(n_estimators=20),\n",
    "#                          param_name='min_samples_leaf',\n",
    "#                          param_range=np.arange(1,10),\n",
    "#                          cv=5,\n",
    "#                          scoring='r2')\n",
    "\n",
    "#viz_rfr.fit(X_train, y_train.values.ravel())\n",
    "#viz_rfr.show()"
   ]
  },
  {
   "cell_type": "code",
   "execution_count": null,
   "metadata": {},
   "outputs": [],
   "source": []
  },
  {
   "cell_type": "code",
   "execution_count": null,
   "metadata": {
    "code_folding": [
     0
    ]
   },
   "outputs": [],
   "source": [
    "#plt.style.use('seaborn')\n",
    "#plt.figure(figsize=(12,10))\n",
    "#viz_rfr = ValidationCurve(RandomForestRegressor(n_estimators=20),\n",
    "#                          param_name='min_samples_split',\n",
    "#                          param_range=np.arange(2,10),\n",
    "#                          cv=5,\n",
    "#                          scoring='r2')\n",
    "\n",
    "#viz_rfr.fit(X_train, y_train.values.ravel())\n",
    "#viz_rfr.show()"
   ]
  },
  {
   "cell_type": "code",
   "execution_count": null,
   "metadata": {
    "code_folding": [
     0
    ]
   },
   "outputs": [],
   "source": [
    "#plt.style.use('seaborn')\n",
    "#plt.figure(figsize=(12,10))\n",
    "#viz_rfr = ValidationCurve(RandomForestRegressor(n_estimators=20),\n",
    "#                          param_name='max_depth',\n",
    "#                          param_range=np.arange(2,21,2),\n",
    "#                          cv=5,\n",
    "#                          scoring='r2')\n",
    "\n",
    "#viz_rfr.fit(X_train, y_train.values.ravel())\n",
    "#viz_rfr.show()"
   ]
  },
  {
   "cell_type": "code",
   "execution_count": null,
   "metadata": {
    "code_folding": [
     0
    ]
   },
   "outputs": [],
   "source": [
    "#plt.style.use('seaborn')\n",
    "#plt.figure(figsize=(12,10))\n",
    "#viz_rfr = ValidationCurve(RandomForestRegressor(n_estimators=20),\n",
    "#                          param_name='max_leaf_nodes',\n",
    "#                          param_range=np.arange(5,51,5),\n",
    "#                          cv=5,\n",
    "#                          scoring='r2')\n",
    "\n",
    "#viz_rfr.fit(X_train, y_train.values.ravel())\n",
    "#viz_rfr.show()"
   ]
  },
  {
   "cell_type": "code",
   "execution_count": null,
   "metadata": {
    "code_folding": [
     0
    ]
   },
   "outputs": [],
   "source": [
    "#plt.style.use('seaborn')\n",
    "#plt.figure(figsize=(12,10))\n",
    "#viz_rfr2 = CVScores(RandomForestRegressor(n_estimators=15), cv=KFold(n_splits=5, random_state=0), scoring='r2')\n",
    "#viz_rfr2 = CVScores(RandomForestRegressor(n_estimators=15), cv=TimeSeriesSplit(n_splits=20), scoring='r2')\n",
    "\n",
    "#viz_rfr2.fit(X, y.values.ravel())\n",
    "#viz_rfr2.show()"
   ]
  },
  {
   "cell_type": "code",
   "execution_count": null,
   "metadata": {},
   "outputs": [],
   "source": []
  },
  {
   "cell_type": "code",
   "execution_count": null,
   "metadata": {},
   "outputs": [],
   "source": [
    "#X.index"
   ]
  },
  {
   "cell_type": "code",
   "execution_count": null,
   "metadata": {},
   "outputs": [],
   "source": [
    "#X2, y2 = shuffle(X, y, random_state=0)"
   ]
  },
  {
   "cell_type": "code",
   "execution_count": null,
   "metadata": {
    "code_folding": [
     0
    ]
   },
   "outputs": [],
   "source": [
    "#X2[:5]\n",
    "#X2.reset_index(inplace=True, drop=True)\n",
    "#X2.wsp_10m_ms.plot()\n",
    "#plt.show()"
   ]
  },
  {
   "cell_type": "code",
   "execution_count": null,
   "metadata": {
    "code_folding": [
     0
    ]
   },
   "outputs": [],
   "source": [
    "#plt.style.use('seaborn')\n",
    "#plt.figure(figsize=(12,10))\n",
    "#viz_rfr2 = CVScores(RandomForestRegressor(n_estimators=15), cv=KFold(n_splits=5, random_state=0), scoring='r2')\n",
    "#viz_rfr2 = CVScores(RandomForestRegressor(n_estimators=15), cv=TimeSeriesSplit(n_splits=10), scoring='r2')\n",
    "\n",
    "#viz_rfr2.fit(X2, y2.values.ravel())\n",
    "#viz_rfr2.show()"
   ]
  },
  {
   "cell_type": "code",
   "execution_count": null,
   "metadata": {},
   "outputs": [],
   "source": []
  },
  {
   "cell_type": "markdown",
   "metadata": {
    "heading_collapsed": true
   },
   "source": [
    "#### Feature Importances:"
   ]
  },
  {
   "cell_type": "code",
   "execution_count": null,
   "metadata": {
    "hidden": true
   },
   "outputs": [],
   "source": [
    "rfr_a.feature_importances_"
   ]
  },
  {
   "cell_type": "code",
   "execution_count": null,
   "metadata": {
    "hidden": true
   },
   "outputs": [],
   "source": [
    "# Feature Importances Plot:\n",
    "\n",
    "rfr_a_importances = rfr_a.feature_importances_\n",
    "rfr_a_importances = pd.DataFrame(rfr_a_importances, index=X_a_train.columns, \n",
    "                          columns=[\"Importance\"])\n",
    "\n",
    "rfr_a_importances[\"Std\"] = np.std([tree.feature_importances_\n",
    "                                for tree in rfr_a.estimators_], axis=0)\n",
    "\n",
    "importance_no = range(rfr_a_importances.shape[0])\n",
    "importance_name = rfr_a_importances.index\n",
    "importance_val = rfr_a_importances.iloc[:, 0]\n",
    "importance_std = rfr_a_importances.iloc[:, 1]\n",
    "\n",
    "\n",
    "plt.style.use('seaborn')\n",
    "plt.figure(figsize=(12,8))\n",
    "plt.bar(importance_name, importance_val, yerr=importance_std, align=\"center\")\n",
    "#plt.xlabel('Features')\n",
    "plt.ylabel('Relative Feature Importance (+/- std)', fontsize=15)\n",
    "plt.title('Feature Importance for Random Forest Regressor', fontsize=18)\n",
    "plt.xticks(rotation=75, fontsize=13)\n",
    "plt.yticks(fontsize=13)\n",
    "\n",
    "\n",
    "plt.show()"
   ]
  },
  {
   "cell_type": "code",
   "execution_count": null,
   "metadata": {
    "code_folding": [],
    "hidden": true
   },
   "outputs": [],
   "source": [
    "# Feature Importances Plot:\n",
    "\n",
    "importances_a = rfr_a.feature_importances_\n",
    "indices = np.argsort(importances_a)[::-1]\n",
    "columns = X_a_train.columns.values[indices]\n",
    "values = importances_a[indices]\n",
    "\n",
    "# Creat the plot\n",
    "plt.style.use('seaborn')\n",
    "fig = plt.figure(figsize = (12,8))\n",
    "plt.title('Feature Importance for Random Forest Regressor', fontsize = 18)\n",
    "plt.bar(np.arange(len(importances_a)), values,\n",
    "        width = 0.65,\n",
    "        align=\"center\",\n",
    "        color = 'b',\n",
    "        label = 'Relative Feature Weight') #'#00A000'\n",
    "plt.bar(np.arange(len(importances_a)) - 0.3, np.cumsum(values),\n",
    "        width = 0.3,\n",
    "        align = \"center\",\n",
    "        color = '#ffb742',\n",
    "        label = 'Cumulative Feature Weight')  #'#0AA0A0' '#96c896'\n",
    "plt.xticks(np.arange(len(importances_a)), columns, rotation=75, fontsize=13)\n",
    "plt.yticks(fontsize=13)\n",
    "#plt.xlim((-0.5, 9.5))\n",
    "plt.ylabel(\"Weight\", fontsize = 15)\n",
    "#plt.xlabel(\"Feature\", fontsize = 12)\n",
    "    \n",
    "plt.legend(loc = 'upper left', fontsize=15)\n",
    "#plt.tight_layout()\n",
    "#plt.savefig('ROC_XGB.png', dpi=500)\n",
    "plt.show()"
   ]
  },
  {
   "cell_type": "code",
   "execution_count": null,
   "metadata": {
    "hidden": true
   },
   "outputs": [],
   "source": [
    "#X_train.iloc[:, indices[0]]"
   ]
  },
  {
   "cell_type": "code",
   "execution_count": null,
   "metadata": {
    "hidden": true
   },
   "outputs": [],
   "source": []
  },
  {
   "cell_type": "code",
   "execution_count": null,
   "metadata": {
    "hidden": true
   },
   "outputs": [],
   "source": []
  },
  {
   "cell_type": "code",
   "execution_count": null,
   "metadata": {
    "hidden": true
   },
   "outputs": [],
   "source": [
    "# OLD:"
   ]
  },
  {
   "cell_type": "code",
   "execution_count": null,
   "metadata": {
    "hidden": true
   },
   "outputs": [],
   "source": [
    "# Hyperparameter Exploration through RandomizedSearchCrossValidation:"
   ]
  },
  {
   "cell_type": "code",
   "execution_count": null,
   "metadata": {
    "code_folding": [
     0
    ],
    "hidden": true
   },
   "outputs": [],
   "source": [
    "# Create dictionary with Parameters and their ranges which are explored by the RandomSearch:\n",
    "#param_dist = {'max_depth': np.arange(2,12,2).tolist(),\n",
    "#              'max_features': ['auto'] + np.arange(2,11,2).tolist(),\n",
    "#              'min_samples_split': np.arange(2,10).tolist(),\n",
    "#              'min_samples_leaf': np.arange(1,21,2).tolist()}\n",
    "\n",
    "#rfr2 = RandomForestRegressor(n_estimators=50, n_jobs=-1, random_state=0)\n",
    "#scorer_rfr_rscv = make_scorer(mean_squared_error)\n",
    "\n",
    "#rfr_rscv = RandomizedSearchCV(estimator=rfr2,\n",
    "#                              param_distributions=param_dist,\n",
    "#                              n_iter=20,\n",
    "#                              cv=5,\n",
    "#                              scoring=scorer_rfr_rscv)\n",
    "#rfr_rscv.fit(X2, y2.values.ravel())"
   ]
  },
  {
   "cell_type": "code",
   "execution_count": null,
   "metadata": {
    "code_folding": [
     0
    ],
    "hidden": true
   },
   "outputs": [],
   "source": [
    "## Build DataFrame with Test Results and Print Best Row, best Parameter Values:\n",
    "\n",
    "#rfr_rscv_results_df = pd.DataFrame(rfr_rscv.cv_results_)\n",
    "##print(rfr_rscv_results_df)\n",
    "\n",
    "#column = rfr_rscv_results_df.loc[:, ['params']]\n",
    "##print(column)\n",
    "\n",
    "#best_row = rfr_rscv_results_df[rfr_rscv_results_df['rank_test_score'] == 1]\n",
    "#best_row\n",
    "##best_row = rfr_rscv_results_df.loc[rfr_rscv.best_index_]\n",
    "##print(best_row)"
   ]
  },
  {
   "cell_type": "code",
   "execution_count": null,
   "metadata": {
    "code_folding": [
     0
    ],
    "hidden": true
   },
   "outputs": [],
   "source": [
    "## Best Parameters:\n",
    "\n",
    "#rfr_rscv.best_params_"
   ]
  },
  {
   "cell_type": "code",
   "execution_count": null,
   "metadata": {
    "hidden": true
   },
   "outputs": [],
   "source": [
    "## Use the best Estimator to predict new values:\n",
    "\n",
    "#y_pred_rfr_rscv = rfr_rscv.best_estimator_.predict(X_test)"
   ]
  },
  {
   "cell_type": "code",
   "execution_count": null,
   "metadata": {
    "hidden": true
   },
   "outputs": [],
   "source": [
    "## Evaluation Metrics:\n",
    "\n",
    "#reg_evaluation(y_test, y_pred_rfr_rscv)"
   ]
  },
  {
   "cell_type": "code",
   "execution_count": null,
   "metadata": {
    "hidden": true
   },
   "outputs": [],
   "source": [
    "## Parameters of original, default Random Forest:\n",
    "\n",
    "#rfr.get_params"
   ]
  },
  {
   "cell_type": "code",
   "execution_count": null,
   "metadata": {
    "hidden": true
   },
   "outputs": [],
   "source": [
    "#np.arange(2,21,2).tolist()"
   ]
  },
  {
   "cell_type": "code",
   "execution_count": null,
   "metadata": {
    "hidden": true
   },
   "outputs": [],
   "source": []
  },
  {
   "cell_type": "markdown",
   "metadata": {},
   "source": [
    "#### Timeframe Split:"
   ]
  },
  {
   "cell_type": "code",
   "execution_count": null,
   "metadata": {
    "code_folding": []
   },
   "outputs": [],
   "source": [
    "## Model Fit and Predict for All GFS Variables as Features (TimeFrame Split):\n",
    "rfr_a_tf = RandomForestRegressor(n_jobs=-1, random_state=0, n_estimators=100)\n",
    "\n",
    "## Fit Regressor to Train Data Set:\n",
    "rfr_a_tf.fit(X_a_train_tf, y_a_train_tf.values.ravel())\n",
    "\n",
    "## Predict Target Values on Test Data:\n",
    "y_a_pred_rfr_tf = rfr_a_tf.predict(X_a_test_tf)\n",
    "\n",
    "## Predict Target Values on Training Data:\n",
    "y_a_pred_rfr_tf = rfr_a_tf.predict(X_a_test_tf)"
   ]
  },
  {
   "cell_type": "code",
   "execution_count": null,
   "metadata": {},
   "outputs": [],
   "source": [
    "# Evaluation Scores for All GFS Variables as Features (TimeFrame Split):\n",
    "reg_evaluation(y_a_test_tf, y_a_pred_rfr_tf)"
   ]
  },
  {
   "cell_type": "code",
   "execution_count": null,
   "metadata": {},
   "outputs": [],
   "source": [
    "#y_pred_rfr_tf = pd.DataFrame(y_pred_rfr_tf, index=y_test_tf.index)"
   ]
  },
  {
   "cell_type": "code",
   "execution_count": null,
   "metadata": {},
   "outputs": [],
   "source": [
    "print(np.sum(y_a_test_tf))\n",
    "print(np.sum(y_a_pred_rfr_tf))"
   ]
  },
  {
   "cell_type": "code",
   "execution_count": null,
   "metadata": {},
   "outputs": [],
   "source": [
    "#plt.style.use('seaborn')\n",
    "#plt.figure(figsize=(10,8))\n",
    "#plt.plot(y_test_tf, c='b', alpha=0.8, linestyle='', marker='o', label='Actual')\n",
    "#plt.plot(y_pred_rfr_tf, c='g', alpha=0.7, linestyle='', marker='s', label='Predicted')\n",
    "#plt.legend()\n",
    "#plt.show()"
   ]
  },
  {
   "cell_type": "code",
   "execution_count": null,
   "metadata": {},
   "outputs": [],
   "source": [
    "#y_test_pred_tf = pd.concat([y_test_tf, y_pred_rfr_tf], axis=1)\n",
    "#y_test_pred_tf.rename(columns={'losses_rtu_einsman_norm': 'einsman_true',\n",
    "#                               0:'einsman_predicted'}, inplace=True)"
   ]
  },
  {
   "cell_type": "code",
   "execution_count": null,
   "metadata": {},
   "outputs": [],
   "source": [
    "#source = ColumnDataSource(y_test_pred_tf)\n",
    "\n",
    "#plot_y_test_pred_tf = figure(x_axis_type='datetime', plot_width=800, plot_height=350)\n",
    "#plot_y_test_pred_tf.line('index', 'einsman_true', source=source)\n",
    "#plot_y_test_pred_tf.line('index', 'einsman_predicted', source=source, line_color='green')\n",
    "\n",
    "#reset_output()\n",
    "##output_file('y_test_pred_tf.html')\n",
    "#output_notebook()\n",
    "\n",
    "#show(plot_y_test_pred_tf)"
   ]
  },
  {
   "cell_type": "code",
   "execution_count": null,
   "metadata": {},
   "outputs": [],
   "source": []
  },
  {
   "cell_type": "code",
   "execution_count": null,
   "metadata": {},
   "outputs": [],
   "source": []
  },
  {
   "cell_type": "markdown",
   "metadata": {},
   "source": [
    "### XGBoost Regressor:"
   ]
  },
  {
   "cell_type": "markdown",
   "metadata": {},
   "source": [
    "#### Model Fit and Predict:"
   ]
  },
  {
   "cell_type": "code",
   "execution_count": null,
   "metadata": {
    "code_folding": [
     0
    ]
   },
   "outputs": [],
   "source": [
    "# Model Fit and Predict with All GFS Variables as Features:\n",
    "\n",
    "# Instantiate Regressor:\n",
    "xgbr_a = XGBRegressor(max_depth=5, learning_rate=0.4, n_estimators=100, random_state=1)\n",
    "\n",
    "# Fit Regressor to Train Data Set:\n",
    "xgbr_a.fit(X_a_train, y_a_train.values.ravel())\n",
    "\n",
    "# Predict Target Values on Test Data:\n",
    "y_a_pred_xgbr = xgbr_a.predict(X_a_test)\n",
    "\n",
    "# Predict Target Values on Training Data:\n",
    "y_a_train_pred_xgbr = xgbr_a.predict(X_a_train)"
   ]
  },
  {
   "cell_type": "code",
   "execution_count": null,
   "metadata": {
    "code_folding": [
     0
    ]
   },
   "outputs": [],
   "source": [
    "# Convert predictions to DataFrames for Prediction Plots:\n",
    "\n",
    "y_a_pred_xgbr = pd.DataFrame(y_a_pred_xgbr, columns=['EinsMan_all_pred_norm'], index=y_a_test.index)\n",
    "\n",
    "\n",
    "# Calculate Residuals = y_true - y_predicted:\n",
    "residuals_a_xgbr = y_a_test.values - y_a_pred_xgbr.values\n",
    "residuals_a_xgbr = pd.DataFrame(residuals_a_xgbr, columns=['Residuals_all_xgbr'], index=y_a_test.index)\n",
    "\n",
    "\n",
    "# Determine daily sums and fractions of true (test set) EinsMan loss work (in MWh and %):\n",
    "y_a_test_xgbr_day_sum_frac = einsman_daily_sum_and_frac_test(y_a_test)\n",
    "\n",
    "#y_test_rfr_day_sum_frac[:10]\n",
    "#y_test_rfr_day_sum_frac.EinsMan_test_MWh.sum()\n",
    "\n",
    "# Determine daily sums and fractions of predicted EinsMan loss work (in MWh and %):\n",
    "y_a_pred_xgbr_day_sum_frac = einsman_daily_sum_and_frac_pred(y_a_pred_xgbr, features='all')\n",
    "#y_pred_rfr_day_sum_frac[:10]\n",
    "#y_pred_rfr_day_sum_frac.EinsMan_pred_MWh.sum()\n",
    "\n",
    "\n",
    "# Prepare EinsMan test/predict and Power available DataFrame for Prediction Plots:\n",
    "\n",
    "# Power available at test data points:\n",
    "y_a_test_power_avail = df_gq_10min_nn.loc[y_a_test.index, 'power_available_norm'].to_frame()\n",
    "\n",
    "# Concatenate DataFrames together, and rename columns:\n",
    "y_a_test_pred_xgbr_avail = pd.concat([y_a_test, y_a_pred_xgbr, y_a_test_power_avail], axis=1)\n",
    "y_a_test_pred_xgbr_avail.rename(columns={'losses_rtu_einsman_norm': 'EinsMan_true_norm',\n",
    "                                  'power_available_norm':'Power_avail_norm'}, inplace=True)\n",
    "\n",
    "# Prepare continuous DataFrame (10 min res) for plotting (no connecting lines between days):\n",
    "y_a_test_pred_xgbr_avail_10min = y_a_test_pred_xgbr_avail.resample('10T').asfreq()"
   ]
  },
  {
   "cell_type": "code",
   "execution_count": null,
   "metadata": {},
   "outputs": [],
   "source": []
  },
  {
   "cell_type": "code",
   "execution_count": null,
   "metadata": {
    "code_folding": [
     0
    ]
   },
   "outputs": [],
   "source": [
    "# Model Fit and Predict with All GFS Wind Variables as Features:\n",
    "\n",
    "# Instantiate Regressor:\n",
    "xgbr_aw = XGBRegressor(max_depth=5, learning_rate=0.4, n_estimators=100, random_state=1)\n",
    "\n",
    "# Fit Regressor to Train Data Set:\n",
    "xgbr_aw.fit(X_aw_train, y_aw_train.values.ravel())\n",
    "\n",
    "# Predict Target Values on Test Data:\n",
    "y_aw_pred_xgbr = xgbr_aw.predict(X_aw_test)\n",
    "\n",
    "# Predict Target Values on Training Data:\n",
    "y_aw_train_pred_xgbr = xgbr_aw.predict(X_aw_train)"
   ]
  },
  {
   "cell_type": "code",
   "execution_count": null,
   "metadata": {
    "code_folding": [
     0
    ]
   },
   "outputs": [],
   "source": [
    "# Convert predictions to DataFrames for Prediction Plots:\n",
    "\n",
    "y_aw_pred_xgbr = pd.DataFrame(y_aw_pred_xgbr, columns=['EinsMan_allwind_pred_norm'], index=y_aw_test.index)\n",
    "\n",
    "\n",
    "# Calculate Residuals = y_true - y_predicted:\n",
    "residuals_aw_xgbr = y_aw_test.values - y_aw_pred_xgbr.values\n",
    "residuals_aw_xgbr = pd.DataFrame(residuals_aw_xgbr, columns=['Residuals_allwind_xgbr'], index=y_aw_test.index)\n",
    "\n",
    "\n",
    "# Determine daily sums and fractions of true (test set) EinsMan loss work (in MWh and %):\n",
    "y_aw_test_xgbr_day_sum_frac = einsman_daily_sum_and_frac_test(y_aw_test)\n",
    "\n",
    "#y_test_rfr_day_sum_frac[:10]\n",
    "#y_test_rfr_day_sum_frac.EinsMan_test_MWh.sum()\n",
    "\n",
    "# Determine daily sums and fractions of predicted EinsMan loss work (in MWh and %):\n",
    "y_aw_pred_xgbr_day_sum_frac = einsman_daily_sum_and_frac_pred(y_aw_pred_xgbr, features='allwind')\n",
    "#y_pred_rfr_day_sum_frac[:10]\n",
    "#y_pred_rfr_day_sum_frac.EinsMan_pred_MWh.sum()\n",
    "\n",
    "\n",
    "# Prepare EinsMan test/predict and Power available DataFrame for Prediction Plots:\n",
    "\n",
    "# Power available at test data points:\n",
    "y_aw_test_power_avail = df_gq_10min_nn.loc[y_aw_test.index, 'power_available_norm'].to_frame()\n",
    "\n",
    "# Concatenate DataFrames together, and rename columns:\n",
    "y_aw_test_pred_xgbr_avail = pd.concat([y_aw_test, y_aw_pred_xgbr, y_aw_test_power_avail], axis=1)\n",
    "y_aw_test_pred_xgbr_avail.rename(columns={'losses_rtu_einsman_norm': 'EinsMan_true_norm',\n",
    "                                  'power_available_norm':'Power_avail_norm'}, inplace=True)\n",
    "\n",
    "# Prepare continuous DataFrame (10 min res) for plotting (no connecting lines between days):\n",
    "y_aw_test_pred_xgbr_avail_10min = y_aw_test_pred_xgbr_avail.resample('10T').asfreq()"
   ]
  },
  {
   "cell_type": "code",
   "execution_count": null,
   "metadata": {},
   "outputs": [],
   "source": []
  },
  {
   "cell_type": "code",
   "execution_count": null,
   "metadata": {
    "code_folding": [
     0
    ]
   },
   "outputs": [],
   "source": [
    "# Model Fit and Predict with All GFS Wind Variables as Features:\n",
    "\n",
    "# Instantiate Regressor:\n",
    "xgbr_w100 = XGBRegressor(max_depth=5, learning_rate=0.4, n_estimators=100, random_state=1)\n",
    "\n",
    "# Fit Regressor to Train Data Set:\n",
    "xgbr_w100.fit(X_w100_train, y_w100_train.values.ravel())\n",
    "\n",
    "# Predict Target Values on Test Data:\n",
    "y_w100_pred_xgbr = xgbr_w100.predict(X_w100_test)\n",
    "\n",
    "# Predict Target Values on Training Data:\n",
    "y_w100_train_pred_xgbr = xgbr_w100.predict(X_w100_train)"
   ]
  },
  {
   "cell_type": "code",
   "execution_count": null,
   "metadata": {
    "code_folding": [
     0
    ]
   },
   "outputs": [],
   "source": [
    "# Convert predictions to DataFrames for Prediction Plots:\n",
    "\n",
    "y_w100_pred_xgbr = pd.DataFrame(y_w100_pred_xgbr, columns=['EinsMan_wind100m_pred_norm'], index=y_w100_test.index)\n",
    "\n",
    "\n",
    "# Calculate Residuals = y_true - y_predicted:\n",
    "residuals_w100_xgbr = y_w100_test.values - y_w100_pred_xgbr.values\n",
    "residuals_w100_xgbr = pd.DataFrame(residuals_w100_xgbr, columns=['Residuals_wind100m_xgbr'], index=y_w100_test.index)\n",
    "\n",
    "\n",
    "# Determine daily sums and fractions of true (test set) EinsMan loss work (in MWh and %):\n",
    "y_w100_test_xgbr_day_sum_frac = einsman_daily_sum_and_frac_test(y_w100_test)\n",
    "\n",
    "#y_test_rfr_day_sum_frac[:10]\n",
    "#y_test_rfr_day_sum_frac.EinsMan_test_MWh.sum()\n",
    "\n",
    "# Determine daily sums and fractions of predicted EinsMan loss work (in MWh and %):\n",
    "y_w100_pred_xgbr_day_sum_frac = einsman_daily_sum_and_frac_pred(y_w100_pred_xgbr, features='wind100m')\n",
    "#y_pred_rfr_day_sum_frac[:10]\n",
    "#y_pred_rfr_day_sum_frac.EinsMan_pred_MWh.sum()\n",
    "\n",
    "\n",
    "# Prepare EinsMan test/predict and Power available DataFrame for Prediction Plots:\n",
    "\n",
    "# Power available at test data points:\n",
    "y_w100_test_power_avail = df_gq_10min_nn.loc[y_w100_test.index, 'power_available_norm'].to_frame()\n",
    "\n",
    "# Concatenate DataFrames together, and rename columns:\n",
    "y_w100_test_pred_xgbr_avail = pd.concat([y_w100_test, y_w100_pred_xgbr, y_w100_test_power_avail], axis=1)\n",
    "y_w100_test_pred_xgbr_avail.rename(columns={'losses_rtu_einsman_norm': 'EinsMan_true_norm',\n",
    "                                  'power_available_norm':'Power_avail_norm'}, inplace=True)\n",
    "\n",
    "# Prepare continuous DataFrame (10 min res) for plotting (no connecting lines between days):\n",
    "y_w100_test_pred_xgbr_avail_10min = y_w100_test_pred_xgbr_avail.resample('10T').asfreq()"
   ]
  },
  {
   "cell_type": "code",
   "execution_count": null,
   "metadata": {},
   "outputs": [],
   "source": []
  },
  {
   "cell_type": "markdown",
   "metadata": {},
   "source": [
    "#### Evaluation Scores:"
   ]
  },
  {
   "cell_type": "code",
   "execution_count": null,
   "metadata": {
    "code_folding": [
     0
    ]
   },
   "outputs": [],
   "source": [
    "# Evaluation Scores for All GFS Variables as Features:\n",
    "\n",
    "# Evaluation Scores on Test data:\n",
    "\n",
    "reg_evaluation(y_a_test, y_a_pred_xgbr)\n",
    "\n",
    "# First check: sums of actual and predicted EinsMan losses on test data:\n",
    "\n",
    "print('')\n",
    "print(np.sum(y_a_test))\n",
    "print(np.sum(y_a_pred_xgbr))\n",
    "print('')\n",
    "print('')\n",
    "\n",
    "# Evaluation Scores on Training data:\n",
    "\n",
    "reg_evaluation(y_a_train, y_a_train_pred_xgbr)\n",
    "\n",
    "# First check: sums of actual and predicted EinsMan losses on train data:\n",
    "\n",
    "print('')\n",
    "print(np.sum(y_a_train))\n",
    "print(np.sum(y_a_train_pred_xgbr))"
   ]
  },
  {
   "cell_type": "code",
   "execution_count": null,
   "metadata": {},
   "outputs": [],
   "source": []
  },
  {
   "cell_type": "code",
   "execution_count": null,
   "metadata": {
    "code_folding": [
     0
    ]
   },
   "outputs": [],
   "source": [
    "# Evaluation Scores for All GFS Wind Variables as Features:\n",
    "\n",
    "# Evaluation Scores on Test data:\n",
    "\n",
    "reg_evaluation(y_aw_test, y_aw_pred_xgbr)\n",
    "\n",
    "# First check: sums of actual and predicted EinsMan losses on test data:\n",
    "\n",
    "print('')\n",
    "print(np.sum(y_aw_test))\n",
    "print(np.sum(y_aw_pred_xgbr))\n",
    "print('')\n",
    "print('')\n",
    "\n",
    "# Evaluation Scores on Training data:\n",
    "\n",
    "reg_evaluation(y_aw_train, y_aw_train_pred_xgbr)\n",
    "\n",
    "# First check: sums of actual and predicted EinsMan losses on train data:\n",
    "\n",
    "print('')\n",
    "print(np.sum(y_aw_train))\n",
    "print(np.sum(y_aw_train_pred_xgbr))"
   ]
  },
  {
   "cell_type": "code",
   "execution_count": null,
   "metadata": {},
   "outputs": [],
   "source": []
  },
  {
   "cell_type": "code",
   "execution_count": null,
   "metadata": {
    "code_folding": [
     0
    ]
   },
   "outputs": [],
   "source": [
    "# Evaluation Scores for GFS Wind Variable in 100m as Feature:\n",
    "\n",
    "# Evaluation Scores on Test data:\n",
    "\n",
    "reg_evaluation(y_w100_test, y_w100_pred_xgbr)\n",
    "\n",
    "# First check: sums of actual and predicted EinsMan losses on test data:\n",
    "\n",
    "print('')\n",
    "print(np.sum(y_w100_test))\n",
    "print(np.sum(y_w100_pred_xgbr))\n",
    "print('')\n",
    "print('')\n",
    "\n",
    "# Evaluation Scores on Training data:\n",
    "\n",
    "reg_evaluation(y_w100_train, y_w100_train_pred_xgbr)\n",
    "\n",
    "# First check: sums of actual and predicted EinsMan losses on train data:\n",
    "\n",
    "print('')\n",
    "print(np.sum(y_w100_train))\n",
    "print(np.sum(y_w100_train_pred_xgbr))"
   ]
  },
  {
   "cell_type": "code",
   "execution_count": null,
   "metadata": {},
   "outputs": [],
   "source": []
  },
  {
   "cell_type": "code",
   "execution_count": null,
   "metadata": {},
   "outputs": [],
   "source": []
  },
  {
   "cell_type": "markdown",
   "metadata": {},
   "source": [
    "#### Residual Plots:"
   ]
  },
  {
   "cell_type": "code",
   "execution_count": null,
   "metadata": {},
   "outputs": [],
   "source": []
  },
  {
   "cell_type": "code",
   "execution_count": null,
   "metadata": {},
   "outputs": [],
   "source": []
  },
  {
   "cell_type": "code",
   "execution_count": null,
   "metadata": {},
   "outputs": [],
   "source": []
  },
  {
   "cell_type": "markdown",
   "metadata": {},
   "source": [
    "#### Prediction Plots:"
   ]
  },
  {
   "cell_type": "code",
   "execution_count": null,
   "metadata": {
    "code_folding": [
     0
    ]
   },
   "outputs": [],
   "source": [
    "# Plotly Visualisation of Predicted and Actual EinsMan values and Available Power:\n",
    "# all values are normed values, here displayed in % of total installed power (~280 MW)\n",
    "\n",
    "\n",
    "fig = go.Figure()\n",
    "#fig = go.FigureWidget(data=data, layout=layout)\n",
    "\n",
    "#x  = y_test_pred_avail_10min.index\n",
    "#y1 = y_test_pred_avail_10min['EinsMan_true_norm']*100\n",
    "#y2 = y_test_pred_avail_10min['EinsMan_pred_norm']*100\n",
    "#y3 = y_test_pred_avail_10min['Power_avail_norm']*100\n",
    "\n",
    "\n",
    "# show results only for timeframe:\n",
    "\n",
    "tf_start = '2018-01'\n",
    "tf_end   = '2019-08'\n",
    "timeframe = (y_a_test_pred_xgbr_avail_10min.index >= tf_start) & (y_a_test_pred_xgbr_avail_10min.index <= tf_end)\n",
    "\n",
    "x  = y_a_test_pred_xgbr_avail_10min[timeframe].index\n",
    "y1 = y_a_test_pred_xgbr_avail_10min[timeframe]['EinsMan_true_norm']*100\n",
    "y2 = y_a_test_pred_xgbr_avail_10min[timeframe]['EinsMan_all_pred_norm']*100\n",
    "y3 = y_aw_test_pred_xgbr_avail_10min[timeframe]['EinsMan_allwind_pred_norm']*100\n",
    "y4 = y_w100_test_pred_xgbr_avail_10min[timeframe]['EinsMan_wind100m_pred_norm']*100\n",
    "y5 = y_a_test_pred_xgbr_avail_10min[timeframe]['Power_avail_norm']*100\n",
    "\n",
    "\n",
    "\n",
    "fig.add_trace(go.Scatter(x=x, y=y1,\n",
    "                         name='EinsMan True',\n",
    "                         line_color='#1468a2',\n",
    "                         line_width=3)) # deepskyblue\n",
    "\n",
    "fig.add_trace(go.Scatter(x=x, y=y2,\n",
    "                         name='EinsMan Predicted (all)',\n",
    "                         line_color='#ffca1b',\n",
    "                         line_width=3)) # dimgray, #29A073\n",
    "\n",
    "fig.add_trace(go.Scatter(x=x, y=y3,\n",
    "                         name='EinsMan Predicted (allwind)',\n",
    "                         line_color='#eb4a4c',\n",
    "                         line_width=2,\n",
    "                         opacity=0.8)) # deepskyblue\n",
    "\n",
    "fig.add_trace(go.Scatter(x=x, y=y4,\n",
    "                         name='EinsMan Predicted (wind100m)',\n",
    "                         line_color='#00ad67',\n",
    "                         line_width=2,\n",
    "                         opacity=0.8)) # dimgray, #29A073\n",
    "\n",
    "fig.add_trace(go.Scatter(x=x, y=y5,\n",
    "                         name='Power Available',\n",
    "                         line_color='#606060',\n",
    "                         line_width=3)) # dimgray, #29A073\n",
    "\n",
    "\n",
    "fig.update_layout(title_text='Time Series of EinsMan Events (xgbr)',\n",
    "                  #xaxis_title = 'Time',\n",
    "                  yaxis_title = 'Power in % of installed Total (280 MW)',\n",
    "                  #xaxis_rangeslider_visible=True,\n",
    "                  #paper_bgcolor='#C8C8C8',\n",
    "                  # font=dict(family='Courier New, monospace', size=18, color='#7f7f7f')\n",
    "                  plot_bgcolor='#F0F0F0')\n",
    "\n",
    "\n",
    "fig.update_xaxes(range=['2019-03-09','2019-03-19'])\n",
    "\n",
    "   \n",
    "#fig.layout.on_change(zoom, 'xaxis.range')\n",
    "\n",
    "#fig.hoverlabel.opacity=0.5\n",
    "#fig.write_image('folder/image_name.png or jpeg or pdf)') # only select 3 day period of interest in dataframe\n",
    "fig.show()"
   ]
  },
  {
   "cell_type": "code",
   "execution_count": null,
   "metadata": {
    "code_folding": [
     0
    ]
   },
   "outputs": [],
   "source": [
    "# Plotly Visualisation of Predicted and Actual EinsMan and Available Power daily sums in MWh:\n",
    "# all values are daily sums, here displayed in MWh\n",
    "# total installed power equals a maximum daily sum of 6720 MWh\n",
    "\n",
    "\n",
    "#x  = y_test_rfr_day_sum_frac.index\n",
    "#y1 = y_test_rfr_day_sum_frac.EinsMan_test_MWh\n",
    "#y2 = y_pred_rfr_day_sum_frac.EinsMan_pred_MWh\n",
    "#y3 = y_test_rfr_day_sum_frac.Power_avail_MWh\n",
    "\n",
    "\n",
    "# \n",
    "tf_start = '2018-01'\n",
    "tf_end   = '2019-08'\n",
    "timeframe = (y_a_test_xgbr_day_sum_frac.index >= tf_start) & (y_a_test_xgbr_day_sum_frac.index <= tf_end)\n",
    "\n",
    "x  = y_a_test_xgbr_day_sum_frac[timeframe].index\n",
    "y1 = y_a_test_xgbr_day_sum_frac[timeframe].EinsMan_test_MWh\n",
    "y2 = y_a_pred_xgbr_day_sum_frac[timeframe].EinsMan_all_pred_MWh\n",
    "y3 = y_aw_pred_xgbr_day_sum_frac[timeframe].EinsMan_allwind_pred_MWh\n",
    "y4 = y_w100_pred_xgbr_day_sum_frac[timeframe].EinsMan_wind100m_pred_MWh\n",
    "y5 = y_a_test_xgbr_day_sum_frac[timeframe].Power_avail_MWh\n",
    "\n",
    "fig = go.Figure()\n",
    "\n",
    "fig.add_trace(go.Bar(x=x, y=y1,\n",
    "                     name='EinsMan True',\n",
    "                     marker_color='#1468a2'))\n",
    "\n",
    "fig.add_trace(go.Bar(x=x, y=y2,\n",
    "                     name='EinsMan Predicted (all)',\n",
    "                     marker_color='#ffca1b'))\n",
    "\n",
    "fig.add_trace(go.Bar(x=x, y=y3,\n",
    "                     name='EinsMan Predicted (allwind)',\n",
    "                     marker_color='#eb4a4c')) # #8637ff\n",
    "\n",
    "fig.add_trace(go.Bar(x=x, y=y4,\n",
    "                     name='EinsMan Predicted (wind100m)',\n",
    "                     marker_color='#00ad67'))\n",
    "\n",
    "fig.add_trace(go.Bar(x=x, y=y5,\n",
    "                     name='Power Available',\n",
    "                     marker_color='#606060'))\n",
    "\n",
    "\n",
    "\n",
    "fig.update_layout(barmode='group',\n",
    "                  bargap=0.15,\n",
    "                  bargroupgap=0.1,\n",
    "                  title_text='Daily Sum of EinsMan Events in MWh (xgbr)',\n",
    "                  #xaxis_title = 'Time',\n",
    "                  yaxis_title = 'Daily Power in MWh (max 6720)',\n",
    "                  xaxis_tickangle=-45,\n",
    "                  #xaxis_rangeslider_visible=True,\n",
    "                  #paper_bgcolor='#C8C8C8',\n",
    "                  # font=dict(family='Courier New, monospace', size=18, color='#7f7f7f')\n",
    "                  plot_bgcolor='#F0F0F0')\n",
    "\n",
    "fig.update_xaxes(range=['2019-03-08','2019-03-19'])\n",
    "\n",
    "\n",
    "fig.show()"
   ]
  },
  {
   "cell_type": "code",
   "execution_count": null,
   "metadata": {},
   "outputs": [],
   "source": []
  },
  {
   "cell_type": "code",
   "execution_count": null,
   "metadata": {},
   "outputs": [],
   "source": []
  },
  {
   "cell_type": "code",
   "execution_count": null,
   "metadata": {},
   "outputs": [],
   "source": []
  },
  {
   "cell_type": "code",
   "execution_count": null,
   "metadata": {},
   "outputs": [],
   "source": []
  },
  {
   "cell_type": "markdown",
   "metadata": {},
   "source": [
    "#### Cross Validation (blockwise):"
   ]
  },
  {
   "cell_type": "code",
   "execution_count": null,
   "metadata": {
    "code_folding": [
     0
    ]
   },
   "outputs": [],
   "source": [
    "# Cross Validation, All GFS Variables as Features:\n",
    "\n",
    "# iterate over blockwise train-test-split sets (with selected seed values, reproducability)\n",
    "\n",
    "\n",
    "\n",
    "seed_val_list = list(np.arange(1,1000,100))\n",
    "\n",
    "evaluation_dict_xgbr_acv = {'R2':[], 'EVS':[], 'RMSE':[], 'MSE':[], 'MAE':[]}\n",
    "#r2_list = [0 for x in range(len(seed_val_list))]\n",
    "#evs_list = [0 for x in range(len(seed_val_list))]\n",
    "#rmse_list = [0 for x in range(len(seed_val_list))]\n",
    "#mse_list = [0 for x in range(len(seed_val_list))]\n",
    "#mae_list = [0 for x in range(len(seed_val_list))]\n",
    "\n",
    "y_acv_test_xgbr_day_sum_frac_list = []\n",
    "y_acv_pred_xgbr_day_sum_frac_list = []\n",
    "\n",
    "#y_acv_test_pred_avail_dict = {1: []}\n",
    "\n",
    "#for i in range(2, len(seed_val_list)+1):\n",
    "#    y_acv_test_pred_avail_dict[i] = []\n",
    "\n",
    "\n",
    "\n",
    "# Iterate over random seed list:\n",
    "for i in seed_val_list:\n",
    "    \n",
    "    #r2 = 0\n",
    "    #r2 = iter(r2_list)\n",
    "    #evs = 0\n",
    "    #evs = iter(evs_list)\n",
    "    #rmse = 0\n",
    "    #rmse = iter(rmse_list)\n",
    "    #mse = 0\n",
    "    #mse = iter(mse_list)\n",
    "    #mae = 0\n",
    "    #mae = iter(mae_list)\n",
    "\n",
    "    # Blockwise train-test_split:\n",
    "    X_acv_train, X_acv_test, y_acv_train, y_acv_test, start_indices, len_block = train_test_block_split(X_a,\n",
    "                                                                                        y_a,\n",
    "                                                                                        n_blocks=30,\n",
    "                                                                                        len_block=4,\n",
    "                                                                                        n_buffer=1,\n",
    "                                                                                        seed_val=i)\n",
    "\n",
    "    \n",
    "    \n",
    "    # Instantiate Regressor:\n",
    "    xgbr_acv = XGBRegressor(max_depth=5, learning_rate=0.4, n_estimators=100, random_state=1)\n",
    "\n",
    "    # Fit Regressor to Train Data Set:\n",
    "    xgbr_acv.fit(X_acv_train, y_acv_train.values.ravel())\n",
    "\n",
    "    # Predict Target Values on Test Data:\n",
    "    y_acv_pred_xgbr = xgbr_acv.predict(X_acv_test)\n",
    "    \n",
    "    # Evaluation measure for ith Fold: # don't use function itself, just \n",
    "    #reg_evaluation(y_test, y_pred_rfr)\n",
    "    #r2, evs, rmse, mse, mae = reg_evaluation(y_test, y_pred_rfr)\n",
    "    \n",
    "    # R-squared score\n",
    "    r2 = r2_score(y_acv_test, y_acv_pred_xgbr)\n",
    "    \n",
    "    # Explained Variance Score\n",
    "    evs = explained_variance_score(y_acv_test, y_acv_pred_xgbr)\n",
    "    \n",
    "    # Root Mean squared error (MSE)\n",
    "    rmse = np.sqrt(mean_squared_error(y_acv_test, y_acv_pred_xgbr))\n",
    "\n",
    "    # Mean squared error (MSE)\n",
    "    mse = mean_squared_error(y_acv_test, y_acv_pred_xgbr)\n",
    "\n",
    "    # Mean absolute error (MAE)\n",
    "    mae = mean_absolute_error(y_acv_test, y_acv_pred_xgbr)\n",
    "    \n",
    "    # Store evaluation metrics in evaluation dictionary:\n",
    "    evaluation_dict_xgbr_acv['R2'].append(r2)\n",
    "    evaluation_dict_xgbr_acv['EVS'].append(evs)\n",
    "    evaluation_dict_xgbr_acv['RMSE'].append(rmse)\n",
    "    evaluation_dict_xgbr_acv['MSE'].append(mse)\n",
    "    evaluation_dict_xgbr_acv['MAE'].append(mae)\n",
    "    \n",
    "    \n",
    "    # Convert predictions to DataFrame:\n",
    "    y_acv_pred_xgbr = pd.DataFrame(y_acv_pred_xgbr, columns=['EinsMan_all_pred_norm'], index=y_acv_test.index)\n",
    "\n",
    "    # Determine daily sums and fractions of true (test set) EinsMan loss work (in MWh and %):\n",
    "    y_acv_test_xgbr_day_sum_frac = einsman_daily_sum_and_frac_test(y_acv_test)\n",
    "\n",
    "    # Determine daily sums and fractions of predicted EinsMan loss work (in MWh and %):\n",
    "    y_acv_pred_xgbr_day_sum_frac = einsman_daily_sum_and_frac_pred(y_acv_pred_xgbr, features='all')\n",
    "\n",
    "    \n",
    "    # Store cross-validation daily sums and fractions (true and pred) in lists:\n",
    "    y_acv_test_xgbr_day_sum_frac_list.append(y_acv_test_xgbr_day_sum_frac)\n",
    "    y_acv_pred_xgbr_day_sum_frac_list.append(y_acv_pred_xgbr_day_sum_frac)\n",
    "    \n",
    "\n",
    "\n",
    "evaluation_xgbr_acv = pd.DataFrame(evaluation_dict_xgbr_acv)"
   ]
  },
  {
   "cell_type": "code",
   "execution_count": null,
   "metadata": {
    "code_folding": [
     0
    ]
   },
   "outputs": [],
   "source": [
    "# Create Variables for Visualisation, All GFS Variables as Features:\n",
    "\n",
    "# Append Mean Values of Evaluation Metrics:\n",
    "evaluation_xgbr_acv2 = evaluation_xgbr_acv.copy()\n",
    "evaluation_xgbr_acv2 = evaluation_xgbr_acv2.append(evaluation_xgbr_acv.mean(), ignore_index=True)\n",
    "\n",
    "# Create New Index for Evaluation Metrics DataFrames:\n",
    "fold_list = list(range(1, len(evaluation_xgbr_acv)+1))\n",
    "index_list  = ['Fold ' + str(fold) for fold in fold_list] + ['CV Mean']\n",
    "evaluation_xgbr_acv2.index = index_list\n",
    "\n",
    "\n",
    "# Create accumulated EinsMan test and pred Variables (append all Cross Folds together):\n",
    "# ---> Visualise all (Relative) Differences between True and Predicted EinsMan Volumes:\n",
    "\n",
    "# Append EinsMan Test Values:\n",
    "y_acv_test_xgbr_day_sum_flatlist_EinsMan_MWh = y_acv_test_xgbr_day_sum_frac_list[0].EinsMan_test_MWh.values\n",
    "\n",
    "for i in range(1, len(y_acv_test_xgbr_day_sum_frac_list)):\n",
    "    y_acv_test_xgbr_day_sum_flatlist_EinsMan_MWh = np.append(y_acv_test_xgbr_day_sum_flatlist_EinsMan_MWh, \n",
    "                                                              y_acv_test_xgbr_day_sum_frac_list[i].EinsMan_test_MWh.values)\n",
    "\n",
    "    \n",
    "# Append Power Avail Values:    \n",
    "y_acv_test_xgbr_day_sum_flatlist_Power_avail_norm = y_acv_test_xgbr_day_sum_frac_list[0].Power_avail_norm.values\n",
    "\n",
    "for i in range(1, len(y_acv_test_xgbr_day_sum_frac_list)):\n",
    "    y_acv_test_xgbr_day_sum_flatlist_Power_avail_norm = np.append(y_acv_test_xgbr_day_sum_flatlist_Power_avail_norm, \n",
    "                                                              y_acv_test_xgbr_day_sum_frac_list[i].Power_avail_norm.values)\n",
    "    \n",
    "    \n",
    "# Append EinsMan Predicted Values:\n",
    "y_acv_pred_xgbr_day_sum_flatlist_EinsMan_MWh = y_acv_pred_xgbr_day_sum_frac_list[0].EinsMan_all_pred_MWh.values\n",
    "\n",
    "for i in range(1, len(y_acv_pred_xgbr_day_sum_frac_list)):\n",
    "    y_acv_pred_xgbr_day_sum_flatlist_EinsMan_MWh = np.append(y_acv_pred_xgbr_day_sum_flatlist_EinsMan_MWh, \n",
    "                                                              y_acv_pred_xgbr_day_sum_frac_list[i].EinsMan_all_pred_MWh.values)\n",
    "    \n",
    "    \n",
    "# Total Test Set EinsMan Sums for every Fold in Cross Validation:    \n",
    "\n",
    "# True Test Set EinsMan Sum (every Fold):\n",
    "EinsMan_test_norm_sum_acv_xgbr = y_acv_test_xgbr_day_sum_frac_list[0]['EinsMan_test_norm'].sum()\n",
    "\n",
    "for i in range(1, len(y_acv_test_xgbr_day_sum_frac_list)):\n",
    "    EinsMan_test_norm_sum_acv_xgbr = np.append(EinsMan_test_norm_sum_acv_xgbr, \n",
    "                                      y_acv_test_xgbr_day_sum_frac_list[i]['EinsMan_test_norm'].sum())\n",
    "    \n",
    "\n",
    "# Predicted Test Set EinsMan Sum (every Fold):\n",
    "EinsMan_pred_norm_sum_acv_xgbr = y_acv_pred_xgbr_day_sum_frac_list[0]['EinsMan_all_pred_norm'].sum()\n",
    "\n",
    "for i in range(1, len(y_acv_pred_xgbr_day_sum_frac_list)):\n",
    "    EinsMan_pred_norm_sum_acv_xgbr = np.append(EinsMan_pred_norm_sum_acv_xgbr, \n",
    "                                      y_acv_pred_xgbr_day_sum_frac_list[i]['EinsMan_all_pred_norm'].sum())"
   ]
  },
  {
   "cell_type": "code",
   "execution_count": null,
   "metadata": {},
   "outputs": [],
   "source": []
  },
  {
   "cell_type": "code",
   "execution_count": null,
   "metadata": {
    "code_folding": [
     0
    ]
   },
   "outputs": [],
   "source": [
    "# Cross Validation All GFS Variables of R2, RMSE and MAE for \n",
    "\n",
    "x  = evaluation_xgbr_acv2.index\n",
    "y1 = evaluation_xgbr_acv2.R2.values\n",
    "y2 = evaluation_xgbr_acv2.RMSE.values\n",
    "y3 = evaluation_xgbr_acv2.MAE.values\n",
    "\n",
    "fig = go.Figure()\n",
    "\n",
    "fig = make_subplots(specs=[[{\"secondary_y\": True}]])\n",
    "\n",
    "fig.add_trace(go.Bar(x=x, y=y1,\n",
    "                     name='R2 Score',\n",
    "                     marker_color='#3179b8',\n",
    "                     opacity=0.9),\n",
    "                     secondary_y=False)\n",
    "\n",
    "fig.add_trace(go.Bar(x=x, y=y2,\n",
    "                     name='RMSE',\n",
    "                     marker_color='#ed694a',\n",
    "                     opacity=0.9),\n",
    "                     secondary_y=True)\n",
    "\n",
    "fig.add_trace(go.Bar(x=x, y=y3,\n",
    "                     name='MAE',\n",
    "                     marker_color= '#ebc95d',  #'#b8241d',\n",
    "                     opacity=0.9),\n",
    "                     secondary_y=True)\n",
    "\n",
    "fig.update_yaxes(title_text='R2 Score', range=[0,0.85], secondary_y=False)#, nticks=8)\n",
    "#fig.update_yaxes(nticks=6)\n",
    "#fig.update_yaxes(range=[0, max(y2) + (y2/100)*30], secondary_y=False)\n",
    "fig.update_yaxes(title_text='Error Values', range=[0,0.08], secondary_y=True)#, nticks=10)\n",
    "\n",
    "\n",
    "fig.update_layout(barmode='group',\n",
    "                  bargap=0.15,\n",
    "                  bargroupgap=0.1,\n",
    "                  title_text='Cross Validation of R2 Score, RMSE and MAE (xgbr)',\n",
    "#                  #xaxis_title = 'Time',\n",
    "#                 yaxis_title = 'Error Values',\n",
    "#                  xaxis_tickangle=-0,\n",
    "                  #xaxis_rangeslider_visible=True,\n",
    "                  #paper_bgcolor='#C8C8C8',\n",
    "                  # font=dict(family='Courier New, monospace', size=18, color='#7f7f7f')\n",
    "                  plot_bgcolor='#F0F0F0')\n",
    "\n",
    "\n",
    "\n",
    "\n",
    "fig.show()"
   ]
  },
  {
   "cell_type": "code",
   "execution_count": null,
   "metadata": {
    "code_folding": [
     0
    ]
   },
   "outputs": [],
   "source": [
    "# Cross Validation of Total Test Set EinsMan in MWh (every Fold):\n",
    "\n",
    "norm_to_GWh = 280/(6*1000)    # 280 MW installed (normed), 10 min resolution (1/6), MW to GW (1/1000)\n",
    "fold_list = list(range(1, len(EinsMan_test_norm_sum_acv_xgbr)+1))\n",
    "\n",
    "x  = ['Fold ' + str(fold) for fold in fold_list]\n",
    "y1 = EinsMan_test_norm_sum_acv_xgbr * norm_to_GWh\n",
    "y2 = EinsMan_pred_norm_sum_acv_xgbr * norm_to_GWh\n",
    "#y3 = EinsMan_pred_norm_sum_awcv_xgbr * norm_to_GWh\n",
    "#y4 = EinsMan_pred_norm_sum_w100cv_xgbr * norm_to_GWh\n",
    "\n",
    "fig = go.Figure()\n",
    "\n",
    "fig.add_trace(go.Bar(x=x, y=y1,\n",
    "                     name='EinsMan True',\n",
    "                     marker_color='#1468a2'))\n",
    "\n",
    "fig.add_trace(go.Bar(x=x, y=y2,\n",
    "                     name='EinsMan Predicted (all)',\n",
    "                     marker_color='#ffca1b'))\n",
    "\n",
    "#fig.add_trace(go.Bar(x=x, y=y3,\n",
    "#                     name='EinsMan Predicted (allwind)',\n",
    "#                     marker_color='#eb4a4c'))\n",
    "\n",
    "#fig.add_trace(go.Bar(x=x, y=y4,\n",
    "#                     name='EinsMan Predicted (wind100m)',\n",
    "#                     marker_color='#00ad67'))\n",
    "\n",
    "\n",
    "#fig.add_trace(go.Bar(x=x, y=y3,\n",
    "#                     name='Power Available',\n",
    "#                     marker_color='#606060'))\n",
    "\n",
    "fig.update_layout(barmode='group',\n",
    "                  bargap=0.15,\n",
    "                  bargroupgap=0.1,\n",
    "                  title_text='Cross Validation of Total Test Set EinsMan in MWh (xgbr)',\n",
    "                  #xaxis_title = 'Time',\n",
    "                  yaxis_title = 'Total EinsMan in MWh',\n",
    "                  xaxis_tickangle=-0,\n",
    "                  #xaxis_rangeslider_visible=True,\n",
    "                  #paper_bgcolor='#C8C8C8',\n",
    "                  # font=dict(family='Courier New, monospace', size=18, color='#7f7f7f')\n",
    "                  plot_bgcolor='#F0F0F0')\n",
    "\n",
    "\n",
    "fig.show()"
   ]
  },
  {
   "cell_type": "code",
   "execution_count": null,
   "metadata": {},
   "outputs": [],
   "source": []
  },
  {
   "cell_type": "code",
   "execution_count": null,
   "metadata": {},
   "outputs": [],
   "source": []
  },
  {
   "cell_type": "code",
   "execution_count": null,
   "metadata": {},
   "outputs": [],
   "source": []
  },
  {
   "cell_type": "code",
   "execution_count": null,
   "metadata": {},
   "outputs": [],
   "source": []
  },
  {
   "cell_type": "code",
   "execution_count": null,
   "metadata": {},
   "outputs": [],
   "source": [
    "xgbr_a = XGBRegressor(max_depth=5, learning_rate=0.4, n_estimators=100, random_state=1)\n",
    "xgbr_a.fit(X_a_train, y_a_train)\n",
    "y_a_pred_xgbr = xgbr_a.predict(X_a_test)\n",
    "y_a_train_pred_xgbr = xgbr_a.predict(X_a_train)"
   ]
  },
  {
   "cell_type": "code",
   "execution_count": null,
   "metadata": {},
   "outputs": [],
   "source": [
    "reg_evaluation(y_a_test, y_a_pred_xgbr)"
   ]
  },
  {
   "cell_type": "code",
   "execution_count": null,
   "metadata": {},
   "outputs": [],
   "source": [
    "print(np.sum(y_a_test))\n",
    "print(np.sum(y_a_pred_xgbr))"
   ]
  },
  {
   "cell_type": "code",
   "execution_count": null,
   "metadata": {},
   "outputs": [],
   "source": [
    "reg_evaluation(y_a_train, y_a_train_pred_xgbr)"
   ]
  },
  {
   "cell_type": "code",
   "execution_count": null,
   "metadata": {},
   "outputs": [],
   "source": [
    "print(np.sum(y_a_train))\n",
    "print(np.sum(y_a_train_pred_xgbr))"
   ]
  },
  {
   "cell_type": "code",
   "execution_count": null,
   "metadata": {},
   "outputs": [],
   "source": []
  },
  {
   "cell_type": "code",
   "execution_count": null,
   "metadata": {},
   "outputs": [],
   "source": []
  },
  {
   "cell_type": "code",
   "execution_count": null,
   "metadata": {},
   "outputs": [],
   "source": []
  },
  {
   "cell_type": "code",
   "execution_count": null,
   "metadata": {},
   "outputs": [],
   "source": []
  },
  {
   "cell_type": "code",
   "execution_count": null,
   "metadata": {},
   "outputs": [],
   "source": []
  },
  {
   "cell_type": "markdown",
   "metadata": {},
   "source": [
    "### Model Comparison: "
   ]
  },
  {
   "cell_type": "code",
   "execution_count": null,
   "metadata": {},
   "outputs": [],
   "source": []
  },
  {
   "cell_type": "markdown",
   "metadata": {},
   "source": [
    "#### Prediction Plots:"
   ]
  },
  {
   "cell_type": "code",
   "execution_count": null,
   "metadata": {},
   "outputs": [],
   "source": []
  },
  {
   "cell_type": "code",
   "execution_count": null,
   "metadata": {
    "code_folding": [
     0
    ],
    "scrolled": false
   },
   "outputs": [],
   "source": [
    "# Plotly Visualisation of Predicted and Actual EinsMan values and Available Power:\n",
    "# all values are normed values, here displayed in % of total installed power (~280 MW)\n",
    "\n",
    "# Comparing Results for following Models while using All GFS Variables as Features:\n",
    "# - K-NeighborsRegressor\n",
    "# - RandomForestRegressor (Ensemble of small Decision Trees, combined in parallel)\n",
    "# - XGBoostRegressor (Ensemble of small Decision Trees, combined to sequentially learn)\n",
    "\n",
    "fig = go.Figure()\n",
    "#fig = go.FigureWidget(data=data, layout=layout)\n",
    "\n",
    "#x  = y_test_pred_avail_10min.index\n",
    "#y1 = y_test_pred_avail_10min['EinsMan_true_norm']*100\n",
    "#y2 = y_test_pred_avail_10min['EinsMan_pred_norm']*100\n",
    "#y3 = y_test_pred_avail_10min['Power_avail_norm']*100\n",
    "\n",
    "\n",
    "# show results only for timeframe:\n",
    "\n",
    "tf_start = '2018-01'\n",
    "tf_end   = '2019-08'\n",
    "timeframe = (y_a_test_pred_knr_avail_10min.index >= tf_start) & (y_a_test_pred_knr_avail_10min.index <= tf_end)\n",
    "\n",
    "x  = y_a_test_pred_knr_avail_10min[timeframe].index\n",
    "y1 = y_a_test_pred_knr_avail_10min[timeframe]['EinsMan_true_norm']*100\n",
    "y2 = y_a_test_pred_lreg_avail_10min[timeframe]['EinsMan_all_pred_norm']*100\n",
    "y3 = y_a_test_pred_knr_avail_10min[timeframe]['EinsMan_all_pred_norm']*100\n",
    "y4 = y_a_test_pred_rfr_avail_10min[timeframe]['EinsMan_all_pred_norm']*100\n",
    "y5 = y_a_test_pred_xgbr_avail_10min[timeframe]['EinsMan_all_pred_norm']*100\n",
    "\n",
    "#y3 = y_aw_test_pred_knr_avail_10min[timeframe]['EinsMan_allwind_pred_norm']*100\n",
    "#y4 = y_w100_test_pred_knr_avail_10min[timeframe]['EinsMan_wind100m_pred_norm']*100\n",
    "y6 = y_a_test_pred_knr_avail_10min[timeframe]['Power_avail_norm']*100\n",
    "\n",
    "\n",
    "\n",
    "fig.add_trace(go.Scatter(x=x, y=y1,\n",
    "                         name='EinsMan True',\n",
    "                         line_color='#1468a2',\n",
    "                         line_width=3.8)) # deepskyblue\n",
    "\n",
    "fig.add_trace(go.Scatter(x=x, y=y2,\n",
    "                         name='EinsMan Predicted (lreg)',\n",
    "                         line_color='#9b4968',\n",
    "                         line_width=2.7,\n",
    "                         opacity=0.9)) # dimgray, #29A073, yellow: #ffca1b\n",
    "\n",
    "fig.add_trace(go.Scatter(x=x, y=y3,\n",
    "                         name='EinsMan Predicted (knr)',\n",
    "                         line_color='#ffca1b',\n",
    "                         line_width=2.7,\n",
    "                         opacity=0.9)) # dimgray, #29A073, yellow: #ffca1b\n",
    "\n",
    "fig.add_trace(go.Scatter(x=x, y=y4,\n",
    "                         name='EinsMan Predicted (rfr)',\n",
    "                         line_color='#eb4a4c',\n",
    "                         line_width=2.7,\n",
    "                         opacity=0.9)) # dimgray, #29A073  line_dash= 'dash', 'dot', or 'dashdot'\n",
    "\n",
    "fig.add_trace(go.Scatter(x=x, y=y5,\n",
    "                         name='EinsMan Predicted (xgbr)',\n",
    "                         line_color='#00ad67',\n",
    "                         line_width=2.7,\n",
    "                         opacity=0.9)) # dimgray, #29A073\n",
    "\n",
    "fig.add_trace(go.Scatter(x=x, y=y6,\n",
    "                         name='Power Available',\n",
    "                         line_color='#606060',\n",
    "                         line_width=3.8)) # dimgray, #29A073\n",
    "\n",
    "#1468a2 #ffca1b #eb4a4c #00ad67 #606060\n",
    "\n",
    "#fig.add_trace(go.Scatter(x=x, y=y3,\n",
    "#                         name='EinsMan Predicted (allwind)',\n",
    "#                         line_color='#eb4a4c',\n",
    "#                         line_width=2,\n",
    "#                         opacity=0.8)) # deepskyblue\n",
    "\n",
    "#fig.add_trace(go.Scatter(x=x, y=y4,\n",
    "#                         name='EinsMan Predicted (wind100m)',\n",
    "#                         line_color='#00b087',\n",
    "#                         line_width=2,\n",
    "#                         opacity=0.8)) # dimgray, #29A073\n",
    "\n",
    "\n",
    "\n",
    "\n",
    "fig.update_layout(title_text='Time Series of EinsMan Events (all features)',\n",
    "                  #xaxis_title = 'Time',\n",
    "                  yaxis_title = 'Power in % of installed Total (280 MW)',\n",
    "                  #xaxis_rangeslider_visible=True,\n",
    "                  #paper_bgcolor='#C8C8C8',\n",
    "                  # font=dict(family='Courier New, monospace', size=18, color='#7f7f7f')\n",
    "                  plot_bgcolor='#F0F0F0')\n",
    "\n",
    "\n",
    "fig.update_xaxes(range=['2018-02-14','2018-02-17'])\n",
    "\n",
    "   \n",
    "#fig.layout.on_change(zoom, 'xaxis.range')\n",
    "\n",
    "#fig.hoverlabel.opacity=0.5\n",
    "#fig.write_image('folder/image_name.png or jpeg or pdf)') # only select 3 day period of interest in dataframe\n",
    "fig.show()"
   ]
  },
  {
   "cell_type": "code",
   "execution_count": null,
   "metadata": {},
   "outputs": [],
   "source": []
  },
  {
   "cell_type": "code",
   "execution_count": null,
   "metadata": {
    "code_folding": [
     0
    ]
   },
   "outputs": [],
   "source": [
    "# Plotly Visualisation of Predicted and Actual EinsMan and Available Power daily sums in MWh:\n",
    "# all values are daily sums, here displayed in MWh\n",
    "# total installed power equals a maximum daily sum of 6720 MWh\n",
    "\n",
    "\n",
    "#x  = y_test_rfr_day_sum_frac.index\n",
    "#y1 = y_test_rfr_day_sum_frac.EinsMan_test_MWh\n",
    "#y2 = y_pred_rfr_day_sum_frac.EinsMan_pred_MWh\n",
    "#y3 = y_test_rfr_day_sum_frac.Power_avail_MWh\n",
    "\n",
    "\n",
    "# \n",
    "tf_start = '2018-01'\n",
    "tf_end   = '2019-08'\n",
    "timeframe = (y_a_test_xgbr_day_sum_frac.index >= tf_start) & (y_a_test_xgbr_day_sum_frac.index <= tf_end)\n",
    "\n",
    "x  = y_a_test_xgbr_day_sum_frac[timeframe].index\n",
    "y1 = y_a_test_xgbr_day_sum_frac[timeframe].EinsMan_test_MWh\n",
    "y2 = y_a_pred_lreg_day_sum_frac[timeframe].EinsMan_all_pred_MWh\n",
    "y3 = y_a_pred_knr_day_sum_frac[timeframe].EinsMan_all_pred_MWh\n",
    "y4 = y_a_pred_rfr_day_sum_frac[timeframe].EinsMan_all_pred_MWh\n",
    "y5 = y_a_pred_xgbr_day_sum_frac[timeframe].EinsMan_all_pred_MWh\n",
    "y6 = y_a_test_xgbr_day_sum_frac[timeframe].Power_avail_MWh\n",
    "\n",
    "fig = go.Figure()\n",
    "\n",
    "fig.add_trace(go.Bar(x=x, y=y1,\n",
    "                     name='EinsMan True',\n",
    "                     marker_color='#1468a2'))\n",
    "\n",
    "fig.add_trace(go.Bar(x=x, y=y2,\n",
    "                     name='EinsMan Predicted (lreg)',\n",
    "                     marker_color='#9b4968'))\n",
    "\n",
    "fig.add_trace(go.Bar(x=x, y=y3,\n",
    "                     name='EinsMan Predicted (knr)',\n",
    "                     marker_color='#ffca1b'))\n",
    "\n",
    "fig.add_trace(go.Bar(x=x, y=y4,\n",
    "                     name='EinsMan Predicted (rfr)',\n",
    "                     marker_color='#eb4a4c')) # #8637ff\n",
    "\n",
    "fig.add_trace(go.Bar(x=x, y=y5,\n",
    "                     name='EinsMan Predicted (xgbr)',\n",
    "                     marker_color='#00ad67'))\n",
    "\n",
    "fig.add_trace(go.Bar(x=x, y=y6,\n",
    "                     name='Power Available',\n",
    "                     marker_color='#606060'))\n",
    "\n",
    "\n",
    "\n",
    "fig.update_layout(barmode='group',\n",
    "                  bargap=0.15,\n",
    "                  bargroupgap=0.1,\n",
    "                  title_text='Daily Sum of EinsMan Events in MWh (all features)',\n",
    "                  #xaxis_title = 'Time',\n",
    "                  yaxis_title = 'Power in MWh (max 6720)',\n",
    "                  xaxis_tickangle=-0,\n",
    "                  #xaxis_rangeslider_visible=True,\n",
    "                  #paper_bgcolor='#C8C8C8',\n",
    "                  # font=dict(family='Courier New, monospace', size=18, color='#7f7f7f')\n",
    "                  plot_bgcolor='#F0F0F0')\n",
    "\n",
    "fig.update_xaxes(range=['2018-02-14','2018-02-16'])\n",
    "\n",
    "\n",
    "fig.show()"
   ]
  },
  {
   "cell_type": "code",
   "execution_count": null,
   "metadata": {},
   "outputs": [],
   "source": []
  },
  {
   "cell_type": "code",
   "execution_count": null,
   "metadata": {},
   "outputs": [],
   "source": []
  },
  {
   "cell_type": "markdown",
   "metadata": {},
   "source": [
    "#### Cross Validation (compare results):"
   ]
  },
  {
   "cell_type": "code",
   "execution_count": null,
   "metadata": {},
   "outputs": [],
   "source": []
  },
  {
   "cell_type": "code",
   "execution_count": null,
   "metadata": {
    "code_folding": [
     0
    ]
   },
   "outputs": [],
   "source": [
    "# Cross Validation of Total Test Set EinsMan in MWh (every Fold):\n",
    "\n",
    "norm_to_GWh = 280/(6*1000)    # 280 MW installed (normed), 10 min resolution (1/6), MW to GW (1/1000)\n",
    "fold_list = list(range(1, len(EinsMan_test_norm_sum_acv_xgbr)+1))\n",
    "\n",
    "x  = ['Fold ' + str(fold) for fold in fold_list]\n",
    "y1 = EinsMan_test_norm_sum_acv_xgbr * norm_to_GWh\n",
    "y2 = EinsMan_pred_norm_sum_acv_lreg * norm_to_GWh \n",
    "y3 = EinsMan_pred_norm_sum_acv_knr * norm_to_GWh \n",
    "y4 = EinsMan_pred_norm_sum_acv_rfr * norm_to_GWh\n",
    "y5 = EinsMan_pred_norm_sum_acv_xgbr * norm_to_GWh\n",
    "\n",
    "fig = go.Figure()\n",
    "\n",
    "fig.add_trace(go.Bar(x=x, y=y1,\n",
    "                     name='EinsMan True',\n",
    "                     marker_color='#1468a2'))\n",
    "\n",
    "fig.add_trace(go.Bar(x=x, y=y2,\n",
    "                     name='EinsMan Predicted (lreg)',\n",
    "                     marker_color='#9b4968'))\n",
    "\n",
    "fig.add_trace(go.Bar(x=x, y=y3,\n",
    "                     name='EinsMan Predicted (knr)',\n",
    "                     marker_color='#ffca1b'))\n",
    "\n",
    "fig.add_trace(go.Bar(x=x, y=y4,\n",
    "                     name='EinsMan Predicted (rfr)',\n",
    "                     marker_color='#eb4a4c'))\n",
    "\n",
    "fig.add_trace(go.Bar(x=x, y=y5,\n",
    "                     name='EinsMan Predicted (xgbr)',\n",
    "                     marker_color='#00ad67'))\n",
    "\n",
    "\n",
    "#fig.add_trace(go.Bar(x=x, y=y3,\n",
    "#                     name='Power Available',\n",
    "#                     marker_color='#606060'))\n",
    "\n",
    "fig.update_layout(barmode='group',\n",
    "                  bargap=0.15,\n",
    "                  bargroupgap=0.1,\n",
    "                  title_text='Cross Validation of Total Test Set EinsMan in GWh (all features)',\n",
    "                  #xaxis_title = 'Time',\n",
    "                  yaxis_title = 'Total EinsMan in GWh',\n",
    "                  xaxis_tickangle=-0,\n",
    "                  #xaxis_rangeslider_visible=True,\n",
    "                  #paper_bgcolor='#C8C8C8',\n",
    "                  # font=dict(family='Courier New, monospace', size=18, color='#7f7f7f')\n",
    "                  plot_bgcolor='#F0F0F0')\n",
    "\n",
    "\n",
    "fig.show()"
   ]
  },
  {
   "cell_type": "code",
   "execution_count": null,
   "metadata": {},
   "outputs": [],
   "source": []
  },
  {
   "cell_type": "code",
   "execution_count": null,
   "metadata": {
    "code_folding": [
     0
    ]
   },
   "outputs": [],
   "source": [
    "# Cross Validation of Daily Sum Differences True - Predicted (all Folds concatenated):\n",
    "\n",
    "\n",
    "#x = np.array(y_acv_test_rfr_day_sum_frac_list_EinsMan_test_MWh)\n",
    "#y1 = (np.array(y_acv_pred_rfr_day_sum_frac_list_EinsMan_all_pred_MWh) - x) / x * 100\n",
    "#z = np.array(y_acv_test_rfr_day_sum_frac_list_Power_avail_norm) / 5\n",
    "\n",
    "x  = y_acv_test_rfr_day_sum_flatlist_EinsMan_MWh\n",
    "y1 = (y_acv_pred_lreg_day_sum_flatlist_EinsMan_MWh - x) / x * 100\n",
    "y2 = (y_acv_pred_knr_day_sum_flatlist_EinsMan_MWh - x) / x * 100\n",
    "y3 = (y_acv_pred_rfr_day_sum_flatlist_EinsMan_MWh - x) / x * 100\n",
    "y4 = (y_acv_pred_xgbr_day_sum_flatlist_EinsMan_MWh - x) / x * 100\n",
    "z  = y_acv_test_rfr_day_sum_flatlist_Power_avail_norm / 5\n",
    "\n",
    "\n",
    "\n",
    "\n",
    "#x = y_a_test_rfr_day_sum_frac.EinsMan_test_MWh\n",
    "#y1 = (y_a_pred_rfr_day_sum_frac.EinsMan_all_pred_MWh - x) / x * 100\n",
    "#y2 = (y_aw_pred_rfr_day_sum_frac.EinsMan_allwind_pred_MWh - x) / x * 100\n",
    "#y3 = (y_w100_pred_rfr_day_sum_frac.EinsMan_wind100m_pred_MWh - x) / x * 100\n",
    "#y4 = y_a_test_rfr_day_sum_frac.Power_avail_norm / 5\n",
    "\n",
    "fig = go.Figure()\n",
    "\n",
    "#fig.add_trace(go.Bar(x=x, y=y1,\n",
    "#                     name='EinsMan True',\n",
    "#                     marker_color='#1468a2'))\n",
    "\n",
    "\n",
    "fig.add_trace(go.Scatter(x=x, y=y1,\n",
    "                     name='EinsMan Predicted (lreg)',\n",
    "                     mode='markers',\n",
    "                     marker_color='#9b4968',\n",
    "                     marker_size=z))\n",
    "\n",
    "fig.add_trace(go.Scatter(x=x, y=y1,\n",
    "                     name='EinsMan Predicted (knr)',\n",
    "                     mode='markers',\n",
    "                     marker_color='#ffca1b',\n",
    "                     marker_size=z))\n",
    "\n",
    "fig.add_trace(go.Scatter(x=x, y=y2,\n",
    "                     name='EinsMan Predicted (rfr)',\n",
    "                     mode='markers',\n",
    "                     marker_color='#eb4a4c',\n",
    "                     marker_size=z)) # #8637ff\n",
    "\n",
    "fig.add_trace(go.Scatter(x=x, y=y3,\n",
    "                     name='EinsMan Predicted (xgbr)',\n",
    "                     mode='markers',\n",
    "                     marker_color='#00ad67',\n",
    "                     marker_size=z))\n",
    "\n",
    "\n",
    "\n",
    "#fig.add_trace(go.Bar(x=x, y=y5,\n",
    "#                     name='Power Available',\n",
    "#                     marker_color='#606060'))\n",
    "\n",
    "\n",
    "fig.update_layout(title_text='Relative Difference of Daily Sums EinsMan Predicted and True (all features)',\n",
    "                  xaxis_title='Daily Sum EinsMan True in MWh',\n",
    "                  yaxis_title='Rel Diff in % (Pred - True) / True',\n",
    "                  plot_bgcolor='#F0F0F0')\n",
    "\n",
    "fig.update_yaxes(range=[-100,350])\n",
    "\n",
    "#fig.update_layout(barmode='group',\n",
    "#                  bargap=0.15,\n",
    "#                  bargroupgap=0.1,\n",
    "#                  title_text='Daily Sum of EinsMan Events in MWh',\n",
    "#                  #xaxis_title = 'Time',\n",
    "#                  yaxis_title = 'Daily Power in MWh (max 6720)',\n",
    "#                  xaxis_tickangle=-45,\n",
    "#                  #xaxis_rangeslider_visible=True,\n",
    "#                  #paper_bgcolor='#C8C8C8',\n",
    "#                  # font=dict(family='Courier New, monospace', size=18, color='#7f7f7f')\n",
    "#                  plot_bgcolor='#F0F0F0')\n",
    "\n",
    "\n",
    "fig.show()"
   ]
  },
  {
   "cell_type": "code",
   "execution_count": null,
   "metadata": {},
   "outputs": [],
   "source": []
  },
  {
   "cell_type": "code",
   "execution_count": null,
   "metadata": {},
   "outputs": [],
   "source": []
  },
  {
   "cell_type": "code",
   "execution_count": null,
   "metadata": {},
   "outputs": [],
   "source": []
  },
  {
   "cell_type": "markdown",
   "metadata": {},
   "source": [
    "# Demo Prediction:"
   ]
  },
  {
   "cell_type": "code",
   "execution_count": null,
   "metadata": {},
   "outputs": [],
   "source": [
    "# Random Forest Regression:"
   ]
  },
  {
   "cell_type": "code",
   "execution_count": null,
   "metadata": {
    "code_folding": []
   },
   "outputs": [],
   "source": [
    "tfd_start = '2019-03-12 00:00'\n",
    "tfd_end = '2019-03-18 23:50'"
   ]
  },
  {
   "cell_type": "code",
   "execution_count": null,
   "metadata": {
    "code_folding": [
     0
    ]
   },
   "outputs": [],
   "source": [
    "# Train-Test Timeframe Split for all GFS variables as features:\n",
    "\n",
    "X_a_train_tfd, X_a_test_tfd, y_a_train_tfd, y_a_test_tfd = train_test_timeframe_split(X_a,\n",
    "                                                                                      y_a,\n",
    "                                                                                      tfd_start,\n",
    "                                                                                      tfd_end)"
   ]
  },
  {
   "cell_type": "code",
   "execution_count": null,
   "metadata": {
    "code_folding": [
     0
    ]
   },
   "outputs": [],
   "source": [
    "## Model Fit and Predict for All GFS Variables as Features (TimeFrame Split):\n",
    "rfr_a_tfd = RandomForestRegressor(n_jobs=-1, random_state=0, n_estimators=100)\n",
    "\n",
    "## Fit Regressor to Train Data Set:\n",
    "rfr_a_tfd.fit(X_a_train_tfd, y_a_train_tfd.values.ravel())\n",
    "\n",
    "## Predict Target Values on Test Data:\n",
    "y_a_pred_rfr_tfd = rfr_a_tfd.predict(X_a_test_tfd)\n",
    "\n",
    "## Predict Target Values on Training Data:\n",
    "y_a_pred_rfr_tfd = rfr_a_tfd.predict(X_a_test_tfd)"
   ]
  },
  {
   "cell_type": "code",
   "execution_count": null,
   "metadata": {
    "code_folding": [
     0
    ]
   },
   "outputs": [],
   "source": [
    "# Convert predictions to DataFrames for Prediction Plots:\n",
    "\n",
    "y_a_pred_rfr_tfd = pd.DataFrame(y_a_pred_rfr_tfd, columns=['EinsMan_all_pred_norm'], index=y_a_test_tfd.index)\n",
    "\n",
    "\n",
    "# Calculate Residuals = y_true - y_predicted:\n",
    "residuals_a_rfr_tfd = y_a_test_tfd.values - y_a_pred_rfr_tfd.values\n",
    "residuals_a_rfr_tfd = pd.DataFrame(residuals_a_rfr_tfd, columns=['Residuals_all_rfr_tfd'], index=y_a_test_tfd.index)\n",
    "\n",
    "\n",
    "# Determine daily sums and fractions of true (test set) EinsMan loss work (in MWh and %):\n",
    "y_a_test_rfr_tfd_day_sum_frac = einsman_daily_sum_and_frac_test(y_a_test_tfd)\n",
    "\n",
    "#y_test_rfr_day_sum_frac[:10]\n",
    "#y_test_rfr_day_sum_frac.EinsMan_test_MWh.sum()\n",
    "\n",
    "# Determine daily sums and fractions of predicted EinsMan loss work (in MWh and %):\n",
    "y_a_pred_rfr_tfd_day_sum_frac = einsman_daily_sum_and_frac_pred(y_a_pred_rfr_tfd, features='all')\n",
    "#y_pred_rfr_day_sum_frac[:10]\n",
    "#y_pred_rfr_day_sum_frac.EinsMan_pred_MWh.sum()\n",
    "\n",
    "\n",
    "# Prepare EinsMan test/predict and Power available DataFrame for Prediction Plots:\n",
    "\n",
    "# Power available at test data points:\n",
    "y_a_test_tfd_power_avail = df_gq_10min_nn.loc[y_a_test_tfd.index, 'power_available_norm'].to_frame()\n",
    "\n",
    "# Concatenate DataFrames together, and rename columns:\n",
    "y_a_test_pred_rfr_tfd_avail = pd.concat([y_a_test_tfd, y_a_pred_rfr_tfd, y_a_test_tfd_power_avail], axis=1)\n",
    "y_a_test_pred_rfr_tfd_avail.rename(columns={'losses_rtu_einsman_norm': 'EinsMan_true_norm',\n",
    "                                  'power_available_norm':'Power_avail_norm'}, inplace=True)\n",
    "\n",
    "# Prepare continuous DataFrame (10 min res) for plotting (no connecting lines between days):\n",
    "y_a_test_pred_rfr_tfd_avail_10min = y_a_test_pred_rfr_tfd_avail.resample('10T').asfreq()"
   ]
  },
  {
   "cell_type": "code",
   "execution_count": null,
   "metadata": {
    "code_folding": [
     0
    ]
   },
   "outputs": [],
   "source": [
    "# Plotly Visualisation of Predicted and Actual EinsMan values and Available Power:\n",
    "# all values are normed values, here displayed in % of total installed power (~280 MW)\n",
    "\n",
    "\n",
    "fig = go.Figure()\n",
    "#fig = go.FigureWidget(data=data, layout=layout)\n",
    "\n",
    "#x  = y_test_pred_avail_10min.index\n",
    "#y1 = y_test_pred_avail_10min['EinsMan_true_norm']*100\n",
    "#y2 = y_test_pred_avail_10min['EinsMan_pred_norm']*100\n",
    "#y3 = y_test_pred_avail_10min['Power_avail_norm']*100\n",
    "\n",
    "\n",
    "# show results only for timeframe:\n",
    "\n",
    "#tf_start = '2018-01'\n",
    "#tf_end   = '2019-08'\n",
    "tf_start = tfd_start\n",
    "tf_end   = tfd_end\n",
    "timeframe = (y_a_test_pred_rfr_tfd_avail_10min.index >= tf_start) & (y_a_test_pred_rfr_tfd_avail_10min.index <= tf_end)\n",
    "\n",
    "x  = y_a_test_pred_rfr_tfd_avail_10min[timeframe].index\n",
    "y1 = y_a_test_pred_rfr_tfd_avail_10min[timeframe]['EinsMan_true_norm']*100\n",
    "y2 = y_a_test_pred_rfr_tfd_avail_10min[timeframe]['EinsMan_all_pred_norm']*100\n",
    "y5 = y_a_test_pred_rfr_tfd_avail_10min[timeframe]['Power_avail_norm']*100\n",
    "\n",
    "\n",
    "\n",
    "fig.add_trace(go.Scatter(x=x, y=y1,\n",
    "                         name='EinsMan True',\n",
    "                         line_color='#1468a2',\n",
    "                         line_width=3)) # deepskyblue\n",
    "\n",
    "fig.add_trace(go.Scatter(x=x, y=y2,\n",
    "                         name='EinsMan Predicted',\n",
    "                         line_color='#ffca1b',\n",
    "                         line_width=3)) # dimgray, #29A073\n",
    "\n",
    "\n",
    "fig.add_trace(go.Scatter(x=x, y=y5,\n",
    "                         name='Power Available',\n",
    "                         line_color='#606060',\n",
    "                         line_width=3)) # dimgray, #29A073\n",
    "\n",
    "\n",
    "fig.update_layout(title_text='Time Series of EinsMan Events (rfr)',\n",
    "                  #xaxis_title = 'Time',\n",
    "                  yaxis_title = 'Power in % of installed Total (280 MW)',\n",
    "                  #xaxis_rangeslider_visible=True,\n",
    "                  #paper_bgcolor='#C8C8C8',\n",
    "                  # font=dict(family='Courier New, monospace', size=18, color='#7f7f7f')\n",
    "                  plot_bgcolor='#F0F0F0')\n",
    "\n",
    "#1468a2 #ffca1b #eb4a4c #00ad67 #606060\n",
    "\n",
    "#fig.update_xaxes(range=['2019-03-09','2019-03-19'])\n",
    "\n",
    "   \n",
    "#fig.layout.on_change(zoom, 'xaxis.range')\n",
    "\n",
    "#fig.hoverlabel.opacity=0.5\n",
    "#fig.write_image('folder/image_name.png or jpeg or pdf)') # only select 3 day period of interest in dataframe\n",
    "fig.show()"
   ]
  },
  {
   "cell_type": "code",
   "execution_count": null,
   "metadata": {},
   "outputs": [],
   "source": []
  },
  {
   "cell_type": "code",
   "execution_count": null,
   "metadata": {},
   "outputs": [],
   "source": [
    "# Linear Regression:"
   ]
  },
  {
   "cell_type": "code",
   "execution_count": null,
   "metadata": {
    "code_folding": []
   },
   "outputs": [],
   "source": [
    "tfd_start = '2019-03-12 00:00'\n",
    "tfd_end = '2019-03-18 23:50'"
   ]
  },
  {
   "cell_type": "code",
   "execution_count": null,
   "metadata": {
    "code_folding": [
     0
    ]
   },
   "outputs": [],
   "source": [
    "# Train-Test Timeframe Split for all GFS variables as features:\n",
    "\n",
    "X_a_train_tfd, X_a_test_tfd, y_a_train_tfd, y_a_test_tfd = train_test_timeframe_split(X_a,\n",
    "                                                                                      y_a,\n",
    "                                                                                      tfd_start,\n",
    "                                                                                      tfd_end)"
   ]
  },
  {
   "cell_type": "code",
   "execution_count": null,
   "metadata": {
    "code_folding": [
     0
    ]
   },
   "outputs": [],
   "source": [
    "# Model Fit and Predict with All GFS Variables as Features:\n",
    "\n",
    "# Instantiate Regressor:\n",
    "lreg_a_tfd = LinearRegression()\n",
    "\n",
    "# Polynomial Features:\n",
    "poly_features_tfd = PolynomialFeatures(degree=2)\n",
    "\n",
    "# Transform Features:\n",
    "X_a_train_poly_tfd  = poly_features_tfd.fit_transform(X_a_train_tfd)\n",
    "X_a_test_poly_tfd   = poly_features_tfd.fit_transform(X_a_test_tfd)\n",
    "#Xs_a_train_poly = poly_features.fit_transform(Xs_a_train)\n",
    "#Xs_a_test_poly  = poly_features.fit_transform(Xs_a_test)\n",
    "\n",
    "# Fit Regressor to Train Data Set:\n",
    "lreg_a_tfd.fit(X_a_train_poly_tfd, y_a_train_tfd.values.ravel())\n",
    "\n",
    "# Predict Target Values on Test Data:\n",
    "y_a_pred_lreg_tfd = lreg_a_tfd.predict(X_a_test_poly_tfd)\n",
    "\n",
    "# Predict Target Values on Training Data:\n",
    "y_a_train_pred_lreg_tfd = lreg_a_tfd.predict(X_a_train_poly_tfd)"
   ]
  },
  {
   "cell_type": "code",
   "execution_count": null,
   "metadata": {
    "code_folding": [
     0
    ]
   },
   "outputs": [],
   "source": [
    "# Convert predictions to DataFrames for Prediction Plots:\n",
    "\n",
    "y_a_pred_lreg_tfd = pd.DataFrame(y_a_pred_lreg_tfd, columns=['EinsMan_all_pred_norm'], index=y_a_test_tfd.index)\n",
    "\n",
    "\n",
    "# Calculate Residuals = y_true - y_predicted:\n",
    "residuals_a_lreg_tfd = y_a_test_tfd.values - y_a_pred_lreg_tfd.values\n",
    "residuals_a_lreg_tfd = pd.DataFrame(residuals_a_lreg_tfd, columns=['Residuals_all_lreg_tfd'], index=y_a_test_tfd.index)\n",
    "\n",
    "\n",
    "# Determine daily sums and fractions of true (test set) EinsMan loss work (in MWh and %):\n",
    "y_a_test_lreg_tfd_day_sum_frac = einsman_daily_sum_and_frac_test(y_a_test_tfd)\n",
    "\n",
    "#y_test_rfr_day_sum_frac[:10]\n",
    "#y_test_rfr_day_sum_frac.EinsMan_test_MWh.sum()\n",
    "\n",
    "# Determine daily sums and fractions of predicted EinsMan loss work (in MWh and %):\n",
    "y_a_pred_lreg_tfd_day_sum_frac = einsman_daily_sum_and_frac_pred(y_a_pred_lreg_tfd, features='all')\n",
    "#y_pred_rfr_day_sum_frac[:10]\n",
    "#y_pred_rfr_day_sum_frac.EinsMan_pred_MWh.sum()\n",
    "\n",
    "\n",
    "# Prepare EinsMan test/predict and Power available DataFrame for Prediction Plots:\n",
    "\n",
    "# Power available at test data points:\n",
    "y_a_test_tfd_power_avail = df_gq_10min_nn.loc[y_a_test_tfd.index, 'power_available_norm'].to_frame()\n",
    "\n",
    "# Concatenate DataFrames together, and rename columns:\n",
    "y_a_test_pred_lreg_tfd_avail = pd.concat([y_a_test_tfd, y_a_pred_lreg_tfd, y_a_test_tfd_power_avail], axis=1)\n",
    "y_a_test_pred_lreg_tfd_avail.rename(columns={'losses_rtu_einsman_norm': 'EinsMan_true_norm',\n",
    "                                  'power_available_norm':'Power_avail_norm'}, inplace=True)\n",
    "\n",
    "# Prepare continuous DataFrame (10 min res) for plotting (no connecting lines between days):\n",
    "y_a_test_pred_lreg_tfd_avail_10min = y_a_test_pred_lreg_tfd_avail.resample('10T').asfreq()"
   ]
  },
  {
   "cell_type": "code",
   "execution_count": null,
   "metadata": {
    "code_folding": [
     0
    ]
   },
   "outputs": [],
   "source": [
    "# Plotly Visualisation of Predicted and Actual EinsMan values and Available Power:\n",
    "# all values are normed values, here displayed in % of total installed power (~280 MW)\n",
    "\n",
    "\n",
    "fig = go.Figure()\n",
    "#fig = go.FigureWidget(data=data, layout=layout)\n",
    "\n",
    "#x  = y_test_pred_avail_10min.index\n",
    "#y1 = y_test_pred_avail_10min['EinsMan_true_norm']*100\n",
    "#y2 = y_test_pred_avail_10min['EinsMan_pred_norm']*100\n",
    "#y3 = y_test_pred_avail_10min['Power_avail_norm']*100\n",
    "\n",
    "\n",
    "# show results only for timeframe:\n",
    "\n",
    "tf_start = tfd_start\n",
    "tf_end   = tfd_end\n",
    "timeframe = (y_a_test_pred_lreg_tfd_avail_10min.index >= tf_start) & (y_a_test_pred_lreg_tfd_avail_10min.index <= tf_end)\n",
    "\n",
    "x  = y_a_test_pred_lreg_tfd_avail_10min[timeframe].index\n",
    "y1 = y_a_test_pred_lreg_tfd_avail_10min[timeframe]['EinsMan_true_norm']*100\n",
    "y2 = y_a_test_pred_lreg_tfd_avail_10min[timeframe]['EinsMan_all_pred_norm']*100\n",
    "y5 = y_a_test_pred_lreg_tfd_avail_10min[timeframe]['Power_avail_norm']*100\n",
    "\n",
    "#1468a2 #ffca1b #eb4a4c #00ad67 #606060\n",
    "\n",
    "fig.add_trace(go.Scatter(x=x, y=y1,\n",
    "                         name='EinsMan True',\n",
    "                         line_color='#1468a2',\n",
    "                         line_width=3)) # deepskyblue\n",
    "\n",
    "fig.add_trace(go.Scatter(x=x, y=y2,\n",
    "                         name='EinsMan Predicted',\n",
    "                         line_color='#ffca1b',\n",
    "                         line_width=3)) # dimgray, #29A073 , lreg red: #9b4968\n",
    "\n",
    "fig.add_trace(go.Scatter(x=x, y=y5,\n",
    "                         name='Power Available',\n",
    "                         line_color='#606060',\n",
    "                         line_width=3)) # dimgray, #29A073\n",
    "\n",
    "\n",
    "fig.update_layout(title_text='Time Series of EinsMan Event (lreg)',\n",
    "                  #xaxis_title = 'Time',\n",
    "                  yaxis_title = 'Power in % of installed Total (280 MW)',\n",
    "                  #xaxis_rangeslider_visible=True,\n",
    "                  #paper_bgcolor='#C8C8C8',\n",
    "                  # font=dict(family='Courier New, monospace', size=18, color='#7f7f7f')\n",
    "                  plot_bgcolor='#F0F0F0')\n",
    "\n",
    "\n",
    "#fig.update_xaxes(range=['2019-03-09','2019-03-19'])\n",
    "\n",
    "   \n",
    "#fig.layout.on_change(zoom, 'xaxis.range')\n",
    "\n",
    "#fig.hoverlabel.opacity=0.5\n",
    "#fig.write_image('folder/image_name.png or jpeg or pdf)') # only select 3 day period of interest in dataframe\n",
    "fig.show()"
   ]
  },
  {
   "cell_type": "code",
   "execution_count": null,
   "metadata": {},
   "outputs": [],
   "source": []
  },
  {
   "cell_type": "code",
   "execution_count": null,
   "metadata": {},
   "outputs": [],
   "source": []
  },
  {
   "cell_type": "code",
   "execution_count": null,
   "metadata": {},
   "outputs": [],
   "source": []
  }
 ],
 "metadata": {
  "kernelspec": {
   "display_name": "Python [conda env:nf] *",
   "language": "python",
   "name": "conda-env-nf-py"
  },
  "language_info": {
   "codemirror_mode": {
    "name": "ipython",
    "version": 3
   },
   "file_extension": ".py",
   "mimetype": "text/x-python",
   "name": "python",
   "nbconvert_exporter": "python",
   "pygments_lexer": "ipython3",
   "version": "3.6.6"
  },
  "toc": {
   "base_numbering": 1,
   "nav_menu": {},
   "number_sections": true,
   "sideBar": true,
   "skip_h1_title": false,
   "title_cell": "Table of Contents",
   "title_sidebar": "Contents",
   "toc_cell": true,
   "toc_position": {
    "height": "calc(100% - 180px)",
    "left": "10px",
    "top": "150px",
    "width": "288px"
   },
   "toc_section_display": true,
   "toc_window_display": true
  }
 },
 "nbformat": 4,
 "nbformat_minor": 2
}
